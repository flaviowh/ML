{
  "cells": [
    {
      "cell_type": "code",
      "execution_count": null,
      "metadata": {
        "id": "39RsSQ3CSJhX"
      },
      "outputs": [],
      "source": [
        "import pandas as pd\n",
        "import numpy as np\n",
        "import tensorflow as tf\n",
        "from tensorflow import keras\n",
        "import re\n",
        "import xgboost\n",
        "from sklearn.preprocessing import StandardScaler, Normalizer\n",
        "from sklearn.model_selection import train_test_split\n",
        "from sklearn.metrics import mean_squared_error, mean_absolute_error\n",
        "from sklearn.ensemble import RandomForestRegressor"
      ]
    },
    {
      "cell_type": "markdown",
      "metadata": {
        "id": "TuqVa4wKrW_h"
      },
      "source": [
        "Training a regressor to predict housing prices in a city of northeast Brazil with data scrapped from OLX listings\n",
        "\n",
        "**Results**: much of the data is dirty because of site users inserting wrong/incomplete information. Only features that helped predict prices consistently were meter area and location. Would be nice if the data were more real and contained geolocalization info. "
      ]
    },
    {
      "cell_type": "code",
      "execution_count": null,
      "metadata": {
        "id": "X_6zXXIwShqi"
      },
      "outputs": [],
      "source": [
        "tf.random.set_seed(33)\n",
        "np.random.seed(33)"
      ]
    },
    {
      "cell_type": "code",
      "execution_count": null,
      "metadata": {
        "id": "ldtGFAm1Sh9B"
      },
      "outputs": [],
      "source": [
        "data = r'/content/drive/MyDrive/Colab Notebooks/datafiles/jp_data_07_22.csv'"
      ]
    },
    {
      "cell_type": "code",
      "execution_count": null,
      "metadata": {
        "colab": {
          "base_uri": "https://localhost:8080/",
          "height": 424
        },
        "id": "dnTQtypgSiAb",
        "outputId": "3b9f7ff0-e598-4b48-8665-913f9ce955fe"
      },
      "outputs": [
        {
          "data": {
            "text/html": [
              "\n",
              "  <div id=\"df-cd772c47-1318-4310-b414-583875ba7ee4\">\n",
              "    <div class=\"colab-df-container\">\n",
              "      <div>\n",
              "<style scoped>\n",
              "    .dataframe tbody tr th:only-of-type {\n",
              "        vertical-align: middle;\n",
              "    }\n",
              "\n",
              "    .dataframe tbody tr th {\n",
              "        vertical-align: top;\n",
              "    }\n",
              "\n",
              "    .dataframe thead th {\n",
              "        text-align: right;\n",
              "    }\n",
              "</style>\n",
              "<table border=\"1\" class=\"dataframe\">\n",
              "  <thead>\n",
              "    <tr style=\"text-align: right;\">\n",
              "      <th></th>\n",
              "      <th>area</th>\n",
              "      <th>bedrooms</th>\n",
              "      <th>location</th>\n",
              "      <th>price</th>\n",
              "    </tr>\n",
              "  </thead>\n",
              "  <tbody>\n",
              "    <tr>\n",
              "      <th>0</th>\n",
              "      <td>277m²</td>\n",
              "      <td>4 quartos</td>\n",
              "      <td>João Pessoa, Manaíra</td>\n",
              "      <td>R$ 1.300.000</td>\n",
              "    </tr>\n",
              "    <tr>\n",
              "      <th>1</th>\n",
              "      <td>7300m²</td>\n",
              "      <td>3 quartos</td>\n",
              "      <td>João Pessoa, Gramame</td>\n",
              "      <td>R$ 230.000</td>\n",
              "    </tr>\n",
              "    <tr>\n",
              "      <th>2</th>\n",
              "      <td>277m²</td>\n",
              "      <td>4 quartos</td>\n",
              "      <td>João Pessoa, Manaíra</td>\n",
              "      <td>R$ 1.300.000</td>\n",
              "    </tr>\n",
              "    <tr>\n",
              "      <th>3</th>\n",
              "      <td>13000m²</td>\n",
              "      <td>3 quartos</td>\n",
              "      <td>João Pessoa, Cristo Redentor</td>\n",
              "      <td>R$ 235.000</td>\n",
              "    </tr>\n",
              "    <tr>\n",
              "      <th>4</th>\n",
              "      <td>NaN</td>\n",
              "      <td>NaN</td>\n",
              "      <td>NaN</td>\n",
              "      <td>NaN</td>\n",
              "    </tr>\n",
              "    <tr>\n",
              "      <th>...</th>\n",
              "      <td>...</td>\n",
              "      <td>...</td>\n",
              "      <td>...</td>\n",
              "      <td>...</td>\n",
              "    </tr>\n",
              "    <tr>\n",
              "      <th>5695</th>\n",
              "      <td>300m²</td>\n",
              "      <td>3 quartos</td>\n",
              "      <td>João Pessoa, Pedro Gondim</td>\n",
              "      <td>R$ 400.000</td>\n",
              "    </tr>\n",
              "    <tr>\n",
              "      <th>5696</th>\n",
              "      <td>235m²</td>\n",
              "      <td>3 quartos</td>\n",
              "      <td>João Pessoa, Portal do Sol</td>\n",
              "      <td>R$ 570.000</td>\n",
              "    </tr>\n",
              "    <tr>\n",
              "      <th>5697</th>\n",
              "      <td>180m²</td>\n",
              "      <td>2 quartos</td>\n",
              "      <td>João Pessoa, Expedicionários</td>\n",
              "      <td>R$ 560.000</td>\n",
              "    </tr>\n",
              "    <tr>\n",
              "      <th>5698</th>\n",
              "      <td>58m²</td>\n",
              "      <td>2 quartos</td>\n",
              "      <td>João Pessoa, Funcionários</td>\n",
              "      <td>R$ 155.000</td>\n",
              "    </tr>\n",
              "    <tr>\n",
              "      <th>5699</th>\n",
              "      <td>58m²</td>\n",
              "      <td>2 quartos</td>\n",
              "      <td>João Pessoa, Mangabeira</td>\n",
              "      <td>R$ 190.000</td>\n",
              "    </tr>\n",
              "  </tbody>\n",
              "</table>\n",
              "<p>5700 rows × 4 columns</p>\n",
              "</div>\n",
              "      <button class=\"colab-df-convert\" onclick=\"convertToInteractive('df-cd772c47-1318-4310-b414-583875ba7ee4')\"\n",
              "              title=\"Convert this dataframe to an interactive table.\"\n",
              "              style=\"display:none;\">\n",
              "        \n",
              "  <svg xmlns=\"http://www.w3.org/2000/svg\" height=\"24px\"viewBox=\"0 0 24 24\"\n",
              "       width=\"24px\">\n",
              "    <path d=\"M0 0h24v24H0V0z\" fill=\"none\"/>\n",
              "    <path d=\"M18.56 5.44l.94 2.06.94-2.06 2.06-.94-2.06-.94-.94-2.06-.94 2.06-2.06.94zm-11 1L8.5 8.5l.94-2.06 2.06-.94-2.06-.94L8.5 2.5l-.94 2.06-2.06.94zm10 10l.94 2.06.94-2.06 2.06-.94-2.06-.94-.94-2.06-.94 2.06-2.06.94z\"/><path d=\"M17.41 7.96l-1.37-1.37c-.4-.4-.92-.59-1.43-.59-.52 0-1.04.2-1.43.59L10.3 9.45l-7.72 7.72c-.78.78-.78 2.05 0 2.83L4 21.41c.39.39.9.59 1.41.59.51 0 1.02-.2 1.41-.59l7.78-7.78 2.81-2.81c.8-.78.8-2.07 0-2.86zM5.41 20L4 18.59l7.72-7.72 1.47 1.35L5.41 20z\"/>\n",
              "  </svg>\n",
              "      </button>\n",
              "      \n",
              "  <style>\n",
              "    .colab-df-container {\n",
              "      display:flex;\n",
              "      flex-wrap:wrap;\n",
              "      gap: 12px;\n",
              "    }\n",
              "\n",
              "    .colab-df-convert {\n",
              "      background-color: #E8F0FE;\n",
              "      border: none;\n",
              "      border-radius: 50%;\n",
              "      cursor: pointer;\n",
              "      display: none;\n",
              "      fill: #1967D2;\n",
              "      height: 32px;\n",
              "      padding: 0 0 0 0;\n",
              "      width: 32px;\n",
              "    }\n",
              "\n",
              "    .colab-df-convert:hover {\n",
              "      background-color: #E2EBFA;\n",
              "      box-shadow: 0px 1px 2px rgba(60, 64, 67, 0.3), 0px 1px 3px 1px rgba(60, 64, 67, 0.15);\n",
              "      fill: #174EA6;\n",
              "    }\n",
              "\n",
              "    [theme=dark] .colab-df-convert {\n",
              "      background-color: #3B4455;\n",
              "      fill: #D2E3FC;\n",
              "    }\n",
              "\n",
              "    [theme=dark] .colab-df-convert:hover {\n",
              "      background-color: #434B5C;\n",
              "      box-shadow: 0px 1px 3px 1px rgba(0, 0, 0, 0.15);\n",
              "      filter: drop-shadow(0px 1px 2px rgba(0, 0, 0, 0.3));\n",
              "      fill: #FFFFFF;\n",
              "    }\n",
              "  </style>\n",
              "\n",
              "      <script>\n",
              "        const buttonEl =\n",
              "          document.querySelector('#df-cd772c47-1318-4310-b414-583875ba7ee4 button.colab-df-convert');\n",
              "        buttonEl.style.display =\n",
              "          google.colab.kernel.accessAllowed ? 'block' : 'none';\n",
              "\n",
              "        async function convertToInteractive(key) {\n",
              "          const element = document.querySelector('#df-cd772c47-1318-4310-b414-583875ba7ee4');\n",
              "          const dataTable =\n",
              "            await google.colab.kernel.invokeFunction('convertToInteractive',\n",
              "                                                     [key], {});\n",
              "          if (!dataTable) return;\n",
              "\n",
              "          const docLinkHtml = 'Like what you see? Visit the ' +\n",
              "            '<a target=\"_blank\" href=https://colab.research.google.com/notebooks/data_table.ipynb>data table notebook</a>'\n",
              "            + ' to learn more about interactive tables.';\n",
              "          element.innerHTML = '';\n",
              "          dataTable['output_type'] = 'display_data';\n",
              "          await google.colab.output.renderOutput(dataTable, element);\n",
              "          const docLink = document.createElement('div');\n",
              "          docLink.innerHTML = docLinkHtml;\n",
              "          element.appendChild(docLink);\n",
              "        }\n",
              "      </script>\n",
              "    </div>\n",
              "  </div>\n",
              "  "
            ],
            "text/plain": [
              "         area   bedrooms                      location         price\n",
              "0       277m²  4 quartos          João Pessoa, Manaíra  R$ 1.300.000\n",
              "1      7300m²  3 quartos          João Pessoa, Gramame    R$ 230.000\n",
              "2       277m²  4 quartos          João Pessoa, Manaíra  R$ 1.300.000\n",
              "3     13000m²  3 quartos  João Pessoa, Cristo Redentor    R$ 235.000\n",
              "4         NaN        NaN                           NaN           NaN\n",
              "...       ...        ...                           ...           ...\n",
              "5695    300m²  3 quartos     João Pessoa, Pedro Gondim    R$ 400.000\n",
              "5696    235m²  3 quartos    João Pessoa, Portal do Sol    R$ 570.000\n",
              "5697    180m²  2 quartos  João Pessoa, Expedicionários    R$ 560.000\n",
              "5698     58m²  2 quartos     João Pessoa, Funcionários    R$ 155.000\n",
              "5699     58m²  2 quartos       João Pessoa, Mangabeira    R$ 190.000\n",
              "\n",
              "[5700 rows x 4 columns]"
            ]
          },
          "execution_count": 4,
          "metadata": {},
          "output_type": "execute_result"
        }
      ],
      "source": [
        "df = pd.read_csv(data)\n",
        "df = df.drop(\"Unnamed: 0\", axis=1)\n",
        "df"
      ]
    },
    {
      "cell_type": "code",
      "execution_count": null,
      "metadata": {
        "id": "F2jGh_H-PqXP"
      },
      "outputs": [],
      "source": [
        "original = pd.read_csv(data).drop(\"Unnamed: 0\", axis=1)"
      ]
    },
    {
      "cell_type": "code",
      "execution_count": null,
      "metadata": {
        "id": "Bgr-NNXnSiK4"
      },
      "outputs": [],
      "source": [
        "def fmt_area(area):\n",
        "  if isinstance(area, str) and \"m²\" in area:\n",
        "    area = area.replace(\"m²\", '')\n",
        "    return float(area)\n",
        "  else:\n",
        "    return np.nan\n",
        "\n",
        "def fix_area(area):\n",
        "  if isinstance(area, float):\n",
        "    if area >= 2000 and area <= 100000:\n",
        "      area =  area / 100\n",
        "    elif area > 100000 and area < 1000000:\n",
        "      area =  area / 1000\n",
        "    elif area > 1000000:\n",
        "      area = np.nan\n",
        "    \n",
        "    if area < 50:\n",
        "      area = np.nan\n",
        "    else:\n",
        "      return float(area)\n",
        "\n",
        "def fmt_bedrooms(bedrooms):\n",
        "  if not \"quarto\" in str(bedrooms):\n",
        "    return np.nan\n",
        "  match = re.search(\"\\d\", bedrooms)\n",
        "  if match is not None:\n",
        "    return int(match.group(0))\n",
        "  else:\n",
        "    return np.nan\n",
        "\n",
        "def fmt_values(num):\n",
        "  if not isinstance(num, str):\n",
        "    return num\n",
        "  else:\n",
        "    price = re.sub(r\"R[^0-9] \",'', num)\n",
        "    price = re.sub(r\"\\.\",'', price)\n",
        "    price = float(price)\n",
        "  \n",
        "  if price < 50000 or price > 8000000:\n",
        "    return np.nan\n",
        "\n",
        "  return price\n",
        "\n"
      ]
    },
    {
      "cell_type": "code",
      "execution_count": null,
      "metadata": {
        "id": "2GwQaUsnUNwY"
      },
      "outputs": [],
      "source": [
        "df.area = df.area.apply(fmt_area)\n",
        "df.area = df.area.apply(fix_area)\n",
        "df.bedrooms = df.bedrooms.apply(fmt_bedrooms)"
      ]
    },
    {
      "cell_type": "code",
      "execution_count": null,
      "metadata": {
        "id": "h9BxdJgqM9pq"
      },
      "outputs": [],
      "source": [
        "df.price = df.price.apply(fmt_values)"
      ]
    },
    {
      "cell_type": "code",
      "execution_count": null,
      "metadata": {
        "colab": {
          "base_uri": "https://localhost:8080/"
        },
        "id": "rgrjdxfCUN2X",
        "outputId": "33f2516f-a448-401c-dafe-51371142d471"
      },
      "outputs": [
        {
          "data": {
            "text/plain": [
              "area                             1300m²\n",
              "bedrooms              5 ou mais quartos\n",
              "location    João Pessoa, Jardim Oceania\n",
              "price                      R$ 4.500.000\n",
              "Name: 72, dtype: object"
            ]
          },
          "execution_count": 9,
          "metadata": {},
          "output_type": "execute_result"
        }
      ],
      "source": [
        "original.iloc[72]"
      ]
    },
    {
      "cell_type": "code",
      "execution_count": null,
      "metadata": {
        "id": "K_tEwCcHcB78"
      },
      "outputs": [],
      "source": [
        "df.dropna(axis=0, how='any', thresh=None, subset=None, inplace=True)"
      ]
    },
    {
      "cell_type": "code",
      "execution_count": null,
      "metadata": {
        "colab": {
          "base_uri": "https://localhost:8080/"
        },
        "id": "MId8Eb_zcB-5",
        "outputId": "a667d7d0-70c9-454e-c6f2-a6f6b8d4f5e2"
      },
      "outputs": [
        {
          "name": "stdout",
          "output_type": "stream",
          "text": [
            "<class 'pandas.core.frame.DataFrame'>\n",
            "Int64Index: 4067 entries, 0 to 5699\n",
            "Data columns (total 4 columns):\n",
            " #   Column    Non-Null Count  Dtype  \n",
            "---  ------    --------------  -----  \n",
            " 0   area      4067 non-null   float64\n",
            " 1   bedrooms  4067 non-null   float64\n",
            " 2   location  4067 non-null   object \n",
            " 3   price     4067 non-null   float64\n",
            "dtypes: float64(3), object(1)\n",
            "memory usage: 158.9+ KB\n"
          ]
        }
      ],
      "source": [
        "df.info()"
      ]
    },
    {
      "cell_type": "code",
      "execution_count": null,
      "metadata": {
        "colab": {
          "base_uri": "https://localhost:8080/"
        },
        "id": "xLP0GpJGh3xU",
        "outputId": "3d163202-c2f7-4a5a-9ed4-de414c8bbbfd"
      },
      "outputs": [
        {
          "data": {
            "text/plain": [
              "array(['João Pessoa, Manaíra', 'João Pessoa, Gramame',\n",
              "       'João Pessoa, Cristo Redentor', 'João Pessoa, Varjão',\n",
              "       'João Pessoa, José Américo de Almeida',\n",
              "       'João Pessoa, Distrito Industrial', 'João Pessoa, Ernani Sátiro',\n",
              "       'João Pessoa, Paratibe', 'João Pessoa, Altiplano Cabo Branco',\n",
              "       'João Pessoa, Valentina de Figueiredo',\n",
              "       'João Pessoa, Funcionários', 'João Pessoa, Mangabeira',\n",
              "       'João Pessoa, Aeroclube', 'João Pessoa, Indústrias',\n",
              "       'João Pessoa, Brisamar', 'João Pessoa, Oitizeiro',\n",
              "       'João Pessoa, Portal do Sol', 'João Pessoa, Jaguaribe',\n",
              "       'João Pessoa, Bessa', 'João Pessoa, Ernesto Geisel',\n",
              "       'João Pessoa, Estados', 'João Pessoa, Bancários',\n",
              "       'João Pessoa, Jardim São Paulo', 'João Pessoa, Jardim Oceania',\n",
              "       'João Pessoa, Expedicionários', 'João Pessoa, João Agripino',\n",
              "       'João Pessoa, Ipês', 'João Pessoa, Mumbaba', 'João Pessoa, Cuiá',\n",
              "       'João Pessoa, Muçumagro', 'João Pessoa, Tambiá',\n",
              "       'Cabedelo, Ponta de Campina', 'João Pessoa, Tambaú',\n",
              "       'João Pessoa, Cabo Branco', 'João Pessoa, José Américo De Almeida',\n",
              "       'Cabedelo, Poço', 'Cabedelo, Intermares', 'João Pessoa, Mandacaru',\n",
              "       'João Pessoa, Centro', 'João Pessoa, Tambauzinho',\n",
              "       'João Pessoa, Jardim Cidade Universitária',\n",
              "       'João Pessoa, Água Fria', 'João Pessoa, Castelo Branco',\n",
              "       'João Pessoa, Torre', 'João Pessoa, Roger',\n",
              "       'João Pessoa, João Paulo II', 'João Pessoa, Alto do Céu',\n",
              "       'João Pessoa, Miramar', 'João Pessoa, Anatólia',\n",
              "       'João Pessoa, Costa e Silva', 'João Pessoa, Cruz das Armas',\n",
              "       'João Pessoa, Cidade dos Colibris', 'João Pessoa, Treze de Maio',\n",
              "       'João Pessoa, Barra de Gramame', 'João Pessoa, Ponta do Seixas',\n",
              "       'João Pessoa, Alto do Mateus', 'João Pessoa, Varadouro',\n",
              "       'João Pessoa, Pedro Gondim', 'João Pessoa, Planalto Boa Esperança',\n",
              "       'João Pessoa, Jardim Veneza', 'João Pessoa, Trincheiras',\n",
              "       'João Pessoa, Grotão', 'João Pessoa, Barra De Gramame',\n",
              "       'Cabedelo, Monte Castelo', 'Cabedelo, Formosa',\n",
              "       'Cabedelo, Camboinha', 'Cabedelo, Centro',\n",
              "       'João Pessoa, Ilha do Bispo', 'Cabedelo, Ponta de Matos',\n",
              "       'João Pessoa, Penha', 'Cabedelo, Areia Dourada',\n",
              "       'João Pessoa, Valentina De Figueiredo', 'João Pessoa, São José',\n",
              "       'João Pessoa, Costa do Sol'], dtype=object)"
            ]
          },
          "execution_count": 12,
          "metadata": {},
          "output_type": "execute_result"
        }
      ],
      "source": [
        "locations = df.location.unique()\n",
        "locations"
      ]
    },
    {
      "cell_type": "code",
      "execution_count": null,
      "metadata": {
        "id": "0xHymZfVcCEt"
      },
      "outputs": [],
      "source": [
        "df[\"meter_price\"] =  df.apply(lambda row: round(row.price / row.area, 2), axis=1)"
      ]
    },
    {
      "cell_type": "code",
      "execution_count": null,
      "metadata": {
        "colab": {
          "base_uri": "https://localhost:8080/"
        },
        "id": "6wvOkR4_iQ4E",
        "outputId": "8297ab0d-1e08-44a1-9a31-b3e066c5031c"
      },
      "outputs": [
        {
          "data": {
            "text/plain": [
              "2355.98641509434"
            ]
          },
          "execution_count": 14,
          "metadata": {},
          "output_type": "execute_result"
        }
      ],
      "source": [
        "df[df.location == \"João Pessoa, Cabo Branco\"].meter_price.mean()"
      ]
    },
    {
      "cell_type": "markdown",
      "metadata": {
        "id": "5QUk-wYsmiFx"
      },
      "source": [
        "Removing outliers based on price per square meter"
      ]
    },
    {
      "cell_type": "code",
      "execution_count": null,
      "metadata": {
        "id": "08y04ecElXPF"
      },
      "outputs": [],
      "source": [
        "stats = {}\n",
        "for loc in locations:\n",
        "  dff = df[df.location == loc]\n",
        "  stats[loc] = {\"mean\": dff.meter_price.mean(), \"std\": dff.meter_price.std()}\n"
      ]
    },
    {
      "cell_type": "code",
      "execution_count": null,
      "metadata": {
        "colab": {
          "base_uri": "https://localhost:8080/"
        },
        "id": "cmTQKfqFovCM",
        "outputId": "0c6c9d5a-1db6-4a15-8af0-7b8db7a42f6d"
      },
      "outputs": [
        {
          "name": "stderr",
          "output_type": "stream",
          "text": [
            "/usr/local/lib/python3.7/dist-packages/ipykernel_launcher.py:5: RuntimeWarning: invalid value encountered in double_scalars\n",
            "  \"\"\"\n"
          ]
        }
      ],
      "source": [
        "def get_zscore(row):\n",
        "  stat = stats[row.location]\n",
        "  mean = stat[\"mean\"]\n",
        "  std = stat[\"std\"]\n",
        "  return (row.meter_price - mean )  / std\n",
        "\n",
        "df[\"z_score\"] = df.apply( get_zscore, axis =1)"
      ]
    },
    {
      "cell_type": "code",
      "execution_count": null,
      "metadata": {
        "id": "dGa2X_sslXSU"
      },
      "outputs": [],
      "source": [
        "dff =  df[(df.z_score >= - 3 ) & (df.z_score <= 3 ) ]           # syntax #df[(df['col1'] >= 1) & (df['col1'] <=1 )]"
      ]
    },
    {
      "cell_type": "code",
      "execution_count": null,
      "metadata": {
        "colab": {
          "base_uri": "https://localhost:8080/",
          "height": 424
        },
        "id": "IcRQn-TylXVT",
        "outputId": "2f643da8-de86-448f-817f-e12d831d7a23"
      },
      "outputs": [
        {
          "data": {
            "text/html": [
              "\n",
              "  <div id=\"df-befdae69-81a6-4981-a8bb-1c460bb8335f\">\n",
              "    <div class=\"colab-df-container\">\n",
              "      <div>\n",
              "<style scoped>\n",
              "    .dataframe tbody tr th:only-of-type {\n",
              "        vertical-align: middle;\n",
              "    }\n",
              "\n",
              "    .dataframe tbody tr th {\n",
              "        vertical-align: top;\n",
              "    }\n",
              "\n",
              "    .dataframe thead th {\n",
              "        text-align: right;\n",
              "    }\n",
              "</style>\n",
              "<table border=\"1\" class=\"dataframe\">\n",
              "  <thead>\n",
              "    <tr style=\"text-align: right;\">\n",
              "      <th></th>\n",
              "      <th>area</th>\n",
              "      <th>bedrooms</th>\n",
              "      <th>location</th>\n",
              "      <th>price</th>\n",
              "      <th>meter_price</th>\n",
              "      <th>z_score</th>\n",
              "    </tr>\n",
              "  </thead>\n",
              "  <tbody>\n",
              "    <tr>\n",
              "      <th>0</th>\n",
              "      <td>277.0</td>\n",
              "      <td>4.0</td>\n",
              "      <td>João Pessoa, Manaíra</td>\n",
              "      <td>1300000.0</td>\n",
              "      <td>4693.14</td>\n",
              "      <td>0.299565</td>\n",
              "    </tr>\n",
              "    <tr>\n",
              "      <th>1</th>\n",
              "      <td>73.0</td>\n",
              "      <td>3.0</td>\n",
              "      <td>João Pessoa, Gramame</td>\n",
              "      <td>230000.0</td>\n",
              "      <td>3150.68</td>\n",
              "      <td>0.477407</td>\n",
              "    </tr>\n",
              "    <tr>\n",
              "      <th>2</th>\n",
              "      <td>277.0</td>\n",
              "      <td>4.0</td>\n",
              "      <td>João Pessoa, Manaíra</td>\n",
              "      <td>1300000.0</td>\n",
              "      <td>4693.14</td>\n",
              "      <td>0.299565</td>\n",
              "    </tr>\n",
              "    <tr>\n",
              "      <th>3</th>\n",
              "      <td>130.0</td>\n",
              "      <td>3.0</td>\n",
              "      <td>João Pessoa, Cristo Redentor</td>\n",
              "      <td>235000.0</td>\n",
              "      <td>1807.69</td>\n",
              "      <td>-0.496481</td>\n",
              "    </tr>\n",
              "    <tr>\n",
              "      <th>6</th>\n",
              "      <td>250.0</td>\n",
              "      <td>3.0</td>\n",
              "      <td>João Pessoa, Manaíra</td>\n",
              "      <td>1300000.0</td>\n",
              "      <td>5200.00</td>\n",
              "      <td>0.568619</td>\n",
              "    </tr>\n",
              "    <tr>\n",
              "      <th>...</th>\n",
              "      <td>...</td>\n",
              "      <td>...</td>\n",
              "      <td>...</td>\n",
              "      <td>...</td>\n",
              "      <td>...</td>\n",
              "      <td>...</td>\n",
              "    </tr>\n",
              "    <tr>\n",
              "      <th>5695</th>\n",
              "      <td>300.0</td>\n",
              "      <td>3.0</td>\n",
              "      <td>João Pessoa, Pedro Gondim</td>\n",
              "      <td>400000.0</td>\n",
              "      <td>1333.33</td>\n",
              "      <td>-0.617782</td>\n",
              "    </tr>\n",
              "    <tr>\n",
              "      <th>5696</th>\n",
              "      <td>235.0</td>\n",
              "      <td>3.0</td>\n",
              "      <td>João Pessoa, Portal do Sol</td>\n",
              "      <td>570000.0</td>\n",
              "      <td>2425.53</td>\n",
              "      <td>-1.587437</td>\n",
              "    </tr>\n",
              "    <tr>\n",
              "      <th>5697</th>\n",
              "      <td>180.0</td>\n",
              "      <td>2.0</td>\n",
              "      <td>João Pessoa, Expedicionários</td>\n",
              "      <td>560000.0</td>\n",
              "      <td>3111.11</td>\n",
              "      <td>0.311313</td>\n",
              "    </tr>\n",
              "    <tr>\n",
              "      <th>5698</th>\n",
              "      <td>58.0</td>\n",
              "      <td>2.0</td>\n",
              "      <td>João Pessoa, Funcionários</td>\n",
              "      <td>155000.0</td>\n",
              "      <td>2672.41</td>\n",
              "      <td>1.256131</td>\n",
              "    </tr>\n",
              "    <tr>\n",
              "      <th>5699</th>\n",
              "      <td>58.0</td>\n",
              "      <td>2.0</td>\n",
              "      <td>João Pessoa, Mangabeira</td>\n",
              "      <td>190000.0</td>\n",
              "      <td>3275.86</td>\n",
              "      <td>1.257632</td>\n",
              "    </tr>\n",
              "  </tbody>\n",
              "</table>\n",
              "<p>4013 rows × 6 columns</p>\n",
              "</div>\n",
              "      <button class=\"colab-df-convert\" onclick=\"convertToInteractive('df-befdae69-81a6-4981-a8bb-1c460bb8335f')\"\n",
              "              title=\"Convert this dataframe to an interactive table.\"\n",
              "              style=\"display:none;\">\n",
              "        \n",
              "  <svg xmlns=\"http://www.w3.org/2000/svg\" height=\"24px\"viewBox=\"0 0 24 24\"\n",
              "       width=\"24px\">\n",
              "    <path d=\"M0 0h24v24H0V0z\" fill=\"none\"/>\n",
              "    <path d=\"M18.56 5.44l.94 2.06.94-2.06 2.06-.94-2.06-.94-.94-2.06-.94 2.06-2.06.94zm-11 1L8.5 8.5l.94-2.06 2.06-.94-2.06-.94L8.5 2.5l-.94 2.06-2.06.94zm10 10l.94 2.06.94-2.06 2.06-.94-2.06-.94-.94-2.06-.94 2.06-2.06.94z\"/><path d=\"M17.41 7.96l-1.37-1.37c-.4-.4-.92-.59-1.43-.59-.52 0-1.04.2-1.43.59L10.3 9.45l-7.72 7.72c-.78.78-.78 2.05 0 2.83L4 21.41c.39.39.9.59 1.41.59.51 0 1.02-.2 1.41-.59l7.78-7.78 2.81-2.81c.8-.78.8-2.07 0-2.86zM5.41 20L4 18.59l7.72-7.72 1.47 1.35L5.41 20z\"/>\n",
              "  </svg>\n",
              "      </button>\n",
              "      \n",
              "  <style>\n",
              "    .colab-df-container {\n",
              "      display:flex;\n",
              "      flex-wrap:wrap;\n",
              "      gap: 12px;\n",
              "    }\n",
              "\n",
              "    .colab-df-convert {\n",
              "      background-color: #E8F0FE;\n",
              "      border: none;\n",
              "      border-radius: 50%;\n",
              "      cursor: pointer;\n",
              "      display: none;\n",
              "      fill: #1967D2;\n",
              "      height: 32px;\n",
              "      padding: 0 0 0 0;\n",
              "      width: 32px;\n",
              "    }\n",
              "\n",
              "    .colab-df-convert:hover {\n",
              "      background-color: #E2EBFA;\n",
              "      box-shadow: 0px 1px 2px rgba(60, 64, 67, 0.3), 0px 1px 3px 1px rgba(60, 64, 67, 0.15);\n",
              "      fill: #174EA6;\n",
              "    }\n",
              "\n",
              "    [theme=dark] .colab-df-convert {\n",
              "      background-color: #3B4455;\n",
              "      fill: #D2E3FC;\n",
              "    }\n",
              "\n",
              "    [theme=dark] .colab-df-convert:hover {\n",
              "      background-color: #434B5C;\n",
              "      box-shadow: 0px 1px 3px 1px rgba(0, 0, 0, 0.15);\n",
              "      filter: drop-shadow(0px 1px 2px rgba(0, 0, 0, 0.3));\n",
              "      fill: #FFFFFF;\n",
              "    }\n",
              "  </style>\n",
              "\n",
              "      <script>\n",
              "        const buttonEl =\n",
              "          document.querySelector('#df-befdae69-81a6-4981-a8bb-1c460bb8335f button.colab-df-convert');\n",
              "        buttonEl.style.display =\n",
              "          google.colab.kernel.accessAllowed ? 'block' : 'none';\n",
              "\n",
              "        async function convertToInteractive(key) {\n",
              "          const element = document.querySelector('#df-befdae69-81a6-4981-a8bb-1c460bb8335f');\n",
              "          const dataTable =\n",
              "            await google.colab.kernel.invokeFunction('convertToInteractive',\n",
              "                                                     [key], {});\n",
              "          if (!dataTable) return;\n",
              "\n",
              "          const docLinkHtml = 'Like what you see? Visit the ' +\n",
              "            '<a target=\"_blank\" href=https://colab.research.google.com/notebooks/data_table.ipynb>data table notebook</a>'\n",
              "            + ' to learn more about interactive tables.';\n",
              "          element.innerHTML = '';\n",
              "          dataTable['output_type'] = 'display_data';\n",
              "          await google.colab.output.renderOutput(dataTable, element);\n",
              "          const docLink = document.createElement('div');\n",
              "          docLink.innerHTML = docLinkHtml;\n",
              "          element.appendChild(docLink);\n",
              "        }\n",
              "      </script>\n",
              "    </div>\n",
              "  </div>\n",
              "  "
            ],
            "text/plain": [
              "       area  bedrooms                      location      price  meter_price  \\\n",
              "0     277.0       4.0          João Pessoa, Manaíra  1300000.0      4693.14   \n",
              "1      73.0       3.0          João Pessoa, Gramame   230000.0      3150.68   \n",
              "2     277.0       4.0          João Pessoa, Manaíra  1300000.0      4693.14   \n",
              "3     130.0       3.0  João Pessoa, Cristo Redentor   235000.0      1807.69   \n",
              "6     250.0       3.0          João Pessoa, Manaíra  1300000.0      5200.00   \n",
              "...     ...       ...                           ...        ...          ...   \n",
              "5695  300.0       3.0     João Pessoa, Pedro Gondim   400000.0      1333.33   \n",
              "5696  235.0       3.0    João Pessoa, Portal do Sol   570000.0      2425.53   \n",
              "5697  180.0       2.0  João Pessoa, Expedicionários   560000.0      3111.11   \n",
              "5698   58.0       2.0     João Pessoa, Funcionários   155000.0      2672.41   \n",
              "5699   58.0       2.0       João Pessoa, Mangabeira   190000.0      3275.86   \n",
              "\n",
              "       z_score  \n",
              "0     0.299565  \n",
              "1     0.477407  \n",
              "2     0.299565  \n",
              "3    -0.496481  \n",
              "6     0.568619  \n",
              "...        ...  \n",
              "5695 -0.617782  \n",
              "5696 -1.587437  \n",
              "5697  0.311313  \n",
              "5698  1.256131  \n",
              "5699  1.257632  \n",
              "\n",
              "[4013 rows x 6 columns]"
            ]
          },
          "execution_count": 18,
          "metadata": {},
          "output_type": "execute_result"
        }
      ],
      "source": [
        "dff"
      ]
    },
    {
      "cell_type": "code",
      "execution_count": null,
      "metadata": {
        "id": "e9Gy_4UUlXYZ"
      },
      "outputs": [],
      "source": [
        "def standardize_features( dataframe: pd.DataFrame, feature_names: list, operation=\"standardize\"):\n",
        "  \"\"\"standardizes numerical features and returns a dataframe\"\"\"\n",
        "  from sklearn.preprocessing import StandardScaler, Normalizer\n",
        "  if operation == \"normalize\":\n",
        "    operator = Normalizer()\n",
        "  else:\n",
        "    operator = StandardScaler()\n",
        "  df = dataframe\n",
        "  for column_name in feature_names:\n",
        "      raw_data = np.array(df[column_name]).reshape(-1, 1)\n",
        "      transformed = operator.fit_transform(raw_data)\n",
        "      ready = pd.DataFrame(transformed, columns=[column_name])\n",
        "      df = df.drop(column_name, axis=1).join(ready)\n",
        "  return df"
      ]
    },
    {
      "cell_type": "code",
      "execution_count": null,
      "metadata": {
        "id": "X_IAVAkPlXbL"
      },
      "outputs": [],
      "source": [
        "X = dff.drop([\"price\", \"meter_price\", \"z_score\",\"bedrooms\"], axis=1,)\n",
        "\n",
        "#One hot encoding  \n",
        "X = pd.get_dummies(X, prefix='', prefix_sep='', columns=['location'],drop_first=True)\n",
        "Y = dff.price"
      ]
    },
    {
      "cell_type": "code",
      "execution_count": null,
      "metadata": {
        "colab": {
          "base_uri": "https://localhost:8080/"
        },
        "id": "ElGNOvv9tUX5",
        "outputId": "350b5d54-7ae8-4966-d9a6-33ce078216fe"
      },
      "outputs": [
        {
          "data": {
            "text/plain": [
              "68"
            ]
          },
          "execution_count": 21,
          "metadata": {},
          "output_type": "execute_result"
        }
      ],
      "source": [
        "X.shape[1]"
      ]
    },
    {
      "cell_type": "code",
      "execution_count": null,
      "metadata": {
        "id": "KuntbU4DtxuF"
      },
      "outputs": [],
      "source": [
        "x_train_full, x_test, y_train_full, y_test =  train_test_split(X, Y, test_size=0.1)\n",
        "x_valid, x_train =  x_train_full[:300], x_train_full[300:]\n",
        "y_valid, y_train =  y_train_full[:300], y_train_full[300:]"
      ]
    },
    {
      "cell_type": "code",
      "execution_count": null,
      "metadata": {
        "colab": {
          "base_uri": "https://localhost:8080/"
        },
        "id": "QTH_tkj-lXgf",
        "outputId": "fedf7f8d-c289-4f36-fb3c-b928dacae07f"
      },
      "outputs": [
        {
          "data": {
            "text/plain": [
              "(3311, 68)"
            ]
          },
          "execution_count": 23,
          "metadata": {},
          "output_type": "execute_result"
        }
      ],
      "source": [
        "x_train.shape"
      ]
    },
    {
      "cell_type": "code",
      "execution_count": null,
      "metadata": {
        "colab": {
          "base_uri": "https://localhost:8080/"
        },
        "id": "8U2FpirclXjd",
        "outputId": "7c7b984d-1a95-4a87-83ad-8b8ba1998d45"
      },
      "outputs": [
        {
          "name": "stdout",
          "output_type": "stream",
          "text": [
            "[20:36:54] WARNING: /workspace/src/objective/regression_obj.cu:152: reg:linear is now deprecated in favor of reg:squarederror.\n",
            "180905.6829329913 465106.8946409851\n"
          ]
        }
      ],
      "source": [
        "forests = RandomForestRegressor(n_estimators=100, random_state=32)\n",
        "xgb = xgboost.XGBRegressor(n_estimators=200, learning_rate=0.2, random_state=42, max_depth=10)\n",
        "selected_model = xgb\n",
        "\n",
        "selected_model.fit(x_train, y_train)\n",
        "pred = selected_model.predict(x_test)\n",
        "squared_error = mean_squared_error(pred, y_test, squared=False)\n",
        "absolute_error = mean_absolute_error(pred, y_test)\n",
        "print(absolute_error, squared_error)"
      ]
    },
    {
      "cell_type": "code",
      "execution_count": null,
      "metadata": {
        "colab": {
          "base_uri": "https://localhost:8080/",
          "height": 415
        },
        "id": "K8bsMMcYlXmZ",
        "outputId": "fe066ed4-b528-444d-ebb2-801c95dfe496"
      },
      "outputs": [
        {
          "name": "stdout",
          "output_type": "stream",
          "text": [
            "Epoch 1/1000\n",
            "104/104 [==============================] - 2s 7ms/step - loss: 659763.1875 - val_loss: 560762.1875\n",
            "Epoch 2/1000\n",
            " 46/104 [============>.................] - ETA: 0s - loss: 676072.5625"
          ]
        },
        {
          "ename": "KeyboardInterrupt",
          "evalue": "ignored",
          "output_type": "error",
          "traceback": [
            "\u001b[0;31m---------------------------------------------------------------------------\u001b[0m",
            "\u001b[0;31mKeyboardInterrupt\u001b[0m                         Traceback (most recent call last)",
            "\u001b[0;32m<ipython-input-25-d237555e6056>\u001b[0m in \u001b[0;36m<module>\u001b[0;34m()\u001b[0m\n\u001b[1;32m     18\u001b[0m \u001b[0mneural\u001b[0m\u001b[0;34m.\u001b[0m\u001b[0mcompile\u001b[0m\u001b[0;34m(\u001b[0m\u001b[0mloss\u001b[0m\u001b[0;34m=\u001b[0m\u001b[0mtf\u001b[0m\u001b[0;34m.\u001b[0m\u001b[0mkeras\u001b[0m\u001b[0;34m.\u001b[0m\u001b[0mlosses\u001b[0m\u001b[0;34m.\u001b[0m\u001b[0mMeanAbsoluteError\u001b[0m\u001b[0;34m(\u001b[0m\u001b[0;34m)\u001b[0m\u001b[0;34m,\u001b[0m \u001b[0moptimizer\u001b[0m\u001b[0;34m=\u001b[0m \u001b[0moptimizer\u001b[0m\u001b[0;34m)\u001b[0m\u001b[0;34m\u001b[0m\u001b[0;34m\u001b[0m\u001b[0m\n\u001b[1;32m     19\u001b[0m \u001b[0;34m\u001b[0m\u001b[0m\n\u001b[0;32m---> 20\u001b[0;31m \u001b[0mhistory\u001b[0m \u001b[0;34m=\u001b[0m \u001b[0mneural\u001b[0m\u001b[0;34m.\u001b[0m\u001b[0mfit\u001b[0m\u001b[0;34m(\u001b[0m\u001b[0mx_train\u001b[0m\u001b[0;34m,\u001b[0m \u001b[0my_train\u001b[0m\u001b[0;34m,\u001b[0m \u001b[0mvalidation_data\u001b[0m\u001b[0;34m=\u001b[0m\u001b[0;34m(\u001b[0m\u001b[0mx_valid\u001b[0m\u001b[0;34m,\u001b[0m \u001b[0my_valid\u001b[0m\u001b[0;34m)\u001b[0m\u001b[0;34m,\u001b[0m \u001b[0mepochs\u001b[0m\u001b[0;34m=\u001b[0m\u001b[0;36m1000\u001b[0m\u001b[0;34m,\u001b[0m \u001b[0mcallbacks\u001b[0m\u001b[0;34m=\u001b[0m\u001b[0;34m[\u001b[0m\u001b[0mearly_stopping_cb\u001b[0m\u001b[0;34m]\u001b[0m\u001b[0;34m)\u001b[0m\u001b[0;34m\u001b[0m\u001b[0;34m\u001b[0m\u001b[0m\n\u001b[0m",
            "\u001b[0;32m/usr/local/lib/python3.7/dist-packages/keras/utils/traceback_utils.py\u001b[0m in \u001b[0;36merror_handler\u001b[0;34m(*args, **kwargs)\u001b[0m\n\u001b[1;32m     62\u001b[0m     \u001b[0mfiltered_tb\u001b[0m \u001b[0;34m=\u001b[0m \u001b[0;32mNone\u001b[0m\u001b[0;34m\u001b[0m\u001b[0;34m\u001b[0m\u001b[0m\n\u001b[1;32m     63\u001b[0m     \u001b[0;32mtry\u001b[0m\u001b[0;34m:\u001b[0m\u001b[0;34m\u001b[0m\u001b[0;34m\u001b[0m\u001b[0m\n\u001b[0;32m---> 64\u001b[0;31m       \u001b[0;32mreturn\u001b[0m \u001b[0mfn\u001b[0m\u001b[0;34m(\u001b[0m\u001b[0;34m*\u001b[0m\u001b[0margs\u001b[0m\u001b[0;34m,\u001b[0m \u001b[0;34m**\u001b[0m\u001b[0mkwargs\u001b[0m\u001b[0;34m)\u001b[0m\u001b[0;34m\u001b[0m\u001b[0;34m\u001b[0m\u001b[0m\n\u001b[0m\u001b[1;32m     65\u001b[0m     \u001b[0;32mexcept\u001b[0m \u001b[0mException\u001b[0m \u001b[0;32mas\u001b[0m \u001b[0me\u001b[0m\u001b[0;34m:\u001b[0m  \u001b[0;31m# pylint: disable=broad-except\u001b[0m\u001b[0;34m\u001b[0m\u001b[0;34m\u001b[0m\u001b[0m\n\u001b[1;32m     66\u001b[0m       \u001b[0mfiltered_tb\u001b[0m \u001b[0;34m=\u001b[0m \u001b[0m_process_traceback_frames\u001b[0m\u001b[0;34m(\u001b[0m\u001b[0me\u001b[0m\u001b[0;34m.\u001b[0m\u001b[0m__traceback__\u001b[0m\u001b[0;34m)\u001b[0m\u001b[0;34m\u001b[0m\u001b[0;34m\u001b[0m\u001b[0m\n",
            "\u001b[0;32m/usr/local/lib/python3.7/dist-packages/keras/engine/training.py\u001b[0m in \u001b[0;36mfit\u001b[0;34m(self, x, y, batch_size, epochs, verbose, callbacks, validation_split, validation_data, shuffle, class_weight, sample_weight, initial_epoch, steps_per_epoch, validation_steps, validation_batch_size, validation_freq, max_queue_size, workers, use_multiprocessing)\u001b[0m\n\u001b[1;32m   1382\u001b[0m                 _r=1):\n\u001b[1;32m   1383\u001b[0m               \u001b[0mcallbacks\u001b[0m\u001b[0;34m.\u001b[0m\u001b[0mon_train_batch_begin\u001b[0m\u001b[0;34m(\u001b[0m\u001b[0mstep\u001b[0m\u001b[0;34m)\u001b[0m\u001b[0;34m\u001b[0m\u001b[0;34m\u001b[0m\u001b[0m\n\u001b[0;32m-> 1384\u001b[0;31m               \u001b[0mtmp_logs\u001b[0m \u001b[0;34m=\u001b[0m \u001b[0mself\u001b[0m\u001b[0;34m.\u001b[0m\u001b[0mtrain_function\u001b[0m\u001b[0;34m(\u001b[0m\u001b[0miterator\u001b[0m\u001b[0;34m)\u001b[0m\u001b[0;34m\u001b[0m\u001b[0;34m\u001b[0m\u001b[0m\n\u001b[0m\u001b[1;32m   1385\u001b[0m               \u001b[0;32mif\u001b[0m \u001b[0mdata_handler\u001b[0m\u001b[0;34m.\u001b[0m\u001b[0mshould_sync\u001b[0m\u001b[0;34m:\u001b[0m\u001b[0;34m\u001b[0m\u001b[0;34m\u001b[0m\u001b[0m\n\u001b[1;32m   1386\u001b[0m                 \u001b[0mcontext\u001b[0m\u001b[0;34m.\u001b[0m\u001b[0masync_wait\u001b[0m\u001b[0;34m(\u001b[0m\u001b[0;34m)\u001b[0m\u001b[0;34m\u001b[0m\u001b[0;34m\u001b[0m\u001b[0m\n",
            "\u001b[0;32m/usr/local/lib/python3.7/dist-packages/tensorflow/python/util/traceback_utils.py\u001b[0m in \u001b[0;36merror_handler\u001b[0;34m(*args, **kwargs)\u001b[0m\n\u001b[1;32m    148\u001b[0m     \u001b[0mfiltered_tb\u001b[0m \u001b[0;34m=\u001b[0m \u001b[0;32mNone\u001b[0m\u001b[0;34m\u001b[0m\u001b[0;34m\u001b[0m\u001b[0m\n\u001b[1;32m    149\u001b[0m     \u001b[0;32mtry\u001b[0m\u001b[0;34m:\u001b[0m\u001b[0;34m\u001b[0m\u001b[0;34m\u001b[0m\u001b[0m\n\u001b[0;32m--> 150\u001b[0;31m       \u001b[0;32mreturn\u001b[0m \u001b[0mfn\u001b[0m\u001b[0;34m(\u001b[0m\u001b[0;34m*\u001b[0m\u001b[0margs\u001b[0m\u001b[0;34m,\u001b[0m \u001b[0;34m**\u001b[0m\u001b[0mkwargs\u001b[0m\u001b[0;34m)\u001b[0m\u001b[0;34m\u001b[0m\u001b[0;34m\u001b[0m\u001b[0m\n\u001b[0m\u001b[1;32m    151\u001b[0m     \u001b[0;32mexcept\u001b[0m \u001b[0mException\u001b[0m \u001b[0;32mas\u001b[0m \u001b[0me\u001b[0m\u001b[0;34m:\u001b[0m\u001b[0;34m\u001b[0m\u001b[0;34m\u001b[0m\u001b[0m\n\u001b[1;32m    152\u001b[0m       \u001b[0mfiltered_tb\u001b[0m \u001b[0;34m=\u001b[0m \u001b[0m_process_traceback_frames\u001b[0m\u001b[0;34m(\u001b[0m\u001b[0me\u001b[0m\u001b[0;34m.\u001b[0m\u001b[0m__traceback__\u001b[0m\u001b[0;34m)\u001b[0m\u001b[0;34m\u001b[0m\u001b[0;34m\u001b[0m\u001b[0m\n",
            "\u001b[0;32m/usr/local/lib/python3.7/dist-packages/tensorflow/python/eager/def_function.py\u001b[0m in \u001b[0;36m__call__\u001b[0;34m(self, *args, **kwds)\u001b[0m\n\u001b[1;32m    913\u001b[0m \u001b[0;34m\u001b[0m\u001b[0m\n\u001b[1;32m    914\u001b[0m       \u001b[0;32mwith\u001b[0m \u001b[0mOptionalXlaContext\u001b[0m\u001b[0;34m(\u001b[0m\u001b[0mself\u001b[0m\u001b[0;34m.\u001b[0m\u001b[0m_jit_compile\u001b[0m\u001b[0;34m)\u001b[0m\u001b[0;34m:\u001b[0m\u001b[0;34m\u001b[0m\u001b[0;34m\u001b[0m\u001b[0m\n\u001b[0;32m--> 915\u001b[0;31m         \u001b[0mresult\u001b[0m \u001b[0;34m=\u001b[0m \u001b[0mself\u001b[0m\u001b[0;34m.\u001b[0m\u001b[0m_call\u001b[0m\u001b[0;34m(\u001b[0m\u001b[0;34m*\u001b[0m\u001b[0margs\u001b[0m\u001b[0;34m,\u001b[0m \u001b[0;34m**\u001b[0m\u001b[0mkwds\u001b[0m\u001b[0;34m)\u001b[0m\u001b[0;34m\u001b[0m\u001b[0;34m\u001b[0m\u001b[0m\n\u001b[0m\u001b[1;32m    916\u001b[0m \u001b[0;34m\u001b[0m\u001b[0m\n\u001b[1;32m    917\u001b[0m       \u001b[0mnew_tracing_count\u001b[0m \u001b[0;34m=\u001b[0m \u001b[0mself\u001b[0m\u001b[0;34m.\u001b[0m\u001b[0mexperimental_get_tracing_count\u001b[0m\u001b[0;34m(\u001b[0m\u001b[0;34m)\u001b[0m\u001b[0;34m\u001b[0m\u001b[0;34m\u001b[0m\u001b[0m\n",
            "\u001b[0;32m/usr/local/lib/python3.7/dist-packages/tensorflow/python/eager/def_function.py\u001b[0m in \u001b[0;36m_call\u001b[0;34m(self, *args, **kwds)\u001b[0m\n\u001b[1;32m    945\u001b[0m       \u001b[0;31m# In this case we have created variables on the first call, so we run the\u001b[0m\u001b[0;34m\u001b[0m\u001b[0;34m\u001b[0m\u001b[0;34m\u001b[0m\u001b[0m\n\u001b[1;32m    946\u001b[0m       \u001b[0;31m# defunned version which is guaranteed to never create variables.\u001b[0m\u001b[0;34m\u001b[0m\u001b[0;34m\u001b[0m\u001b[0;34m\u001b[0m\u001b[0m\n\u001b[0;32m--> 947\u001b[0;31m       \u001b[0;32mreturn\u001b[0m \u001b[0mself\u001b[0m\u001b[0;34m.\u001b[0m\u001b[0m_stateless_fn\u001b[0m\u001b[0;34m(\u001b[0m\u001b[0;34m*\u001b[0m\u001b[0margs\u001b[0m\u001b[0;34m,\u001b[0m \u001b[0;34m**\u001b[0m\u001b[0mkwds\u001b[0m\u001b[0;34m)\u001b[0m  \u001b[0;31m# pylint: disable=not-callable\u001b[0m\u001b[0;34m\u001b[0m\u001b[0;34m\u001b[0m\u001b[0m\n\u001b[0m\u001b[1;32m    948\u001b[0m     \u001b[0;32melif\u001b[0m \u001b[0mself\u001b[0m\u001b[0;34m.\u001b[0m\u001b[0m_stateful_fn\u001b[0m \u001b[0;32mis\u001b[0m \u001b[0;32mnot\u001b[0m \u001b[0;32mNone\u001b[0m\u001b[0;34m:\u001b[0m\u001b[0;34m\u001b[0m\u001b[0;34m\u001b[0m\u001b[0m\n\u001b[1;32m    949\u001b[0m       \u001b[0;31m# Release the lock early so that multiple threads can perform the call\u001b[0m\u001b[0;34m\u001b[0m\u001b[0;34m\u001b[0m\u001b[0;34m\u001b[0m\u001b[0m\n",
            "\u001b[0;32m/usr/local/lib/python3.7/dist-packages/tensorflow/python/eager/function.py\u001b[0m in \u001b[0;36m__call__\u001b[0;34m(self, *args, **kwargs)\u001b[0m\n\u001b[1;32m   2955\u001b[0m        filtered_flat_args) = self._maybe_define_function(args, kwargs)\n\u001b[1;32m   2956\u001b[0m     return graph_function._call_flat(\n\u001b[0;32m-> 2957\u001b[0;31m         filtered_flat_args, captured_inputs=graph_function.captured_inputs)  # pylint: disable=protected-access\n\u001b[0m\u001b[1;32m   2958\u001b[0m \u001b[0;34m\u001b[0m\u001b[0m\n\u001b[1;32m   2959\u001b[0m   \u001b[0;34m@\u001b[0m\u001b[0mproperty\u001b[0m\u001b[0;34m\u001b[0m\u001b[0;34m\u001b[0m\u001b[0m\n",
            "\u001b[0;32m/usr/local/lib/python3.7/dist-packages/tensorflow/python/eager/function.py\u001b[0m in \u001b[0;36m_call_flat\u001b[0;34m(self, args, captured_inputs, cancellation_manager)\u001b[0m\n\u001b[1;32m   1852\u001b[0m       \u001b[0;31m# No tape is watching; skip to running the function.\u001b[0m\u001b[0;34m\u001b[0m\u001b[0;34m\u001b[0m\u001b[0;34m\u001b[0m\u001b[0m\n\u001b[1;32m   1853\u001b[0m       return self._build_call_outputs(self._inference_function.call(\n\u001b[0;32m-> 1854\u001b[0;31m           ctx, args, cancellation_manager=cancellation_manager))\n\u001b[0m\u001b[1;32m   1855\u001b[0m     forward_backward = self._select_forward_and_backward_functions(\n\u001b[1;32m   1856\u001b[0m         \u001b[0margs\u001b[0m\u001b[0;34m,\u001b[0m\u001b[0;34m\u001b[0m\u001b[0;34m\u001b[0m\u001b[0m\n",
            "\u001b[0;32m/usr/local/lib/python3.7/dist-packages/tensorflow/python/eager/function.py\u001b[0m in \u001b[0;36mcall\u001b[0;34m(self, ctx, args, cancellation_manager)\u001b[0m\n\u001b[1;32m    502\u001b[0m               \u001b[0minputs\u001b[0m\u001b[0;34m=\u001b[0m\u001b[0margs\u001b[0m\u001b[0;34m,\u001b[0m\u001b[0;34m\u001b[0m\u001b[0;34m\u001b[0m\u001b[0m\n\u001b[1;32m    503\u001b[0m               \u001b[0mattrs\u001b[0m\u001b[0;34m=\u001b[0m\u001b[0mattrs\u001b[0m\u001b[0;34m,\u001b[0m\u001b[0;34m\u001b[0m\u001b[0;34m\u001b[0m\u001b[0m\n\u001b[0;32m--> 504\u001b[0;31m               ctx=ctx)\n\u001b[0m\u001b[1;32m    505\u001b[0m         \u001b[0;32melse\u001b[0m\u001b[0;34m:\u001b[0m\u001b[0;34m\u001b[0m\u001b[0;34m\u001b[0m\u001b[0m\n\u001b[1;32m    506\u001b[0m           outputs = execute.execute_with_cancellation(\n",
            "\u001b[0;32m/usr/local/lib/python3.7/dist-packages/tensorflow/python/eager/execute.py\u001b[0m in \u001b[0;36mquick_execute\u001b[0;34m(op_name, num_outputs, inputs, attrs, ctx, name)\u001b[0m\n\u001b[1;32m     53\u001b[0m     \u001b[0mctx\u001b[0m\u001b[0;34m.\u001b[0m\u001b[0mensure_initialized\u001b[0m\u001b[0;34m(\u001b[0m\u001b[0;34m)\u001b[0m\u001b[0;34m\u001b[0m\u001b[0;34m\u001b[0m\u001b[0m\n\u001b[1;32m     54\u001b[0m     tensors = pywrap_tfe.TFE_Py_Execute(ctx._handle, device_name, op_name,\n\u001b[0;32m---> 55\u001b[0;31m                                         inputs, attrs, num_outputs)\n\u001b[0m\u001b[1;32m     56\u001b[0m   \u001b[0;32mexcept\u001b[0m \u001b[0mcore\u001b[0m\u001b[0;34m.\u001b[0m\u001b[0m_NotOkStatusException\u001b[0m \u001b[0;32mas\u001b[0m \u001b[0me\u001b[0m\u001b[0;34m:\u001b[0m\u001b[0;34m\u001b[0m\u001b[0;34m\u001b[0m\u001b[0m\n\u001b[1;32m     57\u001b[0m     \u001b[0;32mif\u001b[0m \u001b[0mname\u001b[0m \u001b[0;32mis\u001b[0m \u001b[0;32mnot\u001b[0m \u001b[0;32mNone\u001b[0m\u001b[0;34m:\u001b[0m\u001b[0;34m\u001b[0m\u001b[0;34m\u001b[0m\u001b[0m\n",
            "\u001b[0;31mKeyboardInterrupt\u001b[0m: "
          ]
        }
      ],
      "source": [
        "early_stopping_cb = keras.callbacks.EarlyStopping(patience=50, restore_best_weights=True, monitor=\"loss\")\n",
        "\n",
        "\n",
        "\n",
        "sample_to_normalize = x_train\n",
        "norm_layer = keras.layers.Normalization(axis=1)\n",
        "norm_layer.adapt(tf.constant(sample_to_normalize))\n",
        "\n",
        "neural = keras.models.Sequential([\n",
        "norm_layer,\n",
        "keras.layers.Dense(63, activation=\"selu\", kernel_initializer=\"lecun_normal\", input_shape=X.shape[1:]),\n",
        "keras.layers.Dense(63, kernel_initializer=\"lecun_normal\", activation=\"selu\"),\n",
        "keras.layers.Dense(1, activation=None),\n",
        "])\n",
        "\n",
        "optimizer = keras.optimizers.SGD(learning_rate=0.0005, nesterov=True) #keras.optimizers.RMSprop(lr=0.001) \n",
        "\n",
        "neural.compile(loss=tf.keras.losses.MeanAbsoluteError(), optimizer= optimizer)\n",
        "\n",
        "history = neural.fit(x_train, y_train, validation_data=(x_valid, y_valid), epochs=1000, callbacks=[early_stopping_cb])"
      ]
    },
    {
      "cell_type": "code",
      "execution_count": null,
      "metadata": {
        "id": "Js7UlW2SlXpl"
      },
      "outputs": [],
      "source": [
        "sample = x_test[10:20]\n",
        "sample_answers = y_test[10:20]"
      ]
    },
    {
      "cell_type": "code",
      "execution_count": null,
      "metadata": {
        "id": "E1Qh5s9Yko1r"
      },
      "outputs": [],
      "source": [
        "neural.predict(sample)"
      ]
    },
    {
      "cell_type": "code",
      "execution_count": null,
      "metadata": {
        "id": "g15ppyeOvy2n"
      },
      "outputs": [],
      "source": [
        "list(sample_answers)"
      ]
    },
    {
      "cell_type": "code",
      "execution_count": null,
      "metadata": {
        "id": "3uUhhJFmv1pO"
      },
      "outputs": [],
      "source": [
        "pred = neural.predict(x_test)\n",
        "real = y_test\n",
        "\n",
        "squared_error = mean_squared_error(pred, real, squared=False)\n",
        "absolute_error = mean_absolute_error(pred, real)\n",
        "print(absolute_error, squared_error)"
      ]
    },
    {
      "cell_type": "code",
      "execution_count": null,
      "metadata": {
        "id": "MuifTbugzlAF"
      },
      "outputs": [],
      "source": [
        "locations"
      ]
    },
    {
      "cell_type": "code",
      "execution_count": null,
      "metadata": {
        "id": "k19H7O7jzb98"
      },
      "outputs": [],
      "source": [
        "def predict_new(model, X, area, location, bedrooms=None):\n",
        "  locations = list(X.columns)\n",
        "  size=X.shape[1]\n",
        "  entry = np.zeros(size)\n",
        "  try:\n",
        "    locations = list(locations)\n",
        "    location_idx = locations.index(location)\n",
        "    entry[location_idx] = 1\n",
        "  except ValueError:\n",
        "    pass\n",
        "  entry[0] = area\n",
        "  #entry[1] = bedrooms\n",
        "  entry = entry.reshape(1,size)\n",
        "  return model.predict(entry)"
      ]
    },
    {
      "cell_type": "code",
      "execution_count": null,
      "metadata": {
        "id": "iiy9irlnv112"
      },
      "outputs": [],
      "source": [
        "predict_new(neural, X, 182. ,\"João Pessoa, José Américo de Almeida\")"
      ]
    },
    {
      "cell_type": "markdown",
      "metadata": {},
      "source": []
    },
    {
      "cell_type": "code",
      "execution_count": null,
      "metadata": {
        "id": "HBzW27wzv14-"
      },
      "outputs": [],
      "source": []
    },
    {
      "cell_type": "code",
      "execution_count": null,
      "metadata": {
        "id": "nKisw6zRv18G"
      },
      "outputs": [],
      "source": []
    }
  ],
  "metadata": {
    "colab": {
      "provenance": []
    },
    "kernelspec": {
      "display_name": "Python 3.11.0 64-bit",
      "language": "python",
      "name": "python3"
    },
    "language_info": {
      "name": "python",
      "version": "3.11.0"
    },
    "vscode": {
      "interpreter": {
        "hash": "961ba29095b76c930f4fc5dd59aa7edba0948bb17ac8528d55d140f484815b9d"
      }
    }
  },
  "nbformat": 4,
  "nbformat_minor": 0
}
