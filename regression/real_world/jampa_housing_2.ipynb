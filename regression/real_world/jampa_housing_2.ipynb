{
  "cells": [
    {
      "cell_type": "code",
      "execution_count": 34,
      "metadata": {
        "id": "39RsSQ3CSJhX"
      },
      "outputs": [],
      "source": [
        "import pandas as pd\n",
        "import numpy as np\n",
        "import tensorflow as tf\n",
        "from tensorflow import keras\n",
        "import re\n",
        "import xgboost\n",
        "from sklearn.preprocessing import StandardScaler, Normalizer\n",
        "from sklearn.model_selection import train_test_split\n",
        "from sklearn.metrics import mean_squared_error, mean_absolute_error\n",
        "from sklearn.ensemble import RandomForestRegressor"
      ]
    },
    {
      "cell_type": "markdown",
      "metadata": {
        "id": "TuqVa4wKrW_h"
      },
      "source": [
        "Training a regressor to predict housing prices in a city of northeast Brazil with data scrapped from OLX listings\n",
        "\n",
        "**Results**: much of the data is dirty because of site users inserting wrong/incomplete information. Only features that helped predict prices consistently were meter area and location. Would be nice if the data were more real and contained geolocalization info. "
      ]
    },
    {
      "cell_type": "code",
      "execution_count": 35,
      "metadata": {
        "id": "X_6zXXIwShqi"
      },
      "outputs": [],
      "source": [
        "tf.random.set_seed(33)\n",
        "np.random.seed(33)"
      ]
    },
    {
      "cell_type": "code",
      "execution_count": 36,
      "metadata": {
        "id": "ldtGFAm1Sh9B"
      },
      "outputs": [],
      "source": [
        "data = r'/content/drive/MyDrive/Colab Notebooks/datafiles/jp_data_07_22.csv'"
      ]
    },
    {
      "cell_type": "code",
      "execution_count": 37,
      "metadata": {
        "colab": {
          "base_uri": "https://localhost:8080/",
          "height": 424
        },
        "id": "dnTQtypgSiAb",
        "outputId": "7ad4e941-34ed-44f7-eb6c-15118a5af187"
      },
      "outputs": [
        {
          "data": {
            "text/html": [
              "\n",
              "  <div id=\"df-98b08550-6cd6-4668-94b3-42a36c6b47ba\">\n",
              "    <div class=\"colab-df-container\">\n",
              "      <div>\n",
              "<style scoped>\n",
              "    .dataframe tbody tr th:only-of-type {\n",
              "        vertical-align: middle;\n",
              "    }\n",
              "\n",
              "    .dataframe tbody tr th {\n",
              "        vertical-align: top;\n",
              "    }\n",
              "\n",
              "    .dataframe thead th {\n",
              "        text-align: right;\n",
              "    }\n",
              "</style>\n",
              "<table border=\"1\" class=\"dataframe\">\n",
              "  <thead>\n",
              "    <tr style=\"text-align: right;\">\n",
              "      <th></th>\n",
              "      <th>area</th>\n",
              "      <th>bedrooms</th>\n",
              "      <th>location</th>\n",
              "      <th>price</th>\n",
              "    </tr>\n",
              "  </thead>\n",
              "  <tbody>\n",
              "    <tr>\n",
              "      <th>0</th>\n",
              "      <td>277m²</td>\n",
              "      <td>4 quartos</td>\n",
              "      <td>João Pessoa, Manaíra</td>\n",
              "      <td>R$ 1.300.000</td>\n",
              "    </tr>\n",
              "    <tr>\n",
              "      <th>1</th>\n",
              "      <td>7300m²</td>\n",
              "      <td>3 quartos</td>\n",
              "      <td>João Pessoa, Gramame</td>\n",
              "      <td>R$ 230.000</td>\n",
              "    </tr>\n",
              "    <tr>\n",
              "      <th>2</th>\n",
              "      <td>277m²</td>\n",
              "      <td>4 quartos</td>\n",
              "      <td>João Pessoa, Manaíra</td>\n",
              "      <td>R$ 1.300.000</td>\n",
              "    </tr>\n",
              "    <tr>\n",
              "      <th>3</th>\n",
              "      <td>13000m²</td>\n",
              "      <td>3 quartos</td>\n",
              "      <td>João Pessoa, Cristo Redentor</td>\n",
              "      <td>R$ 235.000</td>\n",
              "    </tr>\n",
              "    <tr>\n",
              "      <th>4</th>\n",
              "      <td>NaN</td>\n",
              "      <td>NaN</td>\n",
              "      <td>NaN</td>\n",
              "      <td>NaN</td>\n",
              "    </tr>\n",
              "    <tr>\n",
              "      <th>...</th>\n",
              "      <td>...</td>\n",
              "      <td>...</td>\n",
              "      <td>...</td>\n",
              "      <td>...</td>\n",
              "    </tr>\n",
              "    <tr>\n",
              "      <th>5695</th>\n",
              "      <td>300m²</td>\n",
              "      <td>3 quartos</td>\n",
              "      <td>João Pessoa, Pedro Gondim</td>\n",
              "      <td>R$ 400.000</td>\n",
              "    </tr>\n",
              "    <tr>\n",
              "      <th>5696</th>\n",
              "      <td>235m²</td>\n",
              "      <td>3 quartos</td>\n",
              "      <td>João Pessoa, Portal do Sol</td>\n",
              "      <td>R$ 570.000</td>\n",
              "    </tr>\n",
              "    <tr>\n",
              "      <th>5697</th>\n",
              "      <td>180m²</td>\n",
              "      <td>2 quartos</td>\n",
              "      <td>João Pessoa, Expedicionários</td>\n",
              "      <td>R$ 560.000</td>\n",
              "    </tr>\n",
              "    <tr>\n",
              "      <th>5698</th>\n",
              "      <td>58m²</td>\n",
              "      <td>2 quartos</td>\n",
              "      <td>João Pessoa, Funcionários</td>\n",
              "      <td>R$ 155.000</td>\n",
              "    </tr>\n",
              "    <tr>\n",
              "      <th>5699</th>\n",
              "      <td>58m²</td>\n",
              "      <td>2 quartos</td>\n",
              "      <td>João Pessoa, Mangabeira</td>\n",
              "      <td>R$ 190.000</td>\n",
              "    </tr>\n",
              "  </tbody>\n",
              "</table>\n",
              "<p>5700 rows × 4 columns</p>\n",
              "</div>\n",
              "      <button class=\"colab-df-convert\" onclick=\"convertToInteractive('df-98b08550-6cd6-4668-94b3-42a36c6b47ba')\"\n",
              "              title=\"Convert this dataframe to an interactive table.\"\n",
              "              style=\"display:none;\">\n",
              "        \n",
              "  <svg xmlns=\"http://www.w3.org/2000/svg\" height=\"24px\"viewBox=\"0 0 24 24\"\n",
              "       width=\"24px\">\n",
              "    <path d=\"M0 0h24v24H0V0z\" fill=\"none\"/>\n",
              "    <path d=\"M18.56 5.44l.94 2.06.94-2.06 2.06-.94-2.06-.94-.94-2.06-.94 2.06-2.06.94zm-11 1L8.5 8.5l.94-2.06 2.06-.94-2.06-.94L8.5 2.5l-.94 2.06-2.06.94zm10 10l.94 2.06.94-2.06 2.06-.94-2.06-.94-.94-2.06-.94 2.06-2.06.94z\"/><path d=\"M17.41 7.96l-1.37-1.37c-.4-.4-.92-.59-1.43-.59-.52 0-1.04.2-1.43.59L10.3 9.45l-7.72 7.72c-.78.78-.78 2.05 0 2.83L4 21.41c.39.39.9.59 1.41.59.51 0 1.02-.2 1.41-.59l7.78-7.78 2.81-2.81c.8-.78.8-2.07 0-2.86zM5.41 20L4 18.59l7.72-7.72 1.47 1.35L5.41 20z\"/>\n",
              "  </svg>\n",
              "      </button>\n",
              "      \n",
              "  <style>\n",
              "    .colab-df-container {\n",
              "      display:flex;\n",
              "      flex-wrap:wrap;\n",
              "      gap: 12px;\n",
              "    }\n",
              "\n",
              "    .colab-df-convert {\n",
              "      background-color: #E8F0FE;\n",
              "      border: none;\n",
              "      border-radius: 50%;\n",
              "      cursor: pointer;\n",
              "      display: none;\n",
              "      fill: #1967D2;\n",
              "      height: 32px;\n",
              "      padding: 0 0 0 0;\n",
              "      width: 32px;\n",
              "    }\n",
              "\n",
              "    .colab-df-convert:hover {\n",
              "      background-color: #E2EBFA;\n",
              "      box-shadow: 0px 1px 2px rgba(60, 64, 67, 0.3), 0px 1px 3px 1px rgba(60, 64, 67, 0.15);\n",
              "      fill: #174EA6;\n",
              "    }\n",
              "\n",
              "    [theme=dark] .colab-df-convert {\n",
              "      background-color: #3B4455;\n",
              "      fill: #D2E3FC;\n",
              "    }\n",
              "\n",
              "    [theme=dark] .colab-df-convert:hover {\n",
              "      background-color: #434B5C;\n",
              "      box-shadow: 0px 1px 3px 1px rgba(0, 0, 0, 0.15);\n",
              "      filter: drop-shadow(0px 1px 2px rgba(0, 0, 0, 0.3));\n",
              "      fill: #FFFFFF;\n",
              "    }\n",
              "  </style>\n",
              "\n",
              "      <script>\n",
              "        const buttonEl =\n",
              "          document.querySelector('#df-98b08550-6cd6-4668-94b3-42a36c6b47ba button.colab-df-convert');\n",
              "        buttonEl.style.display =\n",
              "          google.colab.kernel.accessAllowed ? 'block' : 'none';\n",
              "\n",
              "        async function convertToInteractive(key) {\n",
              "          const element = document.querySelector('#df-98b08550-6cd6-4668-94b3-42a36c6b47ba');\n",
              "          const dataTable =\n",
              "            await google.colab.kernel.invokeFunction('convertToInteractive',\n",
              "                                                     [key], {});\n",
              "          if (!dataTable) return;\n",
              "\n",
              "          const docLinkHtml = 'Like what you see? Visit the ' +\n",
              "            '<a target=\"_blank\" href=https://colab.research.google.com/notebooks/data_table.ipynb>data table notebook</a>'\n",
              "            + ' to learn more about interactive tables.';\n",
              "          element.innerHTML = '';\n",
              "          dataTable['output_type'] = 'display_data';\n",
              "          await google.colab.output.renderOutput(dataTable, element);\n",
              "          const docLink = document.createElement('div');\n",
              "          docLink.innerHTML = docLinkHtml;\n",
              "          element.appendChild(docLink);\n",
              "        }\n",
              "      </script>\n",
              "    </div>\n",
              "  </div>\n",
              "  "
            ],
            "text/plain": [
              "         area   bedrooms                      location         price\n",
              "0       277m²  4 quartos          João Pessoa, Manaíra  R$ 1.300.000\n",
              "1      7300m²  3 quartos          João Pessoa, Gramame    R$ 230.000\n",
              "2       277m²  4 quartos          João Pessoa, Manaíra  R$ 1.300.000\n",
              "3     13000m²  3 quartos  João Pessoa, Cristo Redentor    R$ 235.000\n",
              "4         NaN        NaN                           NaN           NaN\n",
              "...       ...        ...                           ...           ...\n",
              "5695    300m²  3 quartos     João Pessoa, Pedro Gondim    R$ 400.000\n",
              "5696    235m²  3 quartos    João Pessoa, Portal do Sol    R$ 570.000\n",
              "5697    180m²  2 quartos  João Pessoa, Expedicionários    R$ 560.000\n",
              "5698     58m²  2 quartos     João Pessoa, Funcionários    R$ 155.000\n",
              "5699     58m²  2 quartos       João Pessoa, Mangabeira    R$ 190.000\n",
              "\n",
              "[5700 rows x 4 columns]"
            ]
          },
          "execution_count": 37,
          "metadata": {},
          "output_type": "execute_result"
        }
      ],
      "source": [
        "df = pd.read_csv(data)\n",
        "df = df.drop(\"Unnamed: 0\", axis=1)\n",
        "df"
      ]
    },
    {
      "cell_type": "code",
      "execution_count": 38,
      "metadata": {
        "id": "F2jGh_H-PqXP"
      },
      "outputs": [],
      "source": [
        "original = pd.read_csv(data).drop(\"Unnamed: 0\", axis=1)"
      ]
    },
    {
      "cell_type": "code",
      "execution_count": 39,
      "metadata": {
        "id": "Bgr-NNXnSiK4"
      },
      "outputs": [],
      "source": [
        "def fmt_area(area):\n",
        "  if isinstance(area, str) and \"m²\" in area:\n",
        "    area = area.replace(\"m²\", '')\n",
        "    return float(area)\n",
        "  else:\n",
        "    return np.nan\n",
        "\n",
        "def fix_area(area):\n",
        "  if isinstance(area, float):\n",
        "    if area >= 2000 and area <= 100000:\n",
        "      area =  area / 100\n",
        "    elif area > 100000 and area < 1000000:\n",
        "      area =  area / 1000\n",
        "    elif area > 1000000:\n",
        "      area = np.nan\n",
        "    \n",
        "    if area < 50:\n",
        "      area = np.nan\n",
        "    else:\n",
        "      return float(area)\n",
        "\n",
        "def fmt_bedrooms(bedrooms):\n",
        "  if not \"quarto\" in str(bedrooms):\n",
        "    return np.nan\n",
        "  match = re.search(\"\\d\", bedrooms)\n",
        "  if match is not None:\n",
        "    return int(match.group(0))\n",
        "  else:\n",
        "    return np.nan\n",
        "\n",
        "def fmt_values(num):\n",
        "  if not isinstance(num, str):\n",
        "    return num\n",
        "  else:\n",
        "    price = re.sub(r\"R[^0-9] \",'', num)\n",
        "    price = re.sub(r\"\\.\",'', price)\n",
        "    price = float(price)\n",
        "  \n",
        "  if price < 50000 or price > 8000000:\n",
        "    return np.nan\n",
        "\n",
        "  return price\n",
        "\n"
      ]
    },
    {
      "cell_type": "code",
      "execution_count": 40,
      "metadata": {
        "id": "2GwQaUsnUNwY"
      },
      "outputs": [],
      "source": [
        "df.area = df.area.apply(fmt_area)\n",
        "df.area = df.area.apply(fix_area)\n",
        "df.bedrooms = df.bedrooms.apply(fmt_bedrooms)"
      ]
    },
    {
      "cell_type": "code",
      "execution_count": 41,
      "metadata": {
        "id": "h9BxdJgqM9pq"
      },
      "outputs": [],
      "source": [
        "df.price = df.price.apply(fmt_values)"
      ]
    },
    {
      "cell_type": "code",
      "execution_count": 42,
      "metadata": {
        "colab": {
          "base_uri": "https://localhost:8080/"
        },
        "id": "rgrjdxfCUN2X",
        "outputId": "c37317ef-2972-4498-8816-b503d6a8d7bd"
      },
      "outputs": [
        {
          "data": {
            "text/plain": [
              "area                             1300m²\n",
              "bedrooms              5 ou mais quartos\n",
              "location    João Pessoa, Jardim Oceania\n",
              "price                      R$ 4.500.000\n",
              "Name: 72, dtype: object"
            ]
          },
          "execution_count": 42,
          "metadata": {},
          "output_type": "execute_result"
        }
      ],
      "source": [
        "original.iloc[72]"
      ]
    },
    {
      "cell_type": "code",
      "execution_count": 43,
      "metadata": {
        "id": "K_tEwCcHcB78"
      },
      "outputs": [],
      "source": [
        "df.dropna(axis=0, how='any', thresh=None, subset=None, inplace=True)"
      ]
    },
    {
      "cell_type": "code",
      "execution_count": 44,
      "metadata": {
        "colab": {
          "base_uri": "https://localhost:8080/"
        },
        "id": "MId8Eb_zcB-5",
        "outputId": "7488cc66-bf7b-4aec-db7d-cd72ed3a6881"
      },
      "outputs": [
        {
          "name": "stdout",
          "output_type": "stream",
          "text": [
            "<class 'pandas.core.frame.DataFrame'>\n",
            "Int64Index: 4067 entries, 0 to 5699\n",
            "Data columns (total 4 columns):\n",
            " #   Column    Non-Null Count  Dtype  \n",
            "---  ------    --------------  -----  \n",
            " 0   area      4067 non-null   float64\n",
            " 1   bedrooms  4067 non-null   float64\n",
            " 2   location  4067 non-null   object \n",
            " 3   price     4067 non-null   float64\n",
            "dtypes: float64(3), object(1)\n",
            "memory usage: 158.9+ KB\n"
          ]
        }
      ],
      "source": [
        "df.info()"
      ]
    },
    {
      "cell_type": "code",
      "execution_count": 45,
      "metadata": {
        "colab": {
          "base_uri": "https://localhost:8080/"
        },
        "id": "xLP0GpJGh3xU",
        "outputId": "9b79eec2-3dd2-4e94-daae-9738c7db40d8"
      },
      "outputs": [
        {
          "data": {
            "text/plain": [
              "array(['João Pessoa, Manaíra', 'João Pessoa, Gramame',\n",
              "       'João Pessoa, Cristo Redentor', 'João Pessoa, Varjão',\n",
              "       'João Pessoa, José Américo de Almeida',\n",
              "       'João Pessoa, Distrito Industrial', 'João Pessoa, Ernani Sátiro',\n",
              "       'João Pessoa, Paratibe', 'João Pessoa, Altiplano Cabo Branco',\n",
              "       'João Pessoa, Valentina de Figueiredo',\n",
              "       'João Pessoa, Funcionários', 'João Pessoa, Mangabeira',\n",
              "       'João Pessoa, Aeroclube', 'João Pessoa, Indústrias',\n",
              "       'João Pessoa, Brisamar', 'João Pessoa, Oitizeiro',\n",
              "       'João Pessoa, Portal do Sol', 'João Pessoa, Jaguaribe',\n",
              "       'João Pessoa, Bessa', 'João Pessoa, Ernesto Geisel',\n",
              "       'João Pessoa, Estados', 'João Pessoa, Bancários',\n",
              "       'João Pessoa, Jardim São Paulo', 'João Pessoa, Jardim Oceania',\n",
              "       'João Pessoa, Expedicionários', 'João Pessoa, João Agripino',\n",
              "       'João Pessoa, Ipês', 'João Pessoa, Mumbaba', 'João Pessoa, Cuiá',\n",
              "       'João Pessoa, Muçumagro', 'João Pessoa, Tambiá',\n",
              "       'Cabedelo, Ponta de Campina', 'João Pessoa, Tambaú',\n",
              "       'João Pessoa, Cabo Branco', 'João Pessoa, José Américo De Almeida',\n",
              "       'Cabedelo, Poço', 'Cabedelo, Intermares', 'João Pessoa, Mandacaru',\n",
              "       'João Pessoa, Centro', 'João Pessoa, Tambauzinho',\n",
              "       'João Pessoa, Jardim Cidade Universitária',\n",
              "       'João Pessoa, Água Fria', 'João Pessoa, Castelo Branco',\n",
              "       'João Pessoa, Torre', 'João Pessoa, Roger',\n",
              "       'João Pessoa, João Paulo II', 'João Pessoa, Alto do Céu',\n",
              "       'João Pessoa, Miramar', 'João Pessoa, Anatólia',\n",
              "       'João Pessoa, Costa e Silva', 'João Pessoa, Cruz das Armas',\n",
              "       'João Pessoa, Cidade dos Colibris', 'João Pessoa, Treze de Maio',\n",
              "       'João Pessoa, Barra de Gramame', 'João Pessoa, Ponta do Seixas',\n",
              "       'João Pessoa, Alto do Mateus', 'João Pessoa, Varadouro',\n",
              "       'João Pessoa, Pedro Gondim', 'João Pessoa, Planalto Boa Esperança',\n",
              "       'João Pessoa, Jardim Veneza', 'João Pessoa, Trincheiras',\n",
              "       'João Pessoa, Grotão', 'João Pessoa, Barra De Gramame',\n",
              "       'Cabedelo, Monte Castelo', 'Cabedelo, Formosa',\n",
              "       'Cabedelo, Camboinha', 'Cabedelo, Centro',\n",
              "       'João Pessoa, Ilha do Bispo', 'Cabedelo, Ponta de Matos',\n",
              "       'João Pessoa, Penha', 'Cabedelo, Areia Dourada',\n",
              "       'João Pessoa, Valentina De Figueiredo', 'João Pessoa, São José',\n",
              "       'João Pessoa, Costa do Sol'], dtype=object)"
            ]
          },
          "execution_count": 45,
          "metadata": {},
          "output_type": "execute_result"
        }
      ],
      "source": [
        "locations = df.location.unique()\n",
        "locations"
      ]
    },
    {
      "cell_type": "code",
      "execution_count": 46,
      "metadata": {
        "id": "0xHymZfVcCEt"
      },
      "outputs": [],
      "source": [
        "df[\"meter_price\"] =  df.apply(lambda row: round(row.price / row.area, 2), axis=1)"
      ]
    },
    {
      "cell_type": "code",
      "execution_count": 47,
      "metadata": {
        "colab": {
          "base_uri": "https://localhost:8080/"
        },
        "id": "6wvOkR4_iQ4E",
        "outputId": "0897dd24-281a-49ef-97c0-5aaae88fafe5"
      },
      "outputs": [
        {
          "data": {
            "text/plain": [
              "5413.083333333333"
            ]
          },
          "execution_count": 47,
          "metadata": {},
          "output_type": "execute_result"
        }
      ],
      "source": [
        "df[df.location == \"João Pessoa, Cabo Branco\"].meter_price.mean()"
      ]
    },
    {
      "cell_type": "markdown",
      "metadata": {
        "id": "5QUk-wYsmiFx"
      },
      "source": [
        "Removing outliers based on price per square meter"
      ]
    },
    {
      "cell_type": "code",
      "execution_count": 48,
      "metadata": {
        "id": "08y04ecElXPF"
      },
      "outputs": [],
      "source": [
        "stats = {}\n",
        "for loc in locations:\n",
        "  dff = df[df.location == loc]\n",
        "  stats[loc] = {\"mean\": dff.meter_price.mean(), \"std\": dff.meter_price.std()}\n"
      ]
    },
    {
      "cell_type": "code",
      "execution_count": 49,
      "metadata": {
        "colab": {
          "base_uri": "https://localhost:8080/"
        },
        "id": "cmTQKfqFovCM",
        "outputId": "cf876f00-bd5d-4a74-8414-19842bab4602"
      },
      "outputs": [
        {
          "name": "stderr",
          "output_type": "stream",
          "text": [
            "/usr/local/lib/python3.7/dist-packages/ipykernel_launcher.py:5: RuntimeWarning: invalid value encountered in double_scalars\n",
            "  \"\"\"\n"
          ]
        }
      ],
      "source": [
        "def get_zscore(row):\n",
        "  stat = stats[row.location]\n",
        "  mean = stat[\"mean\"]\n",
        "  std = stat[\"std\"]\n",
        "  return (row.meter_price - mean )  / std\n",
        "\n",
        "df[\"z_score\"] = df.apply( get_zscore, axis =1)"
      ]
    },
    {
      "cell_type": "code",
      "execution_count": 50,
      "metadata": {
        "id": "dGa2X_sslXSU"
      },
      "outputs": [],
      "source": [
        "dff =  df[(df.z_score >= - 3 ) & (df.z_score <= 3 ) ]           # syntax #df[(df['col1'] >= 1) & (df['col1'] <=1 )]"
      ]
    },
    {
      "cell_type": "code",
      "execution_count": 51,
      "metadata": {
        "colab": {
          "base_uri": "https://localhost:8080/",
          "height": 424
        },
        "id": "IcRQn-TylXVT",
        "outputId": "c7a5b6cc-769e-4e1d-de12-4e713c22e6e1"
      },
      "outputs": [
        {
          "data": {
            "text/html": [
              "\n",
              "  <div id=\"df-c3529cb4-5abc-44f5-8122-0305c9bb9fb2\">\n",
              "    <div class=\"colab-df-container\">\n",
              "      <div>\n",
              "<style scoped>\n",
              "    .dataframe tbody tr th:only-of-type {\n",
              "        vertical-align: middle;\n",
              "    }\n",
              "\n",
              "    .dataframe tbody tr th {\n",
              "        vertical-align: top;\n",
              "    }\n",
              "\n",
              "    .dataframe thead th {\n",
              "        text-align: right;\n",
              "    }\n",
              "</style>\n",
              "<table border=\"1\" class=\"dataframe\">\n",
              "  <thead>\n",
              "    <tr style=\"text-align: right;\">\n",
              "      <th></th>\n",
              "      <th>area</th>\n",
              "      <th>bedrooms</th>\n",
              "      <th>location</th>\n",
              "      <th>price</th>\n",
              "      <th>meter_price</th>\n",
              "      <th>z_score</th>\n",
              "    </tr>\n",
              "  </thead>\n",
              "  <tbody>\n",
              "    <tr>\n",
              "      <th>0</th>\n",
              "      <td>277.0</td>\n",
              "      <td>4.0</td>\n",
              "      <td>João Pessoa, Manaíra</td>\n",
              "      <td>1300000.0</td>\n",
              "      <td>4693.14</td>\n",
              "      <td>0.299565</td>\n",
              "    </tr>\n",
              "    <tr>\n",
              "      <th>1</th>\n",
              "      <td>73.0</td>\n",
              "      <td>3.0</td>\n",
              "      <td>João Pessoa, Gramame</td>\n",
              "      <td>230000.0</td>\n",
              "      <td>3150.68</td>\n",
              "      <td>0.477407</td>\n",
              "    </tr>\n",
              "    <tr>\n",
              "      <th>2</th>\n",
              "      <td>277.0</td>\n",
              "      <td>4.0</td>\n",
              "      <td>João Pessoa, Manaíra</td>\n",
              "      <td>1300000.0</td>\n",
              "      <td>4693.14</td>\n",
              "      <td>0.299565</td>\n",
              "    </tr>\n",
              "    <tr>\n",
              "      <th>3</th>\n",
              "      <td>130.0</td>\n",
              "      <td>3.0</td>\n",
              "      <td>João Pessoa, Cristo Redentor</td>\n",
              "      <td>235000.0</td>\n",
              "      <td>1807.69</td>\n",
              "      <td>-0.496481</td>\n",
              "    </tr>\n",
              "    <tr>\n",
              "      <th>6</th>\n",
              "      <td>250.0</td>\n",
              "      <td>3.0</td>\n",
              "      <td>João Pessoa, Manaíra</td>\n",
              "      <td>1300000.0</td>\n",
              "      <td>5200.00</td>\n",
              "      <td>0.568619</td>\n",
              "    </tr>\n",
              "    <tr>\n",
              "      <th>...</th>\n",
              "      <td>...</td>\n",
              "      <td>...</td>\n",
              "      <td>...</td>\n",
              "      <td>...</td>\n",
              "      <td>...</td>\n",
              "      <td>...</td>\n",
              "    </tr>\n",
              "    <tr>\n",
              "      <th>5695</th>\n",
              "      <td>300.0</td>\n",
              "      <td>3.0</td>\n",
              "      <td>João Pessoa, Pedro Gondim</td>\n",
              "      <td>400000.0</td>\n",
              "      <td>1333.33</td>\n",
              "      <td>-0.617782</td>\n",
              "    </tr>\n",
              "    <tr>\n",
              "      <th>5696</th>\n",
              "      <td>235.0</td>\n",
              "      <td>3.0</td>\n",
              "      <td>João Pessoa, Portal do Sol</td>\n",
              "      <td>570000.0</td>\n",
              "      <td>2425.53</td>\n",
              "      <td>-1.587437</td>\n",
              "    </tr>\n",
              "    <tr>\n",
              "      <th>5697</th>\n",
              "      <td>180.0</td>\n",
              "      <td>2.0</td>\n",
              "      <td>João Pessoa, Expedicionários</td>\n",
              "      <td>560000.0</td>\n",
              "      <td>3111.11</td>\n",
              "      <td>0.311313</td>\n",
              "    </tr>\n",
              "    <tr>\n",
              "      <th>5698</th>\n",
              "      <td>58.0</td>\n",
              "      <td>2.0</td>\n",
              "      <td>João Pessoa, Funcionários</td>\n",
              "      <td>155000.0</td>\n",
              "      <td>2672.41</td>\n",
              "      <td>1.256131</td>\n",
              "    </tr>\n",
              "    <tr>\n",
              "      <th>5699</th>\n",
              "      <td>58.0</td>\n",
              "      <td>2.0</td>\n",
              "      <td>João Pessoa, Mangabeira</td>\n",
              "      <td>190000.0</td>\n",
              "      <td>3275.86</td>\n",
              "      <td>1.257632</td>\n",
              "    </tr>\n",
              "  </tbody>\n",
              "</table>\n",
              "<p>4013 rows × 6 columns</p>\n",
              "</div>\n",
              "      <button class=\"colab-df-convert\" onclick=\"convertToInteractive('df-c3529cb4-5abc-44f5-8122-0305c9bb9fb2')\"\n",
              "              title=\"Convert this dataframe to an interactive table.\"\n",
              "              style=\"display:none;\">\n",
              "        \n",
              "  <svg xmlns=\"http://www.w3.org/2000/svg\" height=\"24px\"viewBox=\"0 0 24 24\"\n",
              "       width=\"24px\">\n",
              "    <path d=\"M0 0h24v24H0V0z\" fill=\"none\"/>\n",
              "    <path d=\"M18.56 5.44l.94 2.06.94-2.06 2.06-.94-2.06-.94-.94-2.06-.94 2.06-2.06.94zm-11 1L8.5 8.5l.94-2.06 2.06-.94-2.06-.94L8.5 2.5l-.94 2.06-2.06.94zm10 10l.94 2.06.94-2.06 2.06-.94-2.06-.94-.94-2.06-.94 2.06-2.06.94z\"/><path d=\"M17.41 7.96l-1.37-1.37c-.4-.4-.92-.59-1.43-.59-.52 0-1.04.2-1.43.59L10.3 9.45l-7.72 7.72c-.78.78-.78 2.05 0 2.83L4 21.41c.39.39.9.59 1.41.59.51 0 1.02-.2 1.41-.59l7.78-7.78 2.81-2.81c.8-.78.8-2.07 0-2.86zM5.41 20L4 18.59l7.72-7.72 1.47 1.35L5.41 20z\"/>\n",
              "  </svg>\n",
              "      </button>\n",
              "      \n",
              "  <style>\n",
              "    .colab-df-container {\n",
              "      display:flex;\n",
              "      flex-wrap:wrap;\n",
              "      gap: 12px;\n",
              "    }\n",
              "\n",
              "    .colab-df-convert {\n",
              "      background-color: #E8F0FE;\n",
              "      border: none;\n",
              "      border-radius: 50%;\n",
              "      cursor: pointer;\n",
              "      display: none;\n",
              "      fill: #1967D2;\n",
              "      height: 32px;\n",
              "      padding: 0 0 0 0;\n",
              "      width: 32px;\n",
              "    }\n",
              "\n",
              "    .colab-df-convert:hover {\n",
              "      background-color: #E2EBFA;\n",
              "      box-shadow: 0px 1px 2px rgba(60, 64, 67, 0.3), 0px 1px 3px 1px rgba(60, 64, 67, 0.15);\n",
              "      fill: #174EA6;\n",
              "    }\n",
              "\n",
              "    [theme=dark] .colab-df-convert {\n",
              "      background-color: #3B4455;\n",
              "      fill: #D2E3FC;\n",
              "    }\n",
              "\n",
              "    [theme=dark] .colab-df-convert:hover {\n",
              "      background-color: #434B5C;\n",
              "      box-shadow: 0px 1px 3px 1px rgba(0, 0, 0, 0.15);\n",
              "      filter: drop-shadow(0px 1px 2px rgba(0, 0, 0, 0.3));\n",
              "      fill: #FFFFFF;\n",
              "    }\n",
              "  </style>\n",
              "\n",
              "      <script>\n",
              "        const buttonEl =\n",
              "          document.querySelector('#df-c3529cb4-5abc-44f5-8122-0305c9bb9fb2 button.colab-df-convert');\n",
              "        buttonEl.style.display =\n",
              "          google.colab.kernel.accessAllowed ? 'block' : 'none';\n",
              "\n",
              "        async function convertToInteractive(key) {\n",
              "          const element = document.querySelector('#df-c3529cb4-5abc-44f5-8122-0305c9bb9fb2');\n",
              "          const dataTable =\n",
              "            await google.colab.kernel.invokeFunction('convertToInteractive',\n",
              "                                                     [key], {});\n",
              "          if (!dataTable) return;\n",
              "\n",
              "          const docLinkHtml = 'Like what you see? Visit the ' +\n",
              "            '<a target=\"_blank\" href=https://colab.research.google.com/notebooks/data_table.ipynb>data table notebook</a>'\n",
              "            + ' to learn more about interactive tables.';\n",
              "          element.innerHTML = '';\n",
              "          dataTable['output_type'] = 'display_data';\n",
              "          await google.colab.output.renderOutput(dataTable, element);\n",
              "          const docLink = document.createElement('div');\n",
              "          docLink.innerHTML = docLinkHtml;\n",
              "          element.appendChild(docLink);\n",
              "        }\n",
              "      </script>\n",
              "    </div>\n",
              "  </div>\n",
              "  "
            ],
            "text/plain": [
              "       area  bedrooms                      location      price  meter_price  \\\n",
              "0     277.0       4.0          João Pessoa, Manaíra  1300000.0      4693.14   \n",
              "1      73.0       3.0          João Pessoa, Gramame   230000.0      3150.68   \n",
              "2     277.0       4.0          João Pessoa, Manaíra  1300000.0      4693.14   \n",
              "3     130.0       3.0  João Pessoa, Cristo Redentor   235000.0      1807.69   \n",
              "6     250.0       3.0          João Pessoa, Manaíra  1300000.0      5200.00   \n",
              "...     ...       ...                           ...        ...          ...   \n",
              "5695  300.0       3.0     João Pessoa, Pedro Gondim   400000.0      1333.33   \n",
              "5696  235.0       3.0    João Pessoa, Portal do Sol   570000.0      2425.53   \n",
              "5697  180.0       2.0  João Pessoa, Expedicionários   560000.0      3111.11   \n",
              "5698   58.0       2.0     João Pessoa, Funcionários   155000.0      2672.41   \n",
              "5699   58.0       2.0       João Pessoa, Mangabeira   190000.0      3275.86   \n",
              "\n",
              "       z_score  \n",
              "0     0.299565  \n",
              "1     0.477407  \n",
              "2     0.299565  \n",
              "3    -0.496481  \n",
              "6     0.568619  \n",
              "...        ...  \n",
              "5695 -0.617782  \n",
              "5696 -1.587437  \n",
              "5697  0.311313  \n",
              "5698  1.256131  \n",
              "5699  1.257632  \n",
              "\n",
              "[4013 rows x 6 columns]"
            ]
          },
          "execution_count": 51,
          "metadata": {},
          "output_type": "execute_result"
        }
      ],
      "source": [
        "dff"
      ]
    },
    {
      "cell_type": "code",
      "execution_count": 52,
      "metadata": {
        "id": "e9Gy_4UUlXYZ"
      },
      "outputs": [],
      "source": [
        "def standardize_features( dataframe: pd.DataFrame, feature_names: list, operation=\"standardize\"):\n",
        "  \"\"\"standardizes numerical features and returns a dataframe\"\"\"\n",
        "  from sklearn.preprocessing import StandardScaler, Normalizer\n",
        "  if operation == \"normalize\":\n",
        "    operator = Normalizer()\n",
        "  else:\n",
        "    operator = StandardScaler()\n",
        "  df = dataframe\n",
        "  for column_name in feature_names:\n",
        "      raw_data = np.array(df[column_name]).reshape(-1, 1)\n",
        "      transformed = operator.fit_transform(raw_data)\n",
        "      ready = pd.DataFrame(transformed, columns=[column_name])\n",
        "      df = df.drop(column_name, axis=1).join(ready)\n",
        "  return df"
      ]
    },
    {
      "cell_type": "code",
      "execution_count": 53,
      "metadata": {
        "id": "X_IAVAkPlXbL"
      },
      "outputs": [],
      "source": [
        "X = dff.drop([\"price\", \"meter_price\", \"z_score\",\"bedrooms\"], axis=1,)\n",
        "\n",
        "#One hot encoding  \n",
        "X = pd.get_dummies(X, prefix='', prefix_sep='', columns=['location'],drop_first=True)\n",
        "Y = dff.price"
      ]
    },
    {
      "cell_type": "code",
      "execution_count": 54,
      "metadata": {
        "colab": {
          "base_uri": "https://localhost:8080/"
        },
        "id": "ElGNOvv9tUX5",
        "outputId": "71b038d5-69de-4184-f1d0-0c6de2e5372d"
      },
      "outputs": [
        {
          "data": {
            "text/plain": [
              "68"
            ]
          },
          "execution_count": 54,
          "metadata": {},
          "output_type": "execute_result"
        }
      ],
      "source": [
        "X.shape[1]"
      ]
    },
    {
      "cell_type": "code",
      "execution_count": 55,
      "metadata": {
        "id": "KuntbU4DtxuF"
      },
      "outputs": [],
      "source": [
        "x_train_full, x_test, y_train_full, y_test =  train_test_split(X, Y, test_size=0.1)\n",
        "x_valid, x_train =  x_train_full[:300], x_train_full[300:]\n",
        "y_valid, y_train =  y_train_full[:300], y_train_full[300:]"
      ]
    },
    {
      "cell_type": "code",
      "execution_count": 56,
      "metadata": {
        "colab": {
          "base_uri": "https://localhost:8080/"
        },
        "id": "QTH_tkj-lXgf",
        "outputId": "7ec33e65-6eb9-48ab-e601-027dd7ce1858"
      },
      "outputs": [
        {
          "data": {
            "text/plain": [
              "(3311, 68)"
            ]
          },
          "execution_count": 56,
          "metadata": {},
          "output_type": "execute_result"
        }
      ],
      "source": [
        "x_train.shape"
      ]
    },
    {
      "cell_type": "code",
      "execution_count": 57,
      "metadata": {
        "colab": {
          "base_uri": "https://localhost:8080/"
        },
        "id": "8U2FpirclXjd",
        "outputId": "a35c3136-58ef-4dbc-c524-94802de96b7e"
      },
      "outputs": [
        {
          "name": "stdout",
          "output_type": "stream",
          "text": [
            "[14:33:10] WARNING: /workspace/src/objective/regression_obj.cu:152: reg:linear is now deprecated in favor of reg:squarederror.\n",
            "180905.6829329913 465106.8946409851\n"
          ]
        }
      ],
      "source": [
        "forests = RandomForestRegressor(n_estimators=100, random_state=32)\n",
        "xgb = xgboost.XGBRegressor(n_estimators=200, learning_rate=0.2, random_state=42, max_depth=10)\n",
        "\n",
        "selected_model = xgb\n",
        "\n",
        "selected_model.fit(x_train, y_train)\n",
        "pred = selected_model.predict(x_test)\n",
        "squared_error = mean_squared_error(pred, y_test, squared=False)\n",
        "absolute_error = mean_absolute_error(pred, y_test)\n",
        "print(absolute_error, squared_error)"
      ]
    },
    {
      "cell_type": "code",
      "execution_count": 68,
      "metadata": {
        "colab": {
          "base_uri": "https://localhost:8080/"
        },
        "id": "K8bsMMcYlXmZ",
        "outputId": "8c509919-7248-493e-a77f-976d9ad87149"
      },
      "outputs": [
        {
          "name": "stdout",
          "output_type": "stream",
          "text": [
            "Epoch 1/200\n",
            "104/104 [==============================] - 1s 5ms/step - loss: 659763.1875 - val_loss: 560762.2500\n",
            "Epoch 2/200\n",
            "104/104 [==============================] - 0s 3ms/step - loss: 659762.9375 - val_loss: 560762.0000\n",
            "Epoch 3/200\n",
            "104/104 [==============================] - 0s 3ms/step - loss: 659762.8125 - val_loss: 560761.6875\n",
            "Epoch 4/200\n",
            "104/104 [==============================] - 0s 3ms/step - loss: 659762.4375 - val_loss: 560761.3750\n",
            "Epoch 5/200\n",
            "104/104 [==============================] - 0s 3ms/step - loss: 659762.1875 - val_loss: 560761.0625\n",
            "Epoch 6/200\n",
            "104/104 [==============================] - 0s 3ms/step - loss: 659761.6250 - val_loss: 560760.6250\n",
            "Epoch 7/200\n",
            "104/104 [==============================] - 0s 3ms/step - loss: 659761.1875 - val_loss: 560760.1875\n",
            "Epoch 8/200\n",
            "104/104 [==============================] - 0s 3ms/step - loss: 659760.5000 - val_loss: 560759.5000\n",
            "Epoch 9/200\n",
            "104/104 [==============================] - 0s 3ms/step - loss: 659759.5625 - val_loss: 560758.7500\n",
            "Epoch 10/200\n",
            "104/104 [==============================] - 0s 3ms/step - loss: 659758.7500 - val_loss: 560757.7500\n",
            "Epoch 11/200\n",
            "104/104 [==============================] - 0s 3ms/step - loss: 659757.5625 - val_loss: 560756.3750\n",
            "Epoch 12/200\n",
            "104/104 [==============================] - 0s 3ms/step - loss: 659755.8125 - val_loss: 560754.5625\n",
            "Epoch 13/200\n",
            "104/104 [==============================] - 0s 3ms/step - loss: 659753.6250 - val_loss: 560752.0625\n",
            "Epoch 14/200\n",
            "104/104 [==============================] - 0s 3ms/step - loss: 659750.3750 - val_loss: 560748.4375\n",
            "Epoch 15/200\n",
            "104/104 [==============================] - 0s 3ms/step - loss: 659745.5625 - val_loss: 560743.0625\n",
            "Epoch 16/200\n",
            "104/104 [==============================] - 0s 3ms/step - loss: 659738.4375 - val_loss: 560734.6875\n",
            "Epoch 17/200\n",
            "104/104 [==============================] - 0s 3ms/step - loss: 659727.4375 - val_loss: 560720.9375\n",
            "Epoch 18/200\n",
            "104/104 [==============================] - 0s 3ms/step - loss: 659708.1875 - val_loss: 560696.4375\n",
            "Epoch 19/200\n",
            "104/104 [==============================] - 0s 3ms/step - loss: 659672.5625 - val_loss: 560647.9375\n",
            "Epoch 20/200\n",
            "104/104 [==============================] - 0s 3ms/step - loss: 659596.4375 - val_loss: 560534.3750\n",
            "Epoch 21/200\n",
            "104/104 [==============================] - 0s 3ms/step - loss: 659393.7500 - val_loss: 560192.5625\n",
            "Epoch 22/200\n",
            "104/104 [==============================] - 0s 3ms/step - loss: 658608.0625 - val_loss: 558525.0625\n",
            "Epoch 23/200\n",
            "104/104 [==============================] - 0s 3ms/step - loss: 650026.5000 - val_loss: 522907.3750\n",
            "Epoch 24/200\n",
            "104/104 [==============================] - 0s 3ms/step - loss: 380156.4062 - val_loss: 227302.6875\n",
            "Epoch 25/200\n",
            "104/104 [==============================] - 0s 3ms/step - loss: 254251.1562 - val_loss: 229517.5156\n",
            "Epoch 26/200\n",
            "104/104 [==============================] - 0s 3ms/step - loss: 251126.5156 - val_loss: 213756.2344\n",
            "Epoch 27/200\n",
            "104/104 [==============================] - 0s 3ms/step - loss: 248077.7031 - val_loss: 217686.2344\n",
            "Epoch 28/200\n",
            "104/104 [==============================] - 0s 3ms/step - loss: 247571.1562 - val_loss: 209950.1562\n",
            "Epoch 29/200\n",
            "104/104 [==============================] - 0s 3ms/step - loss: 244237.4531 - val_loss: 223387.4062\n",
            "Epoch 30/200\n",
            "104/104 [==============================] - 0s 3ms/step - loss: 243976.7031 - val_loss: 220501.1406\n",
            "Epoch 31/200\n",
            "104/104 [==============================] - 0s 3ms/step - loss: 242059.8906 - val_loss: 214638.3750\n",
            "Epoch 32/200\n",
            "104/104 [==============================] - 0s 3ms/step - loss: 238903.7344 - val_loss: 205889.5781\n",
            "Epoch 33/200\n",
            "104/104 [==============================] - 0s 3ms/step - loss: 237947.9844 - val_loss: 217295.5000\n",
            "Epoch 34/200\n",
            "104/104 [==============================] - 0s 3ms/step - loss: 235910.2812 - val_loss: 205392.0938\n",
            "Epoch 35/200\n",
            "104/104 [==============================] - 0s 3ms/step - loss: 230715.7031 - val_loss: 214778.6719\n",
            "Epoch 36/200\n",
            "104/104 [==============================] - 0s 3ms/step - loss: 227356.0625 - val_loss: 200326.5938\n",
            "Epoch 37/200\n",
            "104/104 [==============================] - 0s 3ms/step - loss: 224994.2656 - val_loss: 193509.5000\n",
            "Epoch 38/200\n",
            "104/104 [==============================] - 0s 3ms/step - loss: 221727.8594 - val_loss: 189185.7656\n",
            "Epoch 39/200\n",
            "104/104 [==============================] - 0s 3ms/step - loss: 218735.4688 - val_loss: 194769.5781\n",
            "Epoch 40/200\n",
            "104/104 [==============================] - 0s 3ms/step - loss: 215930.0156 - val_loss: 183385.3906\n",
            "Epoch 41/200\n",
            "104/104 [==============================] - 0s 3ms/step - loss: 213568.3125 - val_loss: 206330.8438\n",
            "Epoch 42/200\n",
            "104/104 [==============================] - 0s 3ms/step - loss: 212041.5938 - val_loss: 186311.5156\n",
            "Epoch 43/200\n",
            "104/104 [==============================] - 0s 3ms/step - loss: 209827.2969 - val_loss: 186803.7656\n",
            "Epoch 44/200\n",
            "104/104 [==============================] - 0s 3ms/step - loss: 209391.9531 - val_loss: 185868.7031\n",
            "Epoch 45/200\n",
            "104/104 [==============================] - 0s 3ms/step - loss: 206115.8594 - val_loss: 184656.3281\n",
            "Epoch 46/200\n",
            "104/104 [==============================] - 0s 3ms/step - loss: 207814.6250 - val_loss: 185827.9531\n",
            "Epoch 47/200\n",
            "104/104 [==============================] - 0s 3ms/step - loss: 205899.4062 - val_loss: 184842.7500\n",
            "Epoch 48/200\n",
            "104/104 [==============================] - 0s 4ms/step - loss: 204806.2031 - val_loss: 201269.5469\n",
            "Epoch 49/200\n",
            "104/104 [==============================] - 1s 5ms/step - loss: 203821.4062 - val_loss: 180706.7500\n",
            "Epoch 50/200\n",
            "104/104 [==============================] - 1s 8ms/step - loss: 202474.7812 - val_loss: 188612.9062\n",
            "Epoch 51/200\n",
            "104/104 [==============================] - 1s 6ms/step - loss: 203836.6719 - val_loss: 184923.2500\n",
            "Epoch 52/200\n",
            "104/104 [==============================] - 1s 5ms/step - loss: 203144.0938 - val_loss: 172300.9062\n",
            "Epoch 53/200\n",
            "104/104 [==============================] - 0s 2ms/step - loss: 201856.3281 - val_loss: 173664.5312\n",
            "Epoch 54/200\n",
            "104/104 [==============================] - 0s 3ms/step - loss: 200764.0625 - val_loss: 172594.9375\n",
            "Epoch 55/200\n",
            "104/104 [==============================] - 0s 2ms/step - loss: 198111.8281 - val_loss: 176651.9531\n",
            "Epoch 56/200\n",
            "104/104 [==============================] - 0s 2ms/step - loss: 199017.1406 - val_loss: 208316.9531\n",
            "Epoch 57/200\n",
            "104/104 [==============================] - 0s 2ms/step - loss: 200946.6250 - val_loss: 179564.8750\n",
            "Epoch 58/200\n",
            "104/104 [==============================] - 0s 3ms/step - loss: 197429.8594 - val_loss: 167308.7031\n",
            "Epoch 59/200\n",
            "104/104 [==============================] - 0s 3ms/step - loss: 197420.9062 - val_loss: 176441.5625\n",
            "Epoch 60/200\n",
            "104/104 [==============================] - 0s 3ms/step - loss: 197284.8281 - val_loss: 176014.6875\n",
            "Epoch 61/200\n",
            "104/104 [==============================] - 0s 2ms/step - loss: 196348.6250 - val_loss: 171079.5469\n",
            "Epoch 62/200\n",
            "104/104 [==============================] - 0s 3ms/step - loss: 197070.2812 - val_loss: 168635.3906\n",
            "Epoch 63/200\n",
            "104/104 [==============================] - 0s 2ms/step - loss: 195599.9844 - val_loss: 174528.2344\n",
            "Epoch 64/200\n",
            "104/104 [==============================] - 0s 3ms/step - loss: 194153.5938 - val_loss: 159786.2031\n",
            "Epoch 65/200\n",
            "104/104 [==============================] - 0s 3ms/step - loss: 196400.4375 - val_loss: 175675.8594\n",
            "Epoch 66/200\n",
            "104/104 [==============================] - 0s 3ms/step - loss: 193968.4844 - val_loss: 180638.0625\n",
            "Epoch 67/200\n",
            "104/104 [==============================] - 0s 2ms/step - loss: 195284.0469 - val_loss: 186100.7500\n",
            "Epoch 68/200\n",
            "104/104 [==============================] - 0s 3ms/step - loss: 194096.6094 - val_loss: 182834.3125\n",
            "Epoch 69/200\n",
            "104/104 [==============================] - 0s 3ms/step - loss: 193550.7656 - val_loss: 162887.0938\n",
            "Epoch 70/200\n",
            "104/104 [==============================] - 0s 2ms/step - loss: 192906.8281 - val_loss: 179500.8750\n",
            "Epoch 71/200\n",
            "104/104 [==============================] - 0s 3ms/step - loss: 193327.7656 - val_loss: 168664.9375\n",
            "Epoch 72/200\n",
            "104/104 [==============================] - 0s 3ms/step - loss: 191913.2656 - val_loss: 161908.9531\n",
            "Epoch 73/200\n",
            "104/104 [==============================] - 0s 3ms/step - loss: 191180.8594 - val_loss: 165849.5156\n",
            "Epoch 74/200\n",
            "104/104 [==============================] - 0s 3ms/step - loss: 192105.4844 - val_loss: 163019.9375\n",
            "Epoch 75/200\n",
            "104/104 [==============================] - 0s 3ms/step - loss: 191713.7031 - val_loss: 172642.3906\n",
            "Epoch 76/200\n",
            "104/104 [==============================] - 0s 3ms/step - loss: 191292.5469 - val_loss: 173609.5000\n",
            "Epoch 77/200\n",
            "104/104 [==============================] - 0s 3ms/step - loss: 193519.1406 - val_loss: 168561.5469\n",
            "Epoch 78/200\n",
            "104/104 [==============================] - 0s 2ms/step - loss: 192286.9531 - val_loss: 170062.1250\n",
            "Epoch 79/200\n",
            "104/104 [==============================] - 0s 2ms/step - loss: 191166.9375 - val_loss: 167023.7969\n",
            "Epoch 80/200\n",
            "104/104 [==============================] - 0s 3ms/step - loss: 192830.5625 - val_loss: 165578.5469\n",
            "Epoch 81/200\n",
            "104/104 [==============================] - 0s 3ms/step - loss: 190217.2344 - val_loss: 176833.8281\n",
            "Epoch 82/200\n",
            "104/104 [==============================] - 1s 7ms/step - loss: 191009.0469 - val_loss: 161517.9844\n",
            "Epoch 83/200\n",
            "104/104 [==============================] - 0s 2ms/step - loss: 190921.0000 - val_loss: 166534.2031\n",
            "Epoch 84/200\n",
            "104/104 [==============================] - 0s 2ms/step - loss: 190117.0781 - val_loss: 173832.2812\n",
            "Epoch 85/200\n",
            "104/104 [==============================] - 0s 3ms/step - loss: 191841.0312 - val_loss: 165820.7812\n",
            "Epoch 86/200\n",
            "104/104 [==============================] - 0s 3ms/step - loss: 190760.2812 - val_loss: 165614.8281\n",
            "Epoch 87/200\n",
            "104/104 [==============================] - 0s 3ms/step - loss: 190777.5000 - val_loss: 164588.3438\n",
            "Epoch 88/200\n",
            "104/104 [==============================] - 0s 3ms/step - loss: 190010.4844 - val_loss: 185938.5938\n",
            "Epoch 89/200\n",
            "104/104 [==============================] - 0s 3ms/step - loss: 189947.0156 - val_loss: 184981.9219\n",
            "Epoch 90/200\n",
            "104/104 [==============================] - 0s 3ms/step - loss: 190730.9375 - val_loss: 165679.4062\n",
            "Epoch 91/200\n",
            "104/104 [==============================] - 0s 2ms/step - loss: 189952.9531 - val_loss: 165439.5312\n",
            "Epoch 92/200\n",
            "104/104 [==============================] - 0s 3ms/step - loss: 190071.2188 - val_loss: 172752.2656\n",
            "Epoch 93/200\n",
            "104/104 [==============================] - 0s 3ms/step - loss: 189299.4531 - val_loss: 174568.1719\n",
            "Epoch 94/200\n",
            "104/104 [==============================] - 0s 3ms/step - loss: 190647.1094 - val_loss: 158753.0938\n",
            "Epoch 95/200\n",
            "104/104 [==============================] - 0s 3ms/step - loss: 188260.2188 - val_loss: 176818.0625\n",
            "Epoch 96/200\n",
            "104/104 [==============================] - 0s 3ms/step - loss: 190701.9062 - val_loss: 167862.0156\n",
            "Epoch 97/200\n",
            "104/104 [==============================] - 0s 3ms/step - loss: 188747.5781 - val_loss: 178036.8438\n",
            "Epoch 98/200\n",
            "104/104 [==============================] - 0s 3ms/step - loss: 189429.6250 - val_loss: 164925.0312\n",
            "Epoch 99/200\n",
            "104/104 [==============================] - 0s 3ms/step - loss: 188277.2500 - val_loss: 165923.4688\n",
            "Epoch 100/200\n",
            "104/104 [==============================] - 0s 3ms/step - loss: 188063.5469 - val_loss: 164004.3281\n",
            "Epoch 101/200\n",
            "104/104 [==============================] - 0s 3ms/step - loss: 186709.6250 - val_loss: 160593.3281\n",
            "Epoch 102/200\n",
            "104/104 [==============================] - 0s 3ms/step - loss: 188448.2344 - val_loss: 160325.3750\n",
            "Epoch 103/200\n",
            "104/104 [==============================] - 0s 3ms/step - loss: 189652.5469 - val_loss: 163640.3125\n",
            "Epoch 104/200\n",
            "104/104 [==============================] - 0s 3ms/step - loss: 187638.2188 - val_loss: 162448.8906\n",
            "Epoch 105/200\n",
            "104/104 [==============================] - 0s 3ms/step - loss: 188743.0625 - val_loss: 167349.1562\n",
            "Epoch 106/200\n",
            "104/104 [==============================] - 0s 3ms/step - loss: 189049.3438 - val_loss: 173093.3594\n",
            "Epoch 107/200\n",
            "104/104 [==============================] - 0s 3ms/step - loss: 188385.4219 - val_loss: 161767.6250\n",
            "Epoch 108/200\n",
            "104/104 [==============================] - 0s 3ms/step - loss: 190176.1406 - val_loss: 167635.4062\n",
            "Epoch 109/200\n",
            "104/104 [==============================] - 0s 3ms/step - loss: 187979.0000 - val_loss: 169769.7344\n",
            "Epoch 110/200\n",
            "104/104 [==============================] - 0s 3ms/step - loss: 189011.7031 - val_loss: 173212.2188\n",
            "Epoch 111/200\n",
            "104/104 [==============================] - 0s 3ms/step - loss: 187614.5938 - val_loss: 161457.1406\n"
          ]
        }
      ],
      "source": [
        "early_stopping_cb = keras.callbacks.EarlyStopping(patience=10, restore_best_weights=True, monitor=\"loss\")\n",
        "\n",
        "\n",
        "\n",
        "sample_to_normalize = x_train\n",
        "norm_layer = keras.layers.Normalization(axis=1)\n",
        "norm_layer.adapt(tf.constant(sample_to_normalize))\n",
        "\n",
        "neural = keras.models.Sequential([\n",
        "norm_layer,\n",
        "keras.layers.Dense(64, activation=\"selu\", kernel_initializer=\"lecun_normal\", input_shape=X.shape[1:]),\n",
        "keras.layers.Dense(64, kernel_initializer=\"lecun_normal\", activation=\"selu\"),\n",
        "keras.layers.Dense(1, activation=None),\n",
        "])\n",
        "\n",
        "optimizer = keras.optimizers.SGD(learning_rate=0.0005, nesterov=True) #keras.optimizers.RMSprop(lr=0.001) \n",
        "\n",
        "neural.compile(loss=tf.keras.losses.MeanAbsoluteError(), optimizer= optimizer)\n",
        "\n",
        "history = neural.fit(x_train, y_train, validation_data=(x_valid, y_valid), epochs=200, callbacks=[early_stopping_cb])"
      ]
    },
    {
      "cell_type": "code",
      "execution_count": 69,
      "metadata": {
        "id": "Js7UlW2SlXpl"
      },
      "outputs": [],
      "source": [
        "sample = x_test[10:20]\n",
        "sample_answers = y_test[10:20]"
      ]
    },
    {
      "cell_type": "code",
      "execution_count": 70,
      "metadata": {
        "colab": {
          "base_uri": "https://localhost:8080/"
        },
        "id": "E1Qh5s9Yko1r",
        "outputId": "b0374fac-ee88-42c8-8c99-4b8fb5c792d5"
      },
      "outputs": [
        {
          "name": "stdout",
          "output_type": "stream",
          "text": [
            "1/1 [==============================] - 0s 72ms/step\n"
          ]
        },
        {
          "data": {
            "text/plain": [
              "array([[ 273382.03],\n",
              "       [ 324423.6 ],\n",
              "       [ 756497.5 ],\n",
              "       [ 695332.5 ],\n",
              "       [ 159591.39],\n",
              "       [ 267543.6 ],\n",
              "       [ 170341.47],\n",
              "       [2089659.8 ],\n",
              "       [ 297935.94],\n",
              "       [ 953462.25]], dtype=float32)"
            ]
          },
          "execution_count": 70,
          "metadata": {},
          "output_type": "execute_result"
        }
      ],
      "source": [
        "neural.predict(sample)"
      ]
    },
    {
      "cell_type": "code",
      "execution_count": 71,
      "metadata": {
        "colab": {
          "base_uri": "https://localhost:8080/"
        },
        "id": "g15ppyeOvy2n",
        "outputId": "5678a6e9-3d9f-459a-9418-5de6d6461bec"
      },
      "outputs": [
        {
          "data": {
            "text/plain": [
              "[450000.0,\n",
              " 180000.0,\n",
              " 530000.0,\n",
              " 600000.0,\n",
              " 150000.0,\n",
              " 130000.0,\n",
              " 165000.0,\n",
              " 1100000.0,\n",
              " 310000.0,\n",
              " 799000.0]"
            ]
          },
          "execution_count": 71,
          "metadata": {},
          "output_type": "execute_result"
        }
      ],
      "source": [
        "list(sample_answers)"
      ]
    },
    {
      "cell_type": "code",
      "execution_count": 72,
      "metadata": {
        "colab": {
          "base_uri": "https://localhost:8080/"
        },
        "id": "3uUhhJFmv1pO",
        "outputId": "95496111-9130-4415-dee5-300291d5746d"
      },
      "outputs": [
        {
          "name": "stdout",
          "output_type": "stream",
          "text": [
            "13/13 [==============================] - 0s 2ms/step\n",
            "206356.1126982276 461599.8254902077\n"
          ]
        }
      ],
      "source": [
        "pred = neural.predict(x_test)\n",
        "real = y_test\n",
        "\n",
        "squared_error = mean_squared_error(pred, real, squared=False)\n",
        "absolute_error = mean_absolute_error(pred, real)\n",
        "print(absolute_error, squared_error)"
      ]
    },
    {
      "cell_type": "code",
      "execution_count": 73,
      "metadata": {
        "colab": {
          "base_uri": "https://localhost:8080/"
        },
        "id": "MuifTbugzlAF",
        "outputId": "74460933-811d-4180-b2d0-f472e8d04028"
      },
      "outputs": [
        {
          "data": {
            "text/plain": [
              "array(['João Pessoa, Manaíra', 'João Pessoa, Gramame',\n",
              "       'João Pessoa, Cristo Redentor', 'João Pessoa, Varjão',\n",
              "       'João Pessoa, José Américo de Almeida',\n",
              "       'João Pessoa, Distrito Industrial', 'João Pessoa, Ernani Sátiro',\n",
              "       'João Pessoa, Paratibe', 'João Pessoa, Altiplano Cabo Branco',\n",
              "       'João Pessoa, Valentina de Figueiredo',\n",
              "       'João Pessoa, Funcionários', 'João Pessoa, Mangabeira',\n",
              "       'João Pessoa, Aeroclube', 'João Pessoa, Indústrias',\n",
              "       'João Pessoa, Brisamar', 'João Pessoa, Oitizeiro',\n",
              "       'João Pessoa, Portal do Sol', 'João Pessoa, Jaguaribe',\n",
              "       'João Pessoa, Bessa', 'João Pessoa, Ernesto Geisel',\n",
              "       'João Pessoa, Estados', 'João Pessoa, Bancários',\n",
              "       'João Pessoa, Jardim São Paulo', 'João Pessoa, Jardim Oceania',\n",
              "       'João Pessoa, Expedicionários', 'João Pessoa, João Agripino',\n",
              "       'João Pessoa, Ipês', 'João Pessoa, Mumbaba', 'João Pessoa, Cuiá',\n",
              "       'João Pessoa, Muçumagro', 'João Pessoa, Tambiá',\n",
              "       'Cabedelo, Ponta de Campina', 'João Pessoa, Tambaú',\n",
              "       'João Pessoa, Cabo Branco', 'João Pessoa, José Américo De Almeida',\n",
              "       'Cabedelo, Poço', 'Cabedelo, Intermares', 'João Pessoa, Mandacaru',\n",
              "       'João Pessoa, Centro', 'João Pessoa, Tambauzinho',\n",
              "       'João Pessoa, Jardim Cidade Universitária',\n",
              "       'João Pessoa, Água Fria', 'João Pessoa, Castelo Branco',\n",
              "       'João Pessoa, Torre', 'João Pessoa, Roger',\n",
              "       'João Pessoa, João Paulo II', 'João Pessoa, Alto do Céu',\n",
              "       'João Pessoa, Miramar', 'João Pessoa, Anatólia',\n",
              "       'João Pessoa, Costa e Silva', 'João Pessoa, Cruz das Armas',\n",
              "       'João Pessoa, Cidade dos Colibris', 'João Pessoa, Treze de Maio',\n",
              "       'João Pessoa, Barra de Gramame', 'João Pessoa, Ponta do Seixas',\n",
              "       'João Pessoa, Alto do Mateus', 'João Pessoa, Varadouro',\n",
              "       'João Pessoa, Pedro Gondim', 'João Pessoa, Planalto Boa Esperança',\n",
              "       'João Pessoa, Jardim Veneza', 'João Pessoa, Trincheiras',\n",
              "       'João Pessoa, Grotão', 'João Pessoa, Barra De Gramame',\n",
              "       'Cabedelo, Monte Castelo', 'Cabedelo, Formosa',\n",
              "       'Cabedelo, Camboinha', 'Cabedelo, Centro',\n",
              "       'João Pessoa, Ilha do Bispo', 'Cabedelo, Ponta de Matos',\n",
              "       'João Pessoa, Penha', 'Cabedelo, Areia Dourada',\n",
              "       'João Pessoa, Valentina De Figueiredo', 'João Pessoa, São José',\n",
              "       'João Pessoa, Costa do Sol'], dtype=object)"
            ]
          },
          "execution_count": 73,
          "metadata": {},
          "output_type": "execute_result"
        }
      ],
      "source": [
        "locations"
      ]
    },
    {
      "cell_type": "code",
      "execution_count": 74,
      "metadata": {
        "id": "k19H7O7jzb98"
      },
      "outputs": [],
      "source": [
        "def predict_new(model, X, area, location, bedrooms=None):\n",
        "  locations = list(X.columns)\n",
        "  size=X.shape[1]\n",
        "  entry = np.zeros(size)\n",
        "  try:\n",
        "    locations = list(locations)\n",
        "    location_idx = locations.index(location)\n",
        "    entry[location_idx] = 1\n",
        "  except ValueError:\n",
        "    pass\n",
        "  entry[0] = area\n",
        "  #entry[1] = bedrooms\n",
        "  entry = entry.reshape(1,size)\n",
        "  return model.predict(entry)"
      ]
    },
    {
      "cell_type": "code",
      "execution_count": 75,
      "metadata": {
        "colab": {
          "base_uri": "https://localhost:8080/"
        },
        "id": "iiy9irlnv112",
        "outputId": "19ff5d48-1f36-4c51-8ab1-a6529da5c3c5"
      },
      "outputs": [
        {
          "name": "stdout",
          "output_type": "stream",
          "text": [
            "1/1 [==============================] - 0s 74ms/step\n"
          ]
        },
        {
          "data": {
            "text/plain": [
              "array([[376825.2]], dtype=float32)"
            ]
          },
          "execution_count": 75,
          "metadata": {},
          "output_type": "execute_result"
        }
      ],
      "source": [
        "predict_new(neural, X, 182. ,\"João Pessoa, José Américo de Almeida\")"
      ]
    },
    {
      "cell_type": "code",
      "execution_count": 75,
      "metadata": {
        "id": "HBzW27wzv14-"
      },
      "outputs": [],
      "source": []
    },
    {
      "cell_type": "code",
      "execution_count": 75,
      "metadata": {
        "id": "nKisw6zRv18G"
      },
      "outputs": [],
      "source": []
    }
  ],
  "metadata": {
    "colab": {
      "provenance": []
    },
    "kernelspec": {
      "display_name": "Python 3",
      "name": "python3"
    },
    "language_info": {
      "name": "python"
    }
  },
  "nbformat": 4,
  "nbformat_minor": 0
}
