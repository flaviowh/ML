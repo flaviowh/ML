{
 "cells": [
  {
   "cell_type": "code",
   "execution_count": 285,
   "metadata": {},
   "outputs": [],
   "source": [
    "import re\n",
    "import string\n",
    "from statistics import mean, median, mode\n",
    "\n",
    "import pandas as pd\n",
    "import numpy as np\n",
    "import nltk\n",
    "\n",
    "from sklearn.metrics import accuracy_score\n",
    "from matplotlib import pyplot as plt\n",
    "from keras.utils import to_categorical\n",
    "from tensorflow.keras.preprocessing.sequence import pad_sequences\n",
    "from tensorflow.keras import regularizers\n",
    "from tensorflow.keras.preprocessing.text import Tokenizer\n",
    "from keras.models import Sequential\n",
    "from keras.layers import Dense, Dropout, Input, LSTM, Bidirectional, GlobalMaxPooling1D, Conv1D, MaxPooling1D, Flatten\n",
    "\n",
    "\n",
    "from nltk.corpus import stopwords\n",
    "from nltk.stem import WordNetLemmatizer\n",
    "\n",
    "from sklearn.model_selection import train_test_split\n",
    "\n",
    "pd.set_option('display.max_rows', 1000)\n",
    "pd.set_option('display.max_columns', 1000)"
   ]
  },
  {
   "cell_type": "code",
   "execution_count": 2,
   "metadata": {},
   "outputs": [
    {
     "name": "stderr",
     "output_type": "stream",
     "text": [
      "[nltk_data] Downloading package stopwords to\n",
      "[nltk_data]     C:\\Users\\flavi\\AppData\\Roaming\\nltk_data...\n",
      "[nltk_data]   Package stopwords is already up-to-date!\n",
      "[nltk_data] Downloading package wordnet to\n",
      "[nltk_data]     C:\\Users\\flavi\\AppData\\Roaming\\nltk_data...\n",
      "[nltk_data]   Package wordnet is already up-to-date!\n"
     ]
    },
    {
     "data": {
      "text/plain": [
       "True"
      ]
     },
     "execution_count": 2,
     "metadata": {},
     "output_type": "execute_result"
    }
   ],
   "source": [
    "nltk.download('stopwords')\n",
    "nltk.download('wordnet')"
   ]
  },
  {
   "cell_type": "code",
   "execution_count": 3,
   "metadata": {},
   "outputs": [],
   "source": [
    "df = pd.read_csv(\"D:\\Data for python\\datasets\\cyber bullying tweets\\cyberbullying_tweets.csv\") "
   ]
  },
  {
   "cell_type": "code",
   "execution_count": 4,
   "metadata": {},
   "outputs": [
    {
     "data": {
      "text/html": [
       "<div>\n",
       "<style scoped>\n",
       "    .dataframe tbody tr th:only-of-type {\n",
       "        vertical-align: middle;\n",
       "    }\n",
       "\n",
       "    .dataframe tbody tr th {\n",
       "        vertical-align: top;\n",
       "    }\n",
       "\n",
       "    .dataframe thead th {\n",
       "        text-align: right;\n",
       "    }\n",
       "</style>\n",
       "<table border=\"1\" class=\"dataframe\">\n",
       "  <thead>\n",
       "    <tr style=\"text-align: right;\">\n",
       "      <th></th>\n",
       "      <th>tweet_text</th>\n",
       "      <th>cyberbullying_type</th>\n",
       "    </tr>\n",
       "  </thead>\n",
       "  <tbody>\n",
       "    <tr>\n",
       "      <th>0</th>\n",
       "      <td>In other words #katandandre, your food was cra...</td>\n",
       "      <td>not_cyberbullying</td>\n",
       "    </tr>\n",
       "    <tr>\n",
       "      <th>1</th>\n",
       "      <td>Why is #aussietv so white? #MKR #theblock #ImA...</td>\n",
       "      <td>not_cyberbullying</td>\n",
       "    </tr>\n",
       "    <tr>\n",
       "      <th>2</th>\n",
       "      <td>@XochitlSuckkks a classy whore? Or more red ve...</td>\n",
       "      <td>not_cyberbullying</td>\n",
       "    </tr>\n",
       "    <tr>\n",
       "      <th>3</th>\n",
       "      <td>@Jason_Gio meh. :P  thanks for the heads up, b...</td>\n",
       "      <td>not_cyberbullying</td>\n",
       "    </tr>\n",
       "    <tr>\n",
       "      <th>4</th>\n",
       "      <td>@RudhoeEnglish This is an ISIS account pretend...</td>\n",
       "      <td>not_cyberbullying</td>\n",
       "    </tr>\n",
       "    <tr>\n",
       "      <th>...</th>\n",
       "      <td>...</td>\n",
       "      <td>...</td>\n",
       "    </tr>\n",
       "    <tr>\n",
       "      <th>47687</th>\n",
       "      <td>Black ppl aren't expected to do anything, depe...</td>\n",
       "      <td>ethnicity</td>\n",
       "    </tr>\n",
       "    <tr>\n",
       "      <th>47688</th>\n",
       "      <td>Turner did not withhold his disappointment. Tu...</td>\n",
       "      <td>ethnicity</td>\n",
       "    </tr>\n",
       "    <tr>\n",
       "      <th>47689</th>\n",
       "      <td>I swear to God. This dumb nigger bitch. I have...</td>\n",
       "      <td>ethnicity</td>\n",
       "    </tr>\n",
       "    <tr>\n",
       "      <th>47690</th>\n",
       "      <td>Yea fuck you RT @therealexel: IF YOURE A NIGGE...</td>\n",
       "      <td>ethnicity</td>\n",
       "    </tr>\n",
       "    <tr>\n",
       "      <th>47691</th>\n",
       "      <td>Bro. U gotta chill RT @CHILLShrammy: Dog FUCK ...</td>\n",
       "      <td>ethnicity</td>\n",
       "    </tr>\n",
       "  </tbody>\n",
       "</table>\n",
       "<p>47692 rows × 2 columns</p>\n",
       "</div>"
      ],
      "text/plain": [
       "                                              tweet_text cyberbullying_type\n",
       "0      In other words #katandandre, your food was cra...  not_cyberbullying\n",
       "1      Why is #aussietv so white? #MKR #theblock #ImA...  not_cyberbullying\n",
       "2      @XochitlSuckkks a classy whore? Or more red ve...  not_cyberbullying\n",
       "3      @Jason_Gio meh. :P  thanks for the heads up, b...  not_cyberbullying\n",
       "4      @RudhoeEnglish This is an ISIS account pretend...  not_cyberbullying\n",
       "...                                                  ...                ...\n",
       "47687  Black ppl aren't expected to do anything, depe...          ethnicity\n",
       "47688  Turner did not withhold his disappointment. Tu...          ethnicity\n",
       "47689  I swear to God. This dumb nigger bitch. I have...          ethnicity\n",
       "47690  Yea fuck you RT @therealexel: IF YOURE A NIGGE...          ethnicity\n",
       "47691  Bro. U gotta chill RT @CHILLShrammy: Dog FUCK ...          ethnicity\n",
       "\n",
       "[47692 rows x 2 columns]"
      ]
     },
     "execution_count": 4,
     "metadata": {},
     "output_type": "execute_result"
    }
   ],
   "source": [
    "df"
   ]
  },
  {
   "cell_type": "code",
   "execution_count": 5,
   "metadata": {},
   "outputs": [
    {
     "name": "stdout",
     "output_type": "stream",
     "text": [
      "<class 'pandas.core.frame.DataFrame'>\n",
      "RangeIndex: 47692 entries, 0 to 47691\n",
      "Data columns (total 2 columns):\n",
      " #   Column              Non-Null Count  Dtype \n",
      "---  ------              --------------  ----- \n",
      " 0   tweet_text          47692 non-null  object\n",
      " 1   cyberbullying_type  47692 non-null  object\n",
      "dtypes: object(2)\n",
      "memory usage: 745.3+ KB\n"
     ]
    }
   ],
   "source": [
    "df.info()"
   ]
  },
  {
   "cell_type": "code",
   "execution_count": 6,
   "metadata": {},
   "outputs": [
    {
     "data": {
      "text/plain": [
       "array(['not_cyberbullying', 'gender', 'religion', 'other_cyberbullying',\n",
       "       'age', 'ethnicity'], dtype=object)"
      ]
     },
     "execution_count": 6,
     "metadata": {},
     "output_type": "execute_result"
    }
   ],
   "source": [
    "df.cyberbullying_type.unique()"
   ]
  },
  {
   "cell_type": "code",
   "execution_count": 7,
   "metadata": {},
   "outputs": [],
   "source": [
    "bullying_type = { \"not_cyberbullying\":0, \"gender\":1, \"religion\":2, \"age\":3, \"ethnicity\":4, \"other_cyberbullying\":5}"
   ]
  },
  {
   "cell_type": "code",
   "execution_count": 8,
   "metadata": {},
   "outputs": [],
   "source": [
    "df.cyberbullying_type = df.cyberbullying_type.apply(lambda x: bullying_type[x])"
   ]
  },
  {
   "cell_type": "code",
   "execution_count": 9,
   "metadata": {},
   "outputs": [],
   "source": [
    "df.tweet_text = df.tweet_text.apply(lambda x: x.lower())"
   ]
  },
  {
   "cell_type": "code",
   "execution_count": 10,
   "metadata": {},
   "outputs": [
    {
     "data": {
      "text/html": [
       "<div>\n",
       "<style scoped>\n",
       "    .dataframe tbody tr th:only-of-type {\n",
       "        vertical-align: middle;\n",
       "    }\n",
       "\n",
       "    .dataframe tbody tr th {\n",
       "        vertical-align: top;\n",
       "    }\n",
       "\n",
       "    .dataframe thead th {\n",
       "        text-align: right;\n",
       "    }\n",
       "</style>\n",
       "<table border=\"1\" class=\"dataframe\">\n",
       "  <thead>\n",
       "    <tr style=\"text-align: right;\">\n",
       "      <th></th>\n",
       "      <th>tweet_text</th>\n",
       "      <th>cyberbullying_type</th>\n",
       "    </tr>\n",
       "  </thead>\n",
       "  <tbody>\n",
       "    <tr>\n",
       "      <th>0</th>\n",
       "      <td>in other words #katandandre, your food was cra...</td>\n",
       "      <td>0</td>\n",
       "    </tr>\n",
       "    <tr>\n",
       "      <th>1</th>\n",
       "      <td>why is #aussietv so white? #mkr #theblock #ima...</td>\n",
       "      <td>0</td>\n",
       "    </tr>\n",
       "    <tr>\n",
       "      <th>2</th>\n",
       "      <td>@xochitlsuckkks a classy whore? or more red ve...</td>\n",
       "      <td>0</td>\n",
       "    </tr>\n",
       "    <tr>\n",
       "      <th>3</th>\n",
       "      <td>@jason_gio meh. :p  thanks for the heads up, b...</td>\n",
       "      <td>0</td>\n",
       "    </tr>\n",
       "    <tr>\n",
       "      <th>4</th>\n",
       "      <td>@rudhoeenglish this is an isis account pretend...</td>\n",
       "      <td>0</td>\n",
       "    </tr>\n",
       "    <tr>\n",
       "      <th>...</th>\n",
       "      <td>...</td>\n",
       "      <td>...</td>\n",
       "    </tr>\n",
       "    <tr>\n",
       "      <th>47687</th>\n",
       "      <td>black ppl aren't expected to do anything, depe...</td>\n",
       "      <td>4</td>\n",
       "    </tr>\n",
       "    <tr>\n",
       "      <th>47688</th>\n",
       "      <td>turner did not withhold his disappointment. tu...</td>\n",
       "      <td>4</td>\n",
       "    </tr>\n",
       "    <tr>\n",
       "      <th>47689</th>\n",
       "      <td>i swear to god. this dumb nigger bitch. i have...</td>\n",
       "      <td>4</td>\n",
       "    </tr>\n",
       "    <tr>\n",
       "      <th>47690</th>\n",
       "      <td>yea fuck you rt @therealexel: if youre a nigge...</td>\n",
       "      <td>4</td>\n",
       "    </tr>\n",
       "    <tr>\n",
       "      <th>47691</th>\n",
       "      <td>bro. u gotta chill rt @chillshrammy: dog fuck ...</td>\n",
       "      <td>4</td>\n",
       "    </tr>\n",
       "  </tbody>\n",
       "</table>\n",
       "<p>47692 rows × 2 columns</p>\n",
       "</div>"
      ],
      "text/plain": [
       "                                              tweet_text  cyberbullying_type\n",
       "0      in other words #katandandre, your food was cra...                   0\n",
       "1      why is #aussietv so white? #mkr #theblock #ima...                   0\n",
       "2      @xochitlsuckkks a classy whore? or more red ve...                   0\n",
       "3      @jason_gio meh. :p  thanks for the heads up, b...                   0\n",
       "4      @rudhoeenglish this is an isis account pretend...                   0\n",
       "...                                                  ...                 ...\n",
       "47687  black ppl aren't expected to do anything, depe...                   4\n",
       "47688  turner did not withhold his disappointment. tu...                   4\n",
       "47689  i swear to god. this dumb nigger bitch. i have...                   4\n",
       "47690  yea fuck you rt @therealexel: if youre a nigge...                   4\n",
       "47691  bro. u gotta chill rt @chillshrammy: dog fuck ...                   4\n",
       "\n",
       "[47692 rows x 2 columns]"
      ]
     },
     "execution_count": 10,
     "metadata": {},
     "output_type": "execute_result"
    }
   ],
   "source": [
    "df"
   ]
  },
  {
   "cell_type": "code",
   "execution_count": 302,
   "metadata": {},
   "outputs": [
    {
     "data": {
      "image/png": "[encoded data removed]",
      "text/plain": [
       "<Figure size 600x300 with 1 Axes>"
      ]
     },
     "metadata": {},
     "output_type": "display_data"
    }
   ],
   "source": [
    "sizes = df.tweet_text.apply(lambda x: len(x.split())).tolist()\n",
    "plt.figure(figsize=(6, 3))\n",
    "plt.hist(sizes)\n",
    "plt.title(\"number of words in tweets\")\n",
    "plt.show()"
   ]
  },
  {
   "attachments": {},
   "cell_type": "markdown",
   "metadata": {},
   "source": [
    "preparing GLOVE word embeddings"
   ]
  },
  {
   "cell_type": "code",
   "execution_count": 65,
   "metadata": {},
   "outputs": [],
   "source": [
    "EMBED_DIM = 25\n",
    "\n",
    "glove_path = fr\"D:\\Data for python\\datasets\\glove.twitter.27B\\glove.twitter.27B.{EMBED_DIM}d.txt\"\n",
    "\n",
    "def dict_from_embeddings(filename):\n",
    "    embeddings = {}\n",
    "    with open(filename, 'r', encoding='utf-8') as f:\n",
    "        for line in f.readlines():\n",
    "            line = line.split(' ')\n",
    "            try:\n",
    "                embeddings[line[0]] = np.array(line[1:], dtype=float)\n",
    "            except:\n",
    "                continue\n",
    "    return embeddings"
   ]
  },
  {
   "cell_type": "code",
   "execution_count": 66,
   "metadata": {},
   "outputs": [],
   "source": [
    "embedding_dict = dict_from_embeddings(glove_path)"
   ]
  },
  {
   "cell_type": "code",
   "execution_count": 67,
   "metadata": {},
   "outputs": [
    {
     "data": {
      "text/plain": [
       "1193515"
      ]
     },
     "execution_count": 67,
     "metadata": {},
     "output_type": "execute_result"
    }
   ],
   "source": [
    "len(embedding_dict)"
   ]
  },
  {
   "attachments": {},
   "cell_type": "markdown",
   "metadata": {},
   "source": [
    "presence of special characters.\n",
    "what to do with them?"
   ]
  },
  {
   "cell_type": "code",
   "execution_count": 68,
   "metadata": {},
   "outputs": [
    {
     "name": "stdout",
     "output_type": "stream",
     "text": [
      "hashtags: 14.7%\n",
      "mentions: 38.03 %\n"
     ]
    }
   ],
   "source": [
    "# hashtags\n",
    "ht = df[df.tweet_text.str.contains(\"#\")].shape[0] / df.shape[0]\n",
    "mentions = df[df.tweet_text.str.contains(\"@\")].shape[0] / df.shape[0]\n",
    "\n",
    "print(f\"hashtags: {round(ht * 100,2 )}%\")\n",
    "print(f\"mentions: {round(mentions *100,2)} %\")"
   ]
  },
  {
   "attachments": {},
   "cell_type": "markdown",
   "metadata": {},
   "source": [
    "what if we swap @ to \"mentions \" and # to \"about\" ?"
   ]
  },
  {
   "cell_type": "code",
   "execution_count": 69,
   "metadata": {},
   "outputs": [],
   "source": [
    "stop_words = set(stopwords.words('english'))\n",
    "lemmatizer = WordNetLemmatizer()\n",
    "\n",
    "\n",
    "def clean_tweet(tweet: str):\n",
    "    tweet = re.sub(r\"http\\S+|www\\S+|https\\S+\", '', tweet, flags=re.MULTILINE)\n",
    "    # Replace user mentions and hashtags with special tokens\n",
    "    tweet = tweet.replace(\"@\", \"mentions \")\n",
    "    tweet = tweet.replace(\"#\", \"about \")\n",
    "    # remove stop words\n",
    "    tweet = \" \".join([word for word in tweet.split()\n",
    "                     if word not in stop_words])\n",
    "    # remove remaining punctuation\n",
    "    tweet = tweet.translate(str.maketrans('', '', string.punctuation))\n",
    "    return tweet\n",
    "\n",
    "\n",
    "def lemmatize_word(words):\n",
    "    return [lemmatizer.lemmatize(word) for word in words if word not in stop_words]\n",
    "\n",
    "\n",
    "def pad_sequence(sequence, max_length):\n",
    "    if len(sequence) >= max_length:\n",
    "        return sequence[:max_length]\n",
    "    else:\n",
    "        return sequence + [0]*(max_length - len(sequence))\n",
    "\n",
    "\n",
    "def vectorize_sequence(sequence, embeddings_dict):\n",
    "    return np.array([embeddings_dict.get(word, np.zeros(EMBED_DIM, dtype=np.float32)) for word in sequence])\n",
    "\n",
    "\n",
    "def vectorize_tweet(tweet, embeddings_dict, max_length):\n",
    "    # clean\n",
    "    clean = clean_tweet(tweet)\n",
    "    # Lemmatize tokens\n",
    "    lemmatized_tokens = lemmatize_word(clean.split())\n",
    "    # Pad sequence\n",
    "    padded_tweet = pad_sequence(lemmatized_tokens, max_length)\n",
    "    # Vectorize sequence\n",
    "    vectorized_tweet = vectorize_sequence(padded_tweet, embeddings_dict)\n",
    "    return vectorized_tweet\n"
   ]
  },
  {
   "cell_type": "code",
   "execution_count": 176,
   "metadata": {},
   "outputs": [],
   "source": [
    "# Preprocess tweets\n",
    "MAX_LEN = 50 # int(mean([len(tweet.split()) for tweet in x]))\n",
    "\n",
    "preprocessed_tweets = [vectorize_tweet(tweet, embedding_dict, MAX_LEN) for tweet in df.tweet_text]\n",
    "preprocessed_tweets = np.array(preprocessed_tweets)"
   ]
  },
  {
   "cell_type": "code",
   "execution_count": 177,
   "metadata": {},
   "outputs": [
    {
     "data": {
      "text/plain": [
       "(50, 25)"
      ]
     },
     "execution_count": 177,
     "metadata": {},
     "output_type": "execute_result"
    }
   ],
   "source": [
    "preprocessed_tweets[0].shape"
   ]
  },
  {
   "cell_type": "code",
   "execution_count": 178,
   "metadata": {},
   "outputs": [],
   "source": [
    "SPLIT_CUT =  38000   # the size of the training data\n",
    "\n",
    "x = preprocessed_tweets \n",
    "y = df.cyberbullying_type\n",
    "\n",
    "x_train_full, x_test, y_train_full, y_test =  train_test_split(x, y, test_size=0.1)          \n",
    "x_train, x_valid =  x_train_full[:SPLIT_CUT], x_train_full[SPLIT_CUT:]   \n",
    "y_train, y_valid =  y_train_full[:SPLIT_CUT], y_train_full[SPLIT_CUT:]\n"
   ]
  },
  {
   "attachments": {},
   "cell_type": "markdown",
   "metadata": {},
   "source": [
    "Models"
   ]
  },
  {
   "cell_type": "code",
   "execution_count": 179,
   "metadata": {},
   "outputs": [],
   "source": [
    "input_dim = len(embedding_dict)\n",
    "embedding_dim = EMBED_DIM\n",
    "max_length = MAX_LEN\n",
    "num_classes = len(df.cyberbullying_type.unique())\n",
    "\n",
    "model = Sequential()\n",
    "model.add(Input(shape=(max_length, embedding_dim)))\n",
    "model.add(Bidirectional(LSTM(64, return_sequences=True)))\n",
    "model.add(GlobalMaxPooling1D())\n",
    "model.add(Dense(64, activation='relu'))\n",
    "model.add(Dropout(0.5))\n",
    "model.add(Dense(num_classes, activation='softmax'))\n",
    "\n",
    "model.compile(optimizer='adam', loss='categorical_crossentropy', metrics=['accuracy'])"
   ]
  },
  {
   "cell_type": "code",
   "execution_count": 180,
   "metadata": {},
   "outputs": [
    {
     "name": "stdout",
     "output_type": "stream",
     "text": [
      "Epoch 1/10\n",
      "1188/1188 [==============================] - 66s 51ms/step - loss: 0.7950 - accuracy: 0.6939 - val_loss: 0.5246 - val_accuracy: 0.7794\n",
      "Epoch 2/10\n",
      "1188/1188 [==============================] - 60s 51ms/step - loss: 0.5426 - accuracy: 0.7846 - val_loss: 0.4629 - val_accuracy: 0.8125\n",
      "Epoch 3/10\n",
      "1188/1188 [==============================] - 63s 53ms/step - loss: 0.4885 - accuracy: 0.8039 - val_loss: 0.4525 - val_accuracy: 0.8167\n",
      "Epoch 4/10\n",
      "1188/1188 [==============================] - 58s 49ms/step - loss: 0.4585 - accuracy: 0.8159 - val_loss: 0.4347 - val_accuracy: 0.8261\n",
      "Epoch 5/10\n",
      "1188/1188 [==============================] - 61s 51ms/step - loss: 0.4392 - accuracy: 0.8218 - val_loss: 0.4236 - val_accuracy: 0.8253\n",
      "Epoch 6/10\n",
      "1188/1188 [==============================] - 60s 50ms/step - loss: 0.4208 - accuracy: 0.8297 - val_loss: 0.4085 - val_accuracy: 0.8369\n",
      "Epoch 7/10\n",
      "1188/1188 [==============================] - 60s 51ms/step - loss: 0.4062 - accuracy: 0.8335 - val_loss: 0.4038 - val_accuracy: 0.8371\n",
      "Epoch 8/10\n",
      "1188/1188 [==============================] - 56s 47ms/step - loss: 0.3936 - accuracy: 0.8390 - val_loss: 0.4185 - val_accuracy: 0.8306\n",
      "Epoch 9/10\n",
      "1188/1188 [==============================] - 54s 45ms/step - loss: 0.3795 - accuracy: 0.8418 - val_loss: 0.3979 - val_accuracy: 0.8401\n",
      "Epoch 10/10\n",
      "1188/1188 [==============================] - 55s 46ms/step - loss: 0.3700 - accuracy: 0.8454 - val_loss: 0.4113 - val_accuracy: 0.8330\n"
     ]
    }
   ],
   "source": [
    "ephocs_ = 10\n",
    "history = model.fit(x_train, to_categorical(y_train), validation_data=(x_valid, to_categorical(y_valid)), epochs=ephocs_)"
   ]
  },
  {
   "cell_type": "code",
   "execution_count": 181,
   "metadata": {},
   "outputs": [
    {
     "data": {
      "image/png": "[encoded data removed]",
      "text/plain": [
       "<Figure size 1000x300 with 2 Axes>"
      ]
     },
     "metadata": {},
     "output_type": "display_data"
    }
   ],
   "source": [
    "fig, axs = plt.subplots(1, 2, figsize=(10, 3))\n",
    "\n",
    "axs[0].plot(history.history[\"accuracy\"], label=\"Train acc\")\n",
    "axs[0].plot(history.history[\"val_accuracy\"], label=\"Validation acc\")\n",
    "axs[0].set_title(\"Accuracy\")\n",
    "axs[0].set_xlabel(\"Epoch\")\n",
    "axs[0].set_ylabel(\"Accuracy\")\n",
    "axs[0].legend()\n",
    "\n",
    "axs[1].plot(history.history[\"loss\"], label=\"Train loss\")\n",
    "axs[1].plot(history.history[\"val_loss\"], label=\"Validation loss\")\n",
    "axs[1].set_title(\"Loss\")\n",
    "axs[1].set_xlabel(\"Epoch\")\n",
    "axs[1].set_ylabel(\"Loss\")\n",
    "axs[1].legend()\n",
    "\n",
    "plt.show()\n"
   ]
  },
  {
   "cell_type": "code",
   "execution_count": 182,
   "metadata": {},
   "outputs": [
    {
     "name": "stdout",
     "output_type": "stream",
     "text": [
      "150/150 [==============================] - 4s 18ms/step\n"
     ]
    }
   ],
   "source": [
    "preds = model.predict(x_test)\n",
    "preds_winners = [np.argmax(pred) for pred in preds]"
   ]
  },
  {
   "cell_type": "code",
   "execution_count": 183,
   "metadata": {},
   "outputs": [
    {
     "data": {
      "text/plain": [
       "0.8362683438155136"
      ]
     },
     "execution_count": 183,
     "metadata": {},
     "output_type": "execute_result"
    }
   ],
   "source": [
    "accuracy_score(y_test, preds_winners)"
   ]
  },
  {
   "attachments": {},
   "cell_type": "markdown",
   "metadata": {},
   "source": [
    "conslusion:  83% accuracy. But I tried the model on fake tweets and noticed that it doesn't capture more subtle forms of bullying, paying too much attention to keywords instead of meanings. It could be used as a simple flagging system for inspection by humans or a better model."
   ]
  }
 ],
 "metadata": {
  "kernelspec": {
   "display_name": "Python 3",
   "language": "python",
   "name": "python3"
  },
  "language_info": {
   "codemirror_mode": {
    "name": "ipython",
    "version": 3
   },
   "file_extension": ".py",
   "mimetype": "text/x-python",
   "name": "python",
   "nbconvert_exporter": "python",
   "pygments_lexer": "ipython3",
   "version": "3.11.2"
  },
  "orig_nbformat": 4
 },
 "nbformat": 4,
 "nbformat_minor": 2
}
