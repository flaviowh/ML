{
  "nbformat": 4,
  "nbformat_minor": 0,
  "metadata": {
    "colab": {
      "provenance": []
    },
    "kernelspec": {
      "name": "python3",
      "display_name": "Python 3"
    },
    "language_info": {
      "name": "python"
    }
  },
  "cells": [
    {
      "cell_type": "code",
      "source": [
        "import pandas as pd\n",
        "import numpy as np\n",
        "from matplotlib import pyplot as plt\n",
        "\n",
        "\n",
        "from imblearn.over_sampling import SMOTE\n",
        "\n",
        "from sklearn.model_selection import GridSearchCV, RandomizedSearchCV\n",
        "from sklearn.linear_model import LogisticRegression\n",
        "from sklearn.metrics import confusion_matrix, precision_recall_curve, auc, roc_auc_score, roc_curve, recall_score, classification_report\n",
        "\n",
        "from sklearn.model_selection import train_test_split\n",
        "from sklearn.preprocessing import StandardScaler, Normalizer\n",
        "\n",
        "from sklearn.cluster import KMeans\n",
        "from sklearn.ensemble import RandomForestClassifier, RandomForestRegressor\n",
        "from xgboost import XGBClassifier, XGBRegressor\n",
        "\n",
        "\n",
        "from google.colab import files\n",
        "\n",
        "import tensorflow as tf\n",
        "from tensorflow import keras\n",
        "\n",
        "import seaborn as sns\n",
        "pd.set_option('display.max_rows', 1000)\n",
        "pd.set_option('display.max_columns', 1000)\n"
      ],
      "metadata": {
        "id": "116G-cqsqx6a"
      },
      "execution_count": 1,
      "outputs": []
    },
    {
      "cell_type": "code",
      "source": [
        "try:\n",
        "  import catboost\n",
        "except ModuleNotFoundError:\n",
        "  !pip install catboost\n",
        "  from catboost import CatBoostRegressor"
      ],
      "metadata": {
        "colab": {
          "base_uri": "https://localhost:8080/"
        },
        "id": "B3V7mxzlBGcX",
        "outputId": "e2da3e92-5bb7-4a30-ab79-d9f0b02f01d5"
      },
      "execution_count": 2,
      "outputs": [
        {
          "output_type": "stream",
          "name": "stdout",
          "text": [
            "Looking in indexes: https://pypi.org/simple, https://us-python.pkg.dev/colab-wheels/public/simple/\n",
            "Collecting catboost\n",
            "  Downloading catboost-1.1.1-cp38-none-manylinux1_x86_64.whl (76.6 MB)\n",
            "\u001b[2K     \u001b[90m━━━━━━━━━━━━━━━━━━━━━━━━━━━━━━━━━━━━━━━━\u001b[0m \u001b[32m76.6/76.6 MB\u001b[0m \u001b[31m6.4 MB/s\u001b[0m eta \u001b[36m0:00:00\u001b[0m\n",
            "\u001b[?25hRequirement already satisfied: matplotlib in /usr/local/lib/python3.8/dist-packages (from catboost) (3.2.2)\n",
            "Requirement already satisfied: graphviz in /usr/local/lib/python3.8/dist-packages (from catboost) (0.10.1)\n",
            "Requirement already satisfied: six in /usr/local/lib/python3.8/dist-packages (from catboost) (1.15.0)\n",
            "Requirement already satisfied: plotly in /usr/local/lib/python3.8/dist-packages (from catboost) (5.5.0)\n",
            "Requirement already satisfied: pandas>=0.24.0 in /usr/local/lib/python3.8/dist-packages (from catboost) (1.3.5)\n",
            "Requirement already satisfied: numpy>=1.16.0 in /usr/local/lib/python3.8/dist-packages (from catboost) (1.21.6)\n",
            "Requirement already satisfied: scipy in /usr/local/lib/python3.8/dist-packages (from catboost) (1.7.3)\n",
            "Requirement already satisfied: python-dateutil>=2.7.3 in /usr/local/lib/python3.8/dist-packages (from pandas>=0.24.0->catboost) (2.8.2)\n",
            "Requirement already satisfied: pytz>=2017.3 in /usr/local/lib/python3.8/dist-packages (from pandas>=0.24.0->catboost) (2022.7.1)\n",
            "Requirement already satisfied: kiwisolver>=1.0.1 in /usr/local/lib/python3.8/dist-packages (from matplotlib->catboost) (1.4.4)\n",
            "Requirement already satisfied: cycler>=0.10 in /usr/local/lib/python3.8/dist-packages (from matplotlib->catboost) (0.11.0)\n",
            "Requirement already satisfied: pyparsing!=2.0.4,!=2.1.2,!=2.1.6,>=2.0.1 in /usr/local/lib/python3.8/dist-packages (from matplotlib->catboost) (3.0.9)\n",
            "Requirement already satisfied: tenacity>=6.2.0 in /usr/local/lib/python3.8/dist-packages (from plotly->catboost) (8.2.0)\n",
            "Installing collected packages: catboost\n",
            "Successfully installed catboost-1.1.1\n"
          ]
        }
      ]
    },
    {
      "cell_type": "code",
      "execution_count": 3,
      "metadata": {
        "id": "3l20C9FEqCsg"
      },
      "outputs": [],
      "source": [
        "real_data = r'/content/drive/MyDrive/datasets/strokeprediction/stroke data/healthcare-dataset-stroke-data.csv'\n",
        "train_data = r'/content/drive/MyDrive/datasets/strokeprediction/stroke data - generated/train.csv'\n",
        "test_data  = r'/content/drive/MyDrive/datasets/strokeprediction/stroke data - generated/test.csv'\n",
        "\n",
        "df = pd.read_csv(train_data)\n",
        "test = pd.read_csv(test_data)\n",
        "dff = pd.read_csv(real_data)"
      ]
    },
    {
      "cell_type": "code",
      "source": [
        "saving_folder = r'/content/drive/MyDrive/Colab Notebooks/predictions'\n",
        "\n",
        "def kaggle_submission(trained_model, test_data, savename=\"my_predictions\", neural=False):\n",
        "  predictions = trained_model.predict(test_data)\n",
        "  if neural:\n",
        "    predictions = [pred for [pred] in predictions]\n",
        "  indices = range(15304, 25508)\n",
        "  sub_df = pd.DataFrame(zip(indices, predictions) , columns=[\"id\", \"stroke\"])\n",
        "  with open(f\"{saving_folder}/{savename}.csv\", 'w', encoding = 'utf-8-sig') as f:\n",
        "    sub_df.to_csv(f, index=False)\n",
        "  files.download(f\"{saving_folder}/{savename}.csv\")\n",
        "\n",
        "\n",
        "def standardize_features( dataframe: pd.DataFrame, feature_names: list, standardize=True):\n",
        "  \"\"\"standardizes numerical features and returns a dataframe\"\"\"\n",
        "  from sklearn.preprocessing import StandardScaler, Normalizer\n",
        "  if not standardize:\n",
        "    operator = Normalizer()\n",
        "  else:\n",
        "    operator = StandardScaler()\n",
        "  df = dataframe\n",
        "  for column_name in feature_names:\n",
        "      raw_data = np.array(df[column_name]).reshape(-1, 1)\n",
        "      transformed = operator.fit_transform(raw_data)\n",
        "      ready = pd.DataFrame(transformed, columns=[column_name])\n",
        "      df = df.drop(column_name, axis=1).join(ready)\n",
        "  return df"
      ],
      "metadata": {
        "id": "hN0HRU0MgY3Q"
      },
      "execution_count": 4,
      "outputs": []
    },
    {
      "cell_type": "code",
      "source": [
        "len(range(15304, 25505))"
      ],
      "metadata": {
        "colab": {
          "base_uri": "https://localhost:8080/"
        },
        "id": "pOs6yTYPm-9L",
        "outputId": "6da23f41-58e9-4c23-f866-541d8a7017a6"
      },
      "execution_count": 5,
      "outputs": [
        {
          "output_type": "execute_result",
          "data": {
            "text/plain": [
              "10201"
            ]
          },
          "metadata": {},
          "execution_count": 5
        }
      ]
    },
    {
      "cell_type": "code",
      "source": [
        "df"
      ],
      "metadata": {
        "colab": {
          "base_uri": "https://localhost:8080/",
          "height": 424
        },
        "id": "P-NRBfPEqyCx",
        "outputId": "8967e98d-575e-4270-8215-982e12da273c"
      },
      "execution_count": 6,
      "outputs": [
        {
          "output_type": "execute_result",
          "data": {
            "text/plain": [
              "          id  gender   age  hypertension  heart_disease ever_married  \\\n",
              "0          0    Male  28.0             0              0          Yes   \n",
              "1          1    Male  33.0             0              0          Yes   \n",
              "2          2  Female  42.0             0              0          Yes   \n",
              "3          3    Male  56.0             0              0          Yes   \n",
              "4          4  Female  24.0             0              0           No   \n",
              "...      ...     ...   ...           ...            ...          ...   \n",
              "15299  15299  Female  22.0             0              0           No   \n",
              "15300  15300  Female  46.0             1              0          Yes   \n",
              "15301  15301  Female  75.0             0              0          Yes   \n",
              "15302  15302    Male  46.0             0              0          Yes   \n",
              "15303  15303  Female  14.0             0              0           No   \n",
              "\n",
              "           work_type Residence_type  avg_glucose_level   bmi   smoking_status  \\\n",
              "0            Private          Urban              79.53  31.1     never smoked   \n",
              "1            Private          Rural              78.44  23.9  formerly smoked   \n",
              "2            Private          Rural             103.00  40.3          Unknown   \n",
              "3            Private          Urban              64.87  28.8     never smoked   \n",
              "4            Private          Rural              73.36  28.8     never smoked   \n",
              "...              ...            ...                ...   ...              ...   \n",
              "15299       Govt_job          Urban              72.63  19.5     never smoked   \n",
              "15300        Private          Urban             101.19  32.1     never smoked   \n",
              "15301  Self-employed          Urban              87.69  26.2     never smoked   \n",
              "15302        Private          Rural             101.13  22.5          Unknown   \n",
              "15303        Private          Rural              85.12  24.7     never smoked   \n",
              "\n",
              "       stroke  \n",
              "0           0  \n",
              "1           0  \n",
              "2           0  \n",
              "3           0  \n",
              "4           0  \n",
              "...       ...  \n",
              "15299       0  \n",
              "15300       0  \n",
              "15301       0  \n",
              "15302       0  \n",
              "15303       0  \n",
              "\n",
              "[15304 rows x 12 columns]"
            ],
            "text/html": [
              "\n",
              "  <div id=\"df-a627e579-c2f2-4a6d-a44c-87429d8d38c9\">\n",
              "    <div class=\"colab-df-container\">\n",
              "      <div>\n",
              "<style scoped>\n",
              "    .dataframe tbody tr th:only-of-type {\n",
              "        vertical-align: middle;\n",
              "    }\n",
              "\n",
              "    .dataframe tbody tr th {\n",
              "        vertical-align: top;\n",
              "    }\n",
              "\n",
              "    .dataframe thead th {\n",
              "        text-align: right;\n",
              "    }\n",
              "</style>\n",
              "<table border=\"1\" class=\"dataframe\">\n",
              "  <thead>\n",
              "    <tr style=\"text-align: right;\">\n",
              "      <th></th>\n",
              "      <th>id</th>\n",
              "      <th>gender</th>\n",
              "      <th>age</th>\n",
              "      <th>hypertension</th>\n",
              "      <th>heart_disease</th>\n",
              "      <th>ever_married</th>\n",
              "      <th>work_type</th>\n",
              "      <th>Residence_type</th>\n",
              "      <th>avg_glucose_level</th>\n",
              "      <th>bmi</th>\n",
              "      <th>smoking_status</th>\n",
              "      <th>stroke</th>\n",
              "    </tr>\n",
              "  </thead>\n",
              "  <tbody>\n",
              "    <tr>\n",
              "      <th>0</th>\n",
              "      <td>0</td>\n",
              "      <td>Male</td>\n",
              "      <td>28.0</td>\n",
              "      <td>0</td>\n",
              "      <td>0</td>\n",
              "      <td>Yes</td>\n",
              "      <td>Private</td>\n",
              "      <td>Urban</td>\n",
              "      <td>79.53</td>\n",
              "      <td>31.1</td>\n",
              "      <td>never smoked</td>\n",
              "      <td>0</td>\n",
              "    </tr>\n",
              "    <tr>\n",
              "      <th>1</th>\n",
              "      <td>1</td>\n",
              "      <td>Male</td>\n",
              "      <td>33.0</td>\n",
              "      <td>0</td>\n",
              "      <td>0</td>\n",
              "      <td>Yes</td>\n",
              "      <td>Private</td>\n",
              "      <td>Rural</td>\n",
              "      <td>78.44</td>\n",
              "      <td>23.9</td>\n",
              "      <td>formerly smoked</td>\n",
              "      <td>0</td>\n",
              "    </tr>\n",
              "    <tr>\n",
              "      <th>2</th>\n",
              "      <td>2</td>\n",
              "      <td>Female</td>\n",
              "      <td>42.0</td>\n",
              "      <td>0</td>\n",
              "      <td>0</td>\n",
              "      <td>Yes</td>\n",
              "      <td>Private</td>\n",
              "      <td>Rural</td>\n",
              "      <td>103.00</td>\n",
              "      <td>40.3</td>\n",
              "      <td>Unknown</td>\n",
              "      <td>0</td>\n",
              "    </tr>\n",
              "    <tr>\n",
              "      <th>3</th>\n",
              "      <td>3</td>\n",
              "      <td>Male</td>\n",
              "      <td>56.0</td>\n",
              "      <td>0</td>\n",
              "      <td>0</td>\n",
              "      <td>Yes</td>\n",
              "      <td>Private</td>\n",
              "      <td>Urban</td>\n",
              "      <td>64.87</td>\n",
              "      <td>28.8</td>\n",
              "      <td>never smoked</td>\n",
              "      <td>0</td>\n",
              "    </tr>\n",
              "    <tr>\n",
              "      <th>4</th>\n",
              "      <td>4</td>\n",
              "      <td>Female</td>\n",
              "      <td>24.0</td>\n",
              "      <td>0</td>\n",
              "      <td>0</td>\n",
              "      <td>No</td>\n",
              "      <td>Private</td>\n",
              "      <td>Rural</td>\n",
              "      <td>73.36</td>\n",
              "      <td>28.8</td>\n",
              "      <td>never smoked</td>\n",
              "      <td>0</td>\n",
              "    </tr>\n",
              "    <tr>\n",
              "      <th>...</th>\n",
              "      <td>...</td>\n",
              "      <td>...</td>\n",
              "      <td>...</td>\n",
              "      <td>...</td>\n",
              "      <td>...</td>\n",
              "      <td>...</td>\n",
              "      <td>...</td>\n",
              "      <td>...</td>\n",
              "      <td>...</td>\n",
              "      <td>...</td>\n",
              "      <td>...</td>\n",
              "      <td>...</td>\n",
              "    </tr>\n",
              "    <tr>\n",
              "      <th>15299</th>\n",
              "      <td>15299</td>\n",
              "      <td>Female</td>\n",
              "      <td>22.0</td>\n",
              "      <td>0</td>\n",
              "      <td>0</td>\n",
              "      <td>No</td>\n",
              "      <td>Govt_job</td>\n",
              "      <td>Urban</td>\n",
              "      <td>72.63</td>\n",
              "      <td>19.5</td>\n",
              "      <td>never smoked</td>\n",
              "      <td>0</td>\n",
              "    </tr>\n",
              "    <tr>\n",
              "      <th>15300</th>\n",
              "      <td>15300</td>\n",
              "      <td>Female</td>\n",
              "      <td>46.0</td>\n",
              "      <td>1</td>\n",
              "      <td>0</td>\n",
              "      <td>Yes</td>\n",
              "      <td>Private</td>\n",
              "      <td>Urban</td>\n",
              "      <td>101.19</td>\n",
              "      <td>32.1</td>\n",
              "      <td>never smoked</td>\n",
              "      <td>0</td>\n",
              "    </tr>\n",
              "    <tr>\n",
              "      <th>15301</th>\n",
              "      <td>15301</td>\n",
              "      <td>Female</td>\n",
              "      <td>75.0</td>\n",
              "      <td>0</td>\n",
              "      <td>0</td>\n",
              "      <td>Yes</td>\n",
              "      <td>Self-employed</td>\n",
              "      <td>Urban</td>\n",
              "      <td>87.69</td>\n",
              "      <td>26.2</td>\n",
              "      <td>never smoked</td>\n",
              "      <td>0</td>\n",
              "    </tr>\n",
              "    <tr>\n",
              "      <th>15302</th>\n",
              "      <td>15302</td>\n",
              "      <td>Male</td>\n",
              "      <td>46.0</td>\n",
              "      <td>0</td>\n",
              "      <td>0</td>\n",
              "      <td>Yes</td>\n",
              "      <td>Private</td>\n",
              "      <td>Rural</td>\n",
              "      <td>101.13</td>\n",
              "      <td>22.5</td>\n",
              "      <td>Unknown</td>\n",
              "      <td>0</td>\n",
              "    </tr>\n",
              "    <tr>\n",
              "      <th>15303</th>\n",
              "      <td>15303</td>\n",
              "      <td>Female</td>\n",
              "      <td>14.0</td>\n",
              "      <td>0</td>\n",
              "      <td>0</td>\n",
              "      <td>No</td>\n",
              "      <td>Private</td>\n",
              "      <td>Rural</td>\n",
              "      <td>85.12</td>\n",
              "      <td>24.7</td>\n",
              "      <td>never smoked</td>\n",
              "      <td>0</td>\n",
              "    </tr>\n",
              "  </tbody>\n",
              "</table>\n",
              "<p>15304 rows × 12 columns</p>\n",
              "</div>\n",
              "      <button class=\"colab-df-convert\" onclick=\"convertToInteractive('df-a627e579-c2f2-4a6d-a44c-87429d8d38c9')\"\n",
              "              title=\"Convert this dataframe to an interactive table.\"\n",
              "              style=\"display:none;\">\n",
              "        \n",
              "  <svg xmlns=\"http://www.w3.org/2000/svg\" height=\"24px\"viewBox=\"0 0 24 24\"\n",
              "       width=\"24px\">\n",
              "    <path d=\"M0 0h24v24H0V0z\" fill=\"none\"/>\n",
              "    <path d=\"M18.56 5.44l.94 2.06.94-2.06 2.06-.94-2.06-.94-.94-2.06-.94 2.06-2.06.94zm-11 1L8.5 8.5l.94-2.06 2.06-.94-2.06-.94L8.5 2.5l-.94 2.06-2.06.94zm10 10l.94 2.06.94-2.06 2.06-.94-2.06-.94-.94-2.06-.94 2.06-2.06.94z\"/><path d=\"M17.41 7.96l-1.37-1.37c-.4-.4-.92-.59-1.43-.59-.52 0-1.04.2-1.43.59L10.3 9.45l-7.72 7.72c-.78.78-.78 2.05 0 2.83L4 21.41c.39.39.9.59 1.41.59.51 0 1.02-.2 1.41-.59l7.78-7.78 2.81-2.81c.8-.78.8-2.07 0-2.86zM5.41 20L4 18.59l7.72-7.72 1.47 1.35L5.41 20z\"/>\n",
              "  </svg>\n",
              "      </button>\n",
              "      \n",
              "  <style>\n",
              "    .colab-df-container {\n",
              "      display:flex;\n",
              "      flex-wrap:wrap;\n",
              "      gap: 12px;\n",
              "    }\n",
              "\n",
              "    .colab-df-convert {\n",
              "      background-color: #E8F0FE;\n",
              "      border: none;\n",
              "      border-radius: 50%;\n",
              "      cursor: pointer;\n",
              "      display: none;\n",
              "      fill: #1967D2;\n",
              "      height: 32px;\n",
              "      padding: 0 0 0 0;\n",
              "      width: 32px;\n",
              "    }\n",
              "\n",
              "    .colab-df-convert:hover {\n",
              "      background-color: #E2EBFA;\n",
              "      box-shadow: 0px 1px 2px rgba(60, 64, 67, 0.3), 0px 1px 3px 1px rgba(60, 64, 67, 0.15);\n",
              "      fill: #174EA6;\n",
              "    }\n",
              "\n",
              "    [theme=dark] .colab-df-convert {\n",
              "      background-color: #3B4455;\n",
              "      fill: #D2E3FC;\n",
              "    }\n",
              "\n",
              "    [theme=dark] .colab-df-convert:hover {\n",
              "      background-color: #434B5C;\n",
              "      box-shadow: 0px 1px 3px 1px rgba(0, 0, 0, 0.15);\n",
              "      filter: drop-shadow(0px 1px 2px rgba(0, 0, 0, 0.3));\n",
              "      fill: #FFFFFF;\n",
              "    }\n",
              "  </style>\n",
              "\n",
              "      <script>\n",
              "        const buttonEl =\n",
              "          document.querySelector('#df-a627e579-c2f2-4a6d-a44c-87429d8d38c9 button.colab-df-convert');\n",
              "        buttonEl.style.display =\n",
              "          google.colab.kernel.accessAllowed ? 'block' : 'none';\n",
              "\n",
              "        async function convertToInteractive(key) {\n",
              "          const element = document.querySelector('#df-a627e579-c2f2-4a6d-a44c-87429d8d38c9');\n",
              "          const dataTable =\n",
              "            await google.colab.kernel.invokeFunction('convertToInteractive',\n",
              "                                                     [key], {});\n",
              "          if (!dataTable) return;\n",
              "\n",
              "          const docLinkHtml = 'Like what you see? Visit the ' +\n",
              "            '<a target=\"_blank\" href=https://colab.research.google.com/notebooks/data_table.ipynb>data table notebook</a>'\n",
              "            + ' to learn more about interactive tables.';\n",
              "          element.innerHTML = '';\n",
              "          dataTable['output_type'] = 'display_data';\n",
              "          await google.colab.output.renderOutput(dataTable, element);\n",
              "          const docLink = document.createElement('div');\n",
              "          docLink.innerHTML = docLinkHtml;\n",
              "          element.appendChild(docLink);\n",
              "        }\n",
              "      </script>\n",
              "    </div>\n",
              "  </div>\n",
              "  "
            ]
          },
          "metadata": {},
          "execution_count": 6
        }
      ]
    },
    {
      "cell_type": "markdown",
      "source": [
        "# looking at the real data first"
      ],
      "metadata": {
        "id": "L9C4NZudr6Dq"
      }
    },
    {
      "cell_type": "code",
      "source": [
        "dff.info()"
      ],
      "metadata": {
        "colab": {
          "base_uri": "https://localhost:8080/"
        },
        "id": "EB4ZhqDNrH2m",
        "outputId": "e1640c57-4feb-4209-8183-5c874e320b4c"
      },
      "execution_count": 7,
      "outputs": [
        {
          "output_type": "stream",
          "name": "stdout",
          "text": [
            "<class 'pandas.core.frame.DataFrame'>\n",
            "RangeIndex: 5110 entries, 0 to 5109\n",
            "Data columns (total 12 columns):\n",
            " #   Column             Non-Null Count  Dtype  \n",
            "---  ------             --------------  -----  \n",
            " 0   id                 5110 non-null   int64  \n",
            " 1   gender             5110 non-null   object \n",
            " 2   age                5110 non-null   float64\n",
            " 3   hypertension       5110 non-null   int64  \n",
            " 4   heart_disease      5110 non-null   int64  \n",
            " 5   ever_married       5110 non-null   object \n",
            " 6   work_type          5110 non-null   object \n",
            " 7   Residence_type     5110 non-null   object \n",
            " 8   avg_glucose_level  5110 non-null   float64\n",
            " 9   bmi                4909 non-null   float64\n",
            " 10  smoking_status     5110 non-null   object \n",
            " 11  stroke             5110 non-null   int64  \n",
            "dtypes: float64(3), int64(4), object(5)\n",
            "memory usage: 479.2+ KB\n"
          ]
        }
      ]
    },
    {
      "cell_type": "code",
      "source": [
        "dff[\"bmi\"] = dff.bmi.fillna(df.bmi.median())"
      ],
      "metadata": {
        "id": "70uOLYr4rH5f"
      },
      "execution_count": 8,
      "outputs": []
    },
    {
      "cell_type": "code",
      "source": [
        "dff.info()"
      ],
      "metadata": {
        "colab": {
          "base_uri": "https://localhost:8080/"
        },
        "id": "Wq__6wK3rH8Y",
        "outputId": "b8c57e08-9dcd-4337-8dfa-f563ef7ae28f"
      },
      "execution_count": 9,
      "outputs": [
        {
          "output_type": "stream",
          "name": "stdout",
          "text": [
            "<class 'pandas.core.frame.DataFrame'>\n",
            "RangeIndex: 5110 entries, 0 to 5109\n",
            "Data columns (total 12 columns):\n",
            " #   Column             Non-Null Count  Dtype  \n",
            "---  ------             --------------  -----  \n",
            " 0   id                 5110 non-null   int64  \n",
            " 1   gender             5110 non-null   object \n",
            " 2   age                5110 non-null   float64\n",
            " 3   hypertension       5110 non-null   int64  \n",
            " 4   heart_disease      5110 non-null   int64  \n",
            " 5   ever_married       5110 non-null   object \n",
            " 6   work_type          5110 non-null   object \n",
            " 7   Residence_type     5110 non-null   object \n",
            " 8   avg_glucose_level  5110 non-null   float64\n",
            " 9   bmi                5110 non-null   float64\n",
            " 10  smoking_status     5110 non-null   object \n",
            " 11  stroke             5110 non-null   int64  \n",
            "dtypes: float64(3), int64(4), object(5)\n",
            "memory usage: 479.2+ KB\n"
          ]
        }
      ]
    },
    {
      "cell_type": "code",
      "source": [
        "dfff = pd.get_dummies(dff)  # for working with models"
      ],
      "metadata": {
        "id": "JBa_SkwysksR"
      },
      "execution_count": 10,
      "outputs": []
    },
    {
      "cell_type": "markdown",
      "source": [
        "Looking at the categories balance. Real data is rarely balanced"
      ],
      "metadata": {
        "id": "17RKRhTIAwt9"
      }
    },
    {
      "cell_type": "code",
      "source": [
        "dff.stroke.value_counts()\n",
        "\n",
        "# unbalanced!"
      ],
      "metadata": {
        "colab": {
          "base_uri": "https://localhost:8080/"
        },
        "id": "yntoneEZu_gx",
        "outputId": "039dc246-0b58-4da5-ba84-23dd712044da"
      },
      "execution_count": 11,
      "outputs": [
        {
          "output_type": "execute_result",
          "data": {
            "text/plain": [
              "0    4861\n",
              "1     249\n",
              "Name: stroke, dtype: int64"
            ]
          },
          "metadata": {},
          "execution_count": 11
        }
      ]
    },
    {
      "cell_type": "code",
      "source": [
        "df.stroke.value_counts()\n",
        "\n",
        "\n",
        "# the generated data is also unbalanced"
      ],
      "metadata": {
        "colab": {
          "base_uri": "https://localhost:8080/"
        },
        "id": "qp21B6TLBaE5",
        "outputId": "af9ad76e-a6dc-4b6c-e522-262120e6b330"
      },
      "execution_count": 12,
      "outputs": [
        {
          "output_type": "execute_result",
          "data": {
            "text/plain": [
              "0    14672\n",
              "1      632\n",
              "Name: stroke, dtype: int64"
            ]
          },
          "metadata": {},
          "execution_count": 12
        }
      ]
    },
    {
      "cell_type": "code",
      "source": [
        "fig, ax = plt.subplots(figsize=(10, 10))\n",
        "ax = sns.heatmap(df.drop(\"id\", axis=1).corr(), vmin=-1, vmax=1, annot=True, \n",
        "                 cmap=sns.light_palette(\"lightsteelblue\",n_colors=10, reverse=False),\n",
        "                 ax=ax)\n",
        "\n",
        "plt.tight_layout()\n",
        "plt.show()"
      ],
      "metadata": {
        "colab": {
          "base_uri": "https://localhost:8080/",
          "height": 729
        },
        "id": "OM3uVeM1DGzF",
        "outputId": "7638a662-9984-4d80-f312-76048961d71b"
      },
      "execution_count": 13,
      "outputs": [
        {
          "output_type": "display_data",
          "data": {
            "text/plain": [
              "<Figure size 720x720 with 2 Axes>"
            ],
            "image/png": "[encoded data removed]"
          },
          "metadata": {
            "needs_background": "light"
          }
        }
      ]
    },
    {
      "cell_type": "code",
      "source": [
        "features =  [\"work_type\", \"smoking_status\", \"Residence_type\", \"ever_married\", \"gender\", \"hypertension\", \"heart_disease\"]\n",
        "\n",
        "def color_func(pct): return \"blue\" if pct > 50 else \"red\"\n",
        "\n",
        "for ft in features:\n",
        "    data1 = dff[df.stroke == 0][ft].sample(len(dff[dff.stroke == 1])).value_counts()\n",
        "    data2 = dff[df.stroke == 1][ft].value_counts()\n",
        "\n",
        "    colors1 = plt.cm.Pastel1(np.linspace(0, 1, len(data1)))\n",
        "    positive_colors = plt.rcParams['axes.prop_cycle'].by_key()['color']\n",
        "    is_numeric = np.issubdtype(dff[ft].dtype, np.number)\n",
        "    if len(data2.unique()) == 2:\n",
        "        positive_colors =  [\"#7da9bd\", \"#eb746c\"] if is_numeric else [\"#eb746c\", \"#7da9bd\"]\n",
        "    colors1 = positive_colors if is_numeric else colors1    \n",
        "\n",
        "    fig, (ax1, ax2) = plt.subplots(1, 2, figsize=(8,4))\n",
        "    ax1.pie(data1, labels=data1.index, autopct=\"%0.1f%%\", colors=colors1)\n",
        "    ax1.set_title(f\"{ft} didn't have stroke\",size = 10)\n",
        "    ax2.pie(data2, labels=data2.index, autopct=\"%0.1f%%\", colors =positive_colors)\n",
        "    ax2.set_title(f\"{ft} had stroke\", size = 10)\n",
        "    plt.show()"
      ],
      "metadata": {
        "colab": {
          "base_uri": "https://localhost:8080/",
          "height": 1000
        },
        "id": "nkld6Rs2sk3v",
        "outputId": "804ac43f-51a5-4b41-8517-4d64b0c3652b"
      },
      "execution_count": 14,
      "outputs": [
        {
          "output_type": "stream",
          "name": "stderr",
          "text": [
            "<ipython-input-14-443b2df9307c>:6: UserWarning: Boolean Series key will be reindexed to match DataFrame index.\n",
            "  data1 = dff[df.stroke == 0][ft].sample(len(dff[dff.stroke == 1])).value_counts()\n",
            "<ipython-input-14-443b2df9307c>:7: UserWarning: Boolean Series key will be reindexed to match DataFrame index.\n",
            "  data2 = dff[df.stroke == 1][ft].value_counts()\n"
          ]
        },
        {
          "output_type": "display_data",
          "data": {
            "text/plain": [
              "<Figure size 576x288 with 2 Axes>"
            ],
            "image/png": "[encoded data removed]"
          },
          "metadata": {}
        },
        {
          "output_type": "display_data",
          "data": {
            "text/plain": [
              "<Figure size 576x288 with 2 Axes>"
            ],
            "image/png": "[encoded data removed]"
          },
          "metadata": {}
        },
        {
          "output_type": "display_data",
          "data": {
            "text/plain": [
              "<Figure size 576x288 with 2 Axes>"
            ],
            "image/png": "[encoded data removed]"
          },
          "metadata": {}
        },
        {
          "output_type": "display_data",
          "data": {
            "text/plain": [
              "<Figure size 576x288 with 2 Axes>"
            ],
            "image/png": "[encoded data removed]"
          },
          "metadata": {}
        },
        {
          "output_type": "display_data",
          "data": {
            "text/plain": [
              "<Figure size 576x288 with 2 Axes>"
            ],
            "image/png": "[encoded data removed]"
          },
          "metadata": {}
        },
        {
          "output_type": "display_data",
          "data": {
            "text/plain": [
              "<Figure size 576x288 with 2 Axes>"
            ],
            "image/png": "[encoded data removed]"
          },
          "metadata": {}
        },
        {
          "output_type": "display_data",
          "data": {
            "text/plain": [
              "<Figure size 576x288 with 2 Axes>"
            ],
            "image/png": "[encoded data removed]"
          },
          "metadata": {}
        }
      ]
    },
    {
      "cell_type": "code",
      "source": [
        "features =  [\"bmi\", \"avg_glucose_level\",\"age\" ]\n",
        "\n",
        "for ft in features:\n",
        "    data1 = dff[dff.stroke == 0][ft].sample(len(dff[dff.stroke == 1]))\n",
        "    data2 = dff[dff.stroke == 1][ft]\n",
        "\n",
        "    fig, (ax1, ax2) = plt.subplots(1, 2, figsize=(8,4))\n",
        "    ax1.hist(data1,bins=20)\n",
        "    ax1.set_title(f\"{ft.title()} no stroke md:{round(data1.mean(),2)}\", size = 10)\n",
        "    ax2.hist(data2,bins=20)\n",
        "    ax2.set_title(f\"{ft.title()} had stroke median {round(data2.mean(),2)}\", size = 10)\n",
        "    plt.show()"
      ],
      "metadata": {
        "colab": {
          "base_uri": "https://localhost:8080/",
          "height": 803
        },
        "id": "XYPqUUiMsk6H",
        "outputId": "8afef9fa-12e5-4c53-faad-7123ffc03fed"
      },
      "execution_count": 15,
      "outputs": [
        {
          "output_type": "display_data",
          "data": {
            "text/plain": [
              "<Figure size 576x288 with 2 Axes>"
            ],
            "image/png": "[encoded data removed]"
          },
          "metadata": {
            "needs_background": "light"
          }
        },
        {
          "output_type": "display_data",
          "data": {
            "text/plain": [
              "<Figure size 576x288 with 2 Axes>"
            ],
            "image/png": "[encoded data removed]"
          },
          "metadata": {
            "needs_background": "light"
          }
        },
        {
          "output_type": "display_data",
          "data": {
            "text/plain": [
              "<Figure size 576x288 with 2 Axes>"
            ],
            "image/png": "[encoded data removed]"
          },
          "metadata": {
            "needs_background": "light"
          }
        }
      ]
    },
    {
      "cell_type": "markdown",
      "source": [
        "# joining the data"
      ],
      "metadata": {
        "id": "ZJRKXS6mBoFy"
      }
    },
    {
      "cell_type": "code",
      "source": [
        "df = pd.concat([df, dff], axis = 0, ignore_index= True)"
      ],
      "metadata": {
        "id": "Wu2JeUg6Bj8C"
      },
      "execution_count": 16,
      "outputs": []
    },
    {
      "cell_type": "markdown",
      "source": [
        "one-encoding "
      ],
      "metadata": {
        "id": "9JJCi_gb-rvO"
      }
    },
    {
      "cell_type": "code",
      "source": [
        "df = pd.get_dummies(df, drop_first=True)\n",
        "test = pd.get_dummies(test,drop_first=True)\n",
        "# besides ID, some features are deleted after checking best_params of xgbboost model\n",
        "# could also use PCA, but it's maybe too much\n",
        "df.drop([\"id\", \"gender_Other\", 'work_type_children'], axis=1, inplace=True)\n",
        "test.drop([\"id\", \"gender_Other\",'work_type_children'], axis=1, inplace=True)"
      ],
      "metadata": {
        "id": "TL_iy4zZsk9D"
      },
      "execution_count": 17,
      "outputs": []
    },
    {
      "cell_type": "code",
      "source": [
        "df.columns"
      ],
      "metadata": {
        "colab": {
          "base_uri": "https://localhost:8080/"
        },
        "id": "zSP9__gBh7pe",
        "outputId": "69789bd3-f7a2-4c44-8702-189b05729074"
      },
      "execution_count": 18,
      "outputs": [
        {
          "output_type": "execute_result",
          "data": {
            "text/plain": [
              "Index(['age', 'hypertension', 'heart_disease', 'avg_glucose_level', 'bmi',\n",
              "       'stroke', 'gender_Male', 'ever_married_Yes', 'work_type_Never_worked',\n",
              "       'work_type_Private', 'work_type_Self-employed', 'Residence_type_Urban',\n",
              "       'smoking_status_formerly smoked', 'smoking_status_never smoked',\n",
              "       'smoking_status_smokes'],\n",
              "      dtype='object')"
            ]
          },
          "metadata": {},
          "execution_count": 18
        }
      ]
    },
    {
      "cell_type": "code",
      "source": [
        "x = df.drop(\"stroke\",axis=1)\n",
        "y = df.stroke\n",
        "\n",
        "assert (x.columns == test.columns).all()"
      ],
      "metadata": {
        "id": "CtbeGle7hv3B"
      },
      "execution_count": 19,
      "outputs": []
    },
    {
      "cell_type": "code",
      "source": [
        "x_train_full, x_test, y_train_full, y_test =  train_test_split(x, y, test_size=0.1)                  \n"
      ],
      "metadata": {
        "id": "H6-TQW7fBXLH"
      },
      "execution_count": 20,
      "outputs": []
    },
    {
      "cell_type": "markdown",
      "source": [
        "# feature engineering"
      ],
      "metadata": {
        "id": "mfO3IJSJ5viz"
      }
    },
    {
      "cell_type": "code",
      "source": [
        "# features ideas from  JOSE CÁLIZ   :V kind of looks lame\n",
        "\n",
        "\n",
        "def generate_features(df):\n",
        "    df['age/bmi'] = df.age / df.bmi\n",
        "    df['age*bmi'] = df.age * df.bmi\n",
        "    df['bmi/prime'] = df.bmi / 25\n",
        "    df['obesity'] = df.avg_glucose_level * df.bmi / 1000\n",
        "    df['blood_heart']= df.hypertension * df.heart_disease\n",
        "    return df"
      ],
      "metadata": {
        "id": "jlksrKIE1rrZ"
      },
      "execution_count": 21,
      "outputs": []
    },
    {
      "cell_type": "markdown",
      "source": [
        "# Oversampling smaller class with SMOTE\n",
        "[qinchao's notebook](https://www.kaggle.com/code/qianchao/smote-with-imbalance-data)"
      ],
      "metadata": {
        "id": "K6vxi8lqvIXN"
      }
    },
    {
      "cell_type": "code",
      "source": [
        "print(f\"Before OverSampling, counts of label '1': {sum(y_train_full==1)}\")\n",
        "print(f\"Before OverSampling, counts of label '0': {sum(y_train_full==0)} .\\n\")\n",
        "\n",
        "sm = SMOTE(random_state=2)\n",
        "X_train_res, y_train_res = sm.fit_resample(x_train_full, y_train_full.ravel())\n",
        "\n",
        "print(f'After OverSampling, the shape of train_X: {X_train_res.shape}')\n",
        "print(f'After OverSampling, the shape of train_y: {y_train_res.shape} \\n')\n",
        "\n",
        "print(f\"After OverSampling, counts of label '1': {sum(y_train_res==1)}\")\n",
        "print(f\"After OverSampling, counts of label '0': {sum(y_train_res==0)}\")\n"
      ],
      "metadata": {
        "colab": {
          "base_uri": "https://localhost:8080/"
        },
        "id": "ti01yvPEvJXl",
        "outputId": "0b2e4894-91f4-421c-957f-e1120cea316e"
      },
      "execution_count": 26,
      "outputs": [
        {
          "output_type": "stream",
          "name": "stdout",
          "text": [
            "Before OverSampling, counts of label '1': 795\n",
            "Before OverSampling, counts of label '0': 17577 .\n",
            "\n",
            "After OverSampling, the shape of train_X: (35154, 14)\n",
            "After OverSampling, the shape of train_y: (35154,) \n",
            "\n",
            "After OverSampling, counts of label '1': 17577\n",
            "After OverSampling, counts of label '0': 17577\n"
          ]
        }
      ]
    },
    {
      "cell_type": "code",
      "source": [
        "val_size = 3500\n",
        "x_valid, x_train =  X_train_res[:val_size], X_train_res[val_size:]\n",
        "y_valid, y_train =  y_train_res[:val_size], y_train_res[val_size:]"
      ],
      "metadata": {
        "id": "cvSlY82RxbgA"
      },
      "execution_count": 27,
      "outputs": []
    },
    {
      "cell_type": "code",
      "source": [
        "# specify the parameter grid for the xgboost regressor\n",
        "param_grid = {'n_estimators': range(100,300),\n",
        "              'learning_rate': np.linspace(0.01,1,101),\n",
        "}\n",
        "\n",
        "# create the regressor\n",
        "xgbr = XGBRegressor(random_state=42)\n",
        "\n",
        "# create the randomized search\n",
        "random_search = RandomizedSearchCV(xgbr, param_grid, n_iter=10, cv=5, random_state=42, n_jobs=-1)\n",
        "#random_search.fit(X_train_res, y_train_res)\n",
        "#random_search.best_params_\n"
      ],
      "metadata": {
        "id": "2d0oJVt1wS23"
      },
      "execution_count": 28,
      "outputs": []
    },
    {
      "cell_type": "code",
      "source": [
        "#xgb_better = XGBRegressor(n_estimators=300, learning_rate = 0.01) # getting 0.83!\n",
        "#xgb_better = random_search.best_estimator_   # bad"
      ],
      "metadata": {
        "id": "2dm1ZJIJ20Xs"
      },
      "execution_count": 29,
      "outputs": []
    },
    {
      "cell_type": "code",
      "source": [
        "xgb_better = XGBRegressor(n_estimators=300, learning_rate = 0.001)\n",
        "xgb_better.fit(X_train_res, y_train_res)\n",
        "preds = xgb_better.predict(x_test)\n",
        "roc_auc_score(y_test, preds)"
      ],
      "metadata": {
        "colab": {
          "base_uri": "https://localhost:8080/"
        },
        "id": "uSE3Zda320ay",
        "outputId": "88ca0b31-f628-4581-b448-1b48823609b8"
      },
      "execution_count": 30,
      "outputs": [
        {
          "output_type": "stream",
          "name": "stdout",
          "text": [
            "[17:11:33] WARNING: /workspace/src/objective/regression_obj.cu:152: reg:linear is now deprecated in favor of reg:squarederror.\n"
          ]
        },
        {
          "output_type": "execute_result",
          "data": {
            "text/plain": [
              "0.838576592000761"
            ]
          },
          "metadata": {},
          "execution_count": 30
        }
      ]
    },
    {
      "cell_type": "code",
      "source": [
        "#kaggle_submission(xgb_better,test,\"xgb after deleting features\")"
      ],
      "metadata": {
        "id": "3HLOImkFBXTe"
      },
      "execution_count": 31,
      "outputs": []
    },
    {
      "cell_type": "code",
      "source": [
        "def ft_importances(importances, train_df):\n",
        "  for i, pct in enumerate(importances):\n",
        "    print(f\"{train_df.columns[i]} : {round(pct,4)}\")\n",
        "\n",
        "ft_importances(xgb_better.feature_importances_, X_train_res)"
      ],
      "metadata": {
        "colab": {
          "base_uri": "https://localhost:8080/"
        },
        "id": "y7sMooDU8rny",
        "outputId": "15cec95b-7c66-43e7-f604-79e9497356fa"
      },
      "execution_count": 32,
      "outputs": [
        {
          "output_type": "stream",
          "name": "stdout",
          "text": [
            "age : 0.5781999826431274\n",
            "hypertension : 0.0\n",
            "heart_disease : 0.0\n",
            "avg_glucose_level : 0.0\n",
            "bmi : 0.0\n",
            "gender_Male : 0.03290000185370445\n",
            "ever_married_Yes : 0.022199999541044235\n",
            "work_type_Never_worked : 0.0\n",
            "work_type_Private : 0.0\n",
            "work_type_Self-employed : 0.08290000259876251\n",
            "Residence_type_Urban : 0.02930000051856041\n",
            "smoking_status_formerly smoked : 0.10610000044107437\n",
            "smoking_status_never smoked : 0.148499995470047\n",
            "smoking_status_smokes : 0.0\n"
          ]
        }
      ]
    },
    {
      "cell_type": "code",
      "source": [
        "cat_boost = CatBoostRegressor(random_seed = 33, n_estimators=300, max_depth=2, learning_rate = 0.005)\n",
        "cat_boost.fit(X_train_res, y_train_res)\n",
        "preds = cat_boost.predict(x_test)\n",
        "roc_auc_score(y_test, preds)"
      ],
      "metadata": {
        "colab": {
          "base_uri": "https://localhost:8080/"
        },
        "id": "nECjLGFI8rt3",
        "outputId": "306cc6a1-6461-474c-c5e4-a7ea5430d51b"
      },
      "execution_count": 33,
      "outputs": [
        {
          "output_type": "stream",
          "name": "stdout",
          "text": [
            "0:\tlearn: 0.4989467\ttotal: 57.5ms\tremaining: 17.2s\n",
            "1:\tlearn: 0.4979063\ttotal: 62.9ms\tremaining: 9.37s\n",
            "2:\tlearn: 0.4968693\ttotal: 67.1ms\tremaining: 6.64s\n",
            "3:\tlearn: 0.4958956\ttotal: 70.6ms\tremaining: 5.22s\n",
            "4:\tlearn: 0.4948735\ttotal: 76.3ms\tremaining: 4.5s\n",
            "5:\tlearn: 0.4938489\ttotal: 84.9ms\tremaining: 4.16s\n",
            "6:\tlearn: 0.4928467\ttotal: 89.7ms\tremaining: 3.76s\n",
            "7:\tlearn: 0.4918657\ttotal: 98.2ms\tremaining: 3.58s\n",
            "8:\tlearn: 0.4908751\ttotal: 107ms\tremaining: 3.45s\n",
            "9:\tlearn: 0.4898868\ttotal: 119ms\tremaining: 3.45s\n",
            "10:\tlearn: 0.4889104\ttotal: 125ms\tremaining: 3.28s\n",
            "11:\tlearn: 0.4879313\ttotal: 133ms\tremaining: 3.2s\n",
            "12:\tlearn: 0.4869623\ttotal: 146ms\tremaining: 3.23s\n",
            "13:\tlearn: 0.4860451\ttotal: 155ms\tremaining: 3.17s\n",
            "14:\tlearn: 0.4851033\ttotal: 160ms\tremaining: 3.04s\n",
            "15:\tlearn: 0.4841686\ttotal: 169ms\tremaining: 3s\n",
            "16:\tlearn: 0.4832461\ttotal: 176ms\tremaining: 2.93s\n",
            "17:\tlearn: 0.4823230\ttotal: 185ms\tremaining: 2.9s\n",
            "18:\tlearn: 0.4814155\ttotal: 193ms\tremaining: 2.86s\n",
            "19:\tlearn: 0.4804954\ttotal: 204ms\tremaining: 2.86s\n",
            "20:\tlearn: 0.4796126\ttotal: 215ms\tremaining: 2.85s\n",
            "21:\tlearn: 0.4787260\ttotal: 219ms\tremaining: 2.77s\n",
            "22:\tlearn: 0.4778915\ttotal: 232ms\tremaining: 2.8s\n",
            "23:\tlearn: 0.4770114\ttotal: 241ms\tremaining: 2.77s\n",
            "24:\tlearn: 0.4761598\ttotal: 250ms\tremaining: 2.75s\n",
            "25:\tlearn: 0.4752880\ttotal: 256ms\tremaining: 2.69s\n",
            "26:\tlearn: 0.4744271\ttotal: 264ms\tremaining: 2.67s\n",
            "27:\tlearn: 0.4735647\ttotal: 275ms\tremaining: 2.67s\n",
            "28:\tlearn: 0.4727355\ttotal: 286ms\tremaining: 2.68s\n",
            "29:\tlearn: 0.4719143\ttotal: 291ms\tremaining: 2.62s\n",
            "30:\tlearn: 0.4710887\ttotal: 300ms\tremaining: 2.6s\n",
            "31:\tlearn: 0.4702792\ttotal: 310ms\tremaining: 2.59s\n",
            "32:\tlearn: 0.4694938\ttotal: 317ms\tremaining: 2.57s\n",
            "33:\tlearn: 0.4686651\ttotal: 326ms\tremaining: 2.55s\n",
            "34:\tlearn: 0.4678871\ttotal: 339ms\tremaining: 2.57s\n",
            "35:\tlearn: 0.4671010\ttotal: 348ms\tremaining: 2.55s\n",
            "36:\tlearn: 0.4663503\ttotal: 354ms\tremaining: 2.52s\n",
            "37:\tlearn: 0.4655882\ttotal: 361ms\tremaining: 2.49s\n",
            "38:\tlearn: 0.4648291\ttotal: 372ms\tremaining: 2.49s\n",
            "39:\tlearn: 0.4640571\ttotal: 379ms\tremaining: 2.46s\n",
            "40:\tlearn: 0.4633091\ttotal: 392ms\tremaining: 2.47s\n",
            "41:\tlearn: 0.4625424\ttotal: 396ms\tremaining: 2.43s\n",
            "42:\tlearn: 0.4617984\ttotal: 405ms\tremaining: 2.42s\n",
            "43:\tlearn: 0.4610672\ttotal: 418ms\tremaining: 2.43s\n",
            "44:\tlearn: 0.4603172\ttotal: 427ms\tremaining: 2.42s\n",
            "45:\tlearn: 0.4595531\ttotal: 432ms\tremaining: 2.38s\n",
            "46:\tlearn: 0.4588070\ttotal: 444ms\tremaining: 2.39s\n",
            "47:\tlearn: 0.4580904\ttotal: 456ms\tremaining: 2.4s\n",
            "48:\tlearn: 0.4573956\ttotal: 469ms\tremaining: 2.4s\n",
            "49:\tlearn: 0.4566783\ttotal: 473ms\tremaining: 2.37s\n",
            "50:\tlearn: 0.4559866\ttotal: 486ms\tremaining: 2.37s\n",
            "51:\tlearn: 0.4553108\ttotal: 491ms\tremaining: 2.34s\n",
            "52:\tlearn: 0.4546182\ttotal: 506ms\tremaining: 2.36s\n",
            "53:\tlearn: 0.4539531\ttotal: 517ms\tremaining: 2.35s\n",
            "54:\tlearn: 0.4532787\ttotal: 524ms\tremaining: 2.33s\n",
            "55:\tlearn: 0.4526088\ttotal: 536ms\tremaining: 2.33s\n",
            "56:\tlearn: 0.4519589\ttotal: 545ms\tremaining: 2.32s\n",
            "57:\tlearn: 0.4512835\ttotal: 550ms\tremaining: 2.29s\n",
            "58:\tlearn: 0.4506301\ttotal: 563ms\tremaining: 2.3s\n",
            "59:\tlearn: 0.4499819\ttotal: 572ms\tremaining: 2.29s\n",
            "60:\tlearn: 0.4493182\ttotal: 581ms\tremaining: 2.28s\n",
            "61:\tlearn: 0.4486547\ttotal: 586ms\tremaining: 2.25s\n",
            "62:\tlearn: 0.4480162\ttotal: 599ms\tremaining: 2.25s\n",
            "63:\tlearn: 0.4473893\ttotal: 604ms\tremaining: 2.23s\n",
            "64:\tlearn: 0.4467604\ttotal: 616ms\tremaining: 2.23s\n",
            "65:\tlearn: 0.4461412\ttotal: 622ms\tremaining: 2.21s\n",
            "66:\tlearn: 0.4455319\ttotal: 635ms\tremaining: 2.21s\n",
            "67:\tlearn: 0.4448953\ttotal: 644ms\tremaining: 2.2s\n",
            "68:\tlearn: 0.4442579\ttotal: 650ms\tremaining: 2.18s\n",
            "69:\tlearn: 0.4436505\ttotal: 661ms\tremaining: 2.17s\n",
            "70:\tlearn: 0.4430306\ttotal: 668ms\tremaining: 2.15s\n",
            "71:\tlearn: 0.4424119\ttotal: 674ms\tremaining: 2.13s\n",
            "72:\tlearn: 0.4418127\ttotal: 681ms\tremaining: 2.12s\n",
            "73:\tlearn: 0.4412255\ttotal: 691ms\tremaining: 2.11s\n",
            "74:\tlearn: 0.4406570\ttotal: 702ms\tremaining: 2.11s\n",
            "75:\tlearn: 0.4400566\ttotal: 713ms\tremaining: 2.1s\n",
            "76:\tlearn: 0.4394817\ttotal: 722ms\tremaining: 2.09s\n",
            "77:\tlearn: 0.4389024\ttotal: 732ms\tremaining: 2.08s\n",
            "78:\tlearn: 0.4383289\ttotal: 742ms\tremaining: 2.07s\n",
            "79:\tlearn: 0.4377639\ttotal: 751ms\tremaining: 2.06s\n",
            "80:\tlearn: 0.4371941\ttotal: 761ms\tremaining: 2.06s\n",
            "81:\tlearn: 0.4366287\ttotal: 766ms\tremaining: 2.04s\n",
            "82:\tlearn: 0.4360596\ttotal: 780ms\tremaining: 2.04s\n",
            "83:\tlearn: 0.4354997\ttotal: 786ms\tremaining: 2.02s\n",
            "84:\tlearn: 0.4349552\ttotal: 798ms\tremaining: 2.02s\n",
            "85:\tlearn: 0.4344199\ttotal: 808ms\tremaining: 2.01s\n",
            "86:\tlearn: 0.4338713\ttotal: 817ms\tremaining: 2s\n",
            "87:\tlearn: 0.4333383\ttotal: 828ms\tremaining: 2s\n",
            "88:\tlearn: 0.4328263\ttotal: 834ms\tremaining: 1.98s\n",
            "89:\tlearn: 0.4322815\ttotal: 843ms\tremaining: 1.97s\n",
            "90:\tlearn: 0.4317650\ttotal: 854ms\tremaining: 1.96s\n",
            "91:\tlearn: 0.4312332\ttotal: 863ms\tremaining: 1.95s\n",
            "92:\tlearn: 0.4307044\ttotal: 870ms\tremaining: 1.94s\n",
            "93:\tlearn: 0.4301706\ttotal: 880ms\tremaining: 1.93s\n",
            "94:\tlearn: 0.4296749\ttotal: 893ms\tremaining: 1.93s\n",
            "95:\tlearn: 0.4291758\ttotal: 902ms\tremaining: 1.92s\n",
            "96:\tlearn: 0.4286785\ttotal: 912ms\tremaining: 1.91s\n",
            "97:\tlearn: 0.4281647\ttotal: 923ms\tremaining: 1.9s\n",
            "98:\tlearn: 0.4276599\ttotal: 930ms\tremaining: 1.89s\n",
            "99:\tlearn: 0.4271733\ttotal: 940ms\tremaining: 1.88s\n",
            "100:\tlearn: 0.4266867\ttotal: 949ms\tremaining: 1.87s\n",
            "101:\tlearn: 0.4262121\ttotal: 954ms\tremaining: 1.85s\n",
            "102:\tlearn: 0.4257213\ttotal: 963ms\tremaining: 1.84s\n",
            "103:\tlearn: 0.4252468\ttotal: 971ms\tremaining: 1.83s\n",
            "104:\tlearn: 0.4247736\ttotal: 983ms\tremaining: 1.82s\n",
            "105:\tlearn: 0.4243023\ttotal: 992ms\tremaining: 1.81s\n",
            "106:\tlearn: 0.4238350\ttotal: 1s\tremaining: 1.8s\n",
            "107:\tlearn: 0.4233760\ttotal: 1.01s\tremaining: 1.8s\n",
            "108:\tlearn: 0.4229155\ttotal: 1.02s\tremaining: 1.79s\n",
            "109:\tlearn: 0.4224495\ttotal: 1.03s\tremaining: 1.78s\n",
            "110:\tlearn: 0.4220095\ttotal: 1.04s\tremaining: 1.77s\n",
            "111:\tlearn: 0.4215511\ttotal: 1.05s\tremaining: 1.76s\n",
            "112:\tlearn: 0.4211170\ttotal: 1.06s\tremaining: 1.76s\n",
            "113:\tlearn: 0.4206826\ttotal: 1.07s\tremaining: 1.75s\n",
            "114:\tlearn: 0.4202308\ttotal: 1.08s\tremaining: 1.74s\n",
            "115:\tlearn: 0.4197974\ttotal: 1.09s\tremaining: 1.73s\n",
            "116:\tlearn: 0.4193565\ttotal: 1.1s\tremaining: 1.72s\n",
            "117:\tlearn: 0.4189299\ttotal: 1.1s\tremaining: 1.7s\n",
            "118:\tlearn: 0.4185013\ttotal: 1.12s\tremaining: 1.7s\n",
            "119:\tlearn: 0.4180587\ttotal: 1.13s\tremaining: 1.69s\n",
            "120:\tlearn: 0.4176369\ttotal: 1.14s\tremaining: 1.68s\n",
            "121:\tlearn: 0.4172086\ttotal: 1.15s\tremaining: 1.67s\n",
            "122:\tlearn: 0.4167843\ttotal: 1.16s\tremaining: 1.66s\n",
            "123:\tlearn: 0.4163533\ttotal: 1.17s\tremaining: 1.65s\n",
            "124:\tlearn: 0.4159444\ttotal: 1.18s\tremaining: 1.65s\n",
            "125:\tlearn: 0.4155332\ttotal: 1.19s\tremaining: 1.64s\n",
            "126:\tlearn: 0.4151321\ttotal: 1.19s\tremaining: 1.62s\n",
            "127:\tlearn: 0.4147121\ttotal: 1.19s\tremaining: 1.6s\n",
            "128:\tlearn: 0.4142953\ttotal: 1.19s\tremaining: 1.58s\n",
            "129:\tlearn: 0.4138931\ttotal: 1.2s\tremaining: 1.57s\n",
            "130:\tlearn: 0.4134965\ttotal: 1.2s\tremaining: 1.55s\n",
            "131:\tlearn: 0.4131072\ttotal: 1.21s\tremaining: 1.53s\n",
            "132:\tlearn: 0.4127188\ttotal: 1.21s\tremaining: 1.52s\n",
            "133:\tlearn: 0.4123150\ttotal: 1.22s\tremaining: 1.51s\n",
            "134:\tlearn: 0.4119152\ttotal: 1.22s\tremaining: 1.49s\n",
            "135:\tlearn: 0.4115190\ttotal: 1.22s\tremaining: 1.48s\n",
            "136:\tlearn: 0.4111411\ttotal: 1.23s\tremaining: 1.46s\n",
            "137:\tlearn: 0.4107563\ttotal: 1.23s\tremaining: 1.44s\n",
            "138:\tlearn: 0.4103739\ttotal: 1.23s\tremaining: 1.43s\n",
            "139:\tlearn: 0.4099960\ttotal: 1.24s\tremaining: 1.41s\n",
            "140:\tlearn: 0.4096133\ttotal: 1.24s\tremaining: 1.4s\n",
            "141:\tlearn: 0.4092454\ttotal: 1.24s\tremaining: 1.38s\n",
            "142:\tlearn: 0.4088721\ttotal: 1.25s\tremaining: 1.37s\n",
            "143:\tlearn: 0.4084960\ttotal: 1.25s\tremaining: 1.35s\n",
            "144:\tlearn: 0.4081470\ttotal: 1.25s\tremaining: 1.34s\n",
            "145:\tlearn: 0.4077779\ttotal: 1.25s\tremaining: 1.32s\n",
            "146:\tlearn: 0.4074070\ttotal: 1.26s\tremaining: 1.31s\n",
            "147:\tlearn: 0.4070477\ttotal: 1.26s\tremaining: 1.3s\n",
            "148:\tlearn: 0.4066997\ttotal: 1.27s\tremaining: 1.28s\n",
            "149:\tlearn: 0.4063522\ttotal: 1.27s\tremaining: 1.27s\n",
            "150:\tlearn: 0.4059917\ttotal: 1.27s\tremaining: 1.26s\n",
            "151:\tlearn: 0.4056491\ttotal: 1.28s\tremaining: 1.24s\n",
            "152:\tlearn: 0.4053041\ttotal: 1.28s\tremaining: 1.23s\n",
            "153:\tlearn: 0.4049631\ttotal: 1.28s\tremaining: 1.22s\n",
            "154:\tlearn: 0.4046240\ttotal: 1.29s\tremaining: 1.2s\n",
            "155:\tlearn: 0.4042841\ttotal: 1.29s\tremaining: 1.19s\n",
            "156:\tlearn: 0.4039522\ttotal: 1.29s\tremaining: 1.18s\n",
            "157:\tlearn: 0.4036241\ttotal: 1.3s\tremaining: 1.17s\n",
            "158:\tlearn: 0.4032817\ttotal: 1.3s\tremaining: 1.15s\n",
            "159:\tlearn: 0.4029451\ttotal: 1.3s\tremaining: 1.14s\n",
            "160:\tlearn: 0.4026228\ttotal: 1.31s\tremaining: 1.13s\n",
            "161:\tlearn: 0.4022995\ttotal: 1.31s\tremaining: 1.11s\n",
            "162:\tlearn: 0.4019826\ttotal: 1.31s\tremaining: 1.1s\n",
            "163:\tlearn: 0.4016567\ttotal: 1.31s\tremaining: 1.09s\n",
            "164:\tlearn: 0.4013486\ttotal: 1.32s\tremaining: 1.08s\n",
            "165:\tlearn: 0.4010355\ttotal: 1.32s\tremaining: 1.07s\n",
            "166:\tlearn: 0.4007159\ttotal: 1.32s\tremaining: 1.05s\n",
            "167:\tlearn: 0.4003939\ttotal: 1.33s\tremaining: 1.04s\n",
            "168:\tlearn: 0.4000832\ttotal: 1.33s\tremaining: 1.03s\n",
            "169:\tlearn: 0.3997854\ttotal: 1.33s\tremaining: 1.02s\n",
            "170:\tlearn: 0.3994855\ttotal: 1.34s\tremaining: 1.01s\n",
            "171:\tlearn: 0.3991869\ttotal: 1.35s\tremaining: 1s\n",
            "172:\tlearn: 0.3988741\ttotal: 1.35s\tremaining: 995ms\n",
            "173:\tlearn: 0.3985645\ttotal: 1.36s\tremaining: 983ms\n",
            "174:\tlearn: 0.3982695\ttotal: 1.36s\tremaining: 972ms\n",
            "175:\tlearn: 0.3979701\ttotal: 1.36s\tremaining: 961ms\n",
            "176:\tlearn: 0.3976661\ttotal: 1.37s\tremaining: 951ms\n",
            "177:\tlearn: 0.3973648\ttotal: 1.37s\tremaining: 940ms\n",
            "178:\tlearn: 0.3970743\ttotal: 1.37s\tremaining: 929ms\n",
            "179:\tlearn: 0.3967883\ttotal: 1.38s\tremaining: 918ms\n",
            "180:\tlearn: 0.3964927\ttotal: 1.38s\tremaining: 908ms\n",
            "181:\tlearn: 0.3962180\ttotal: 1.39s\tremaining: 898ms\n",
            "182:\tlearn: 0.3959517\ttotal: 1.39s\tremaining: 888ms\n",
            "183:\tlearn: 0.3956778\ttotal: 1.39s\tremaining: 878ms\n",
            "184:\tlearn: 0.3953998\ttotal: 1.4s\tremaining: 867ms\n",
            "185:\tlearn: 0.3951138\ttotal: 1.4s\tremaining: 857ms\n",
            "186:\tlearn: 0.3948452\ttotal: 1.41s\tremaining: 849ms\n",
            "187:\tlearn: 0.3945785\ttotal: 1.42s\tremaining: 843ms\n",
            "188:\tlearn: 0.3942974\ttotal: 1.42s\tremaining: 833ms\n",
            "189:\tlearn: 0.3940202\ttotal: 1.42s\tremaining: 823ms\n",
            "190:\tlearn: 0.3937493\ttotal: 1.43s\tremaining: 813ms\n",
            "191:\tlearn: 0.3934736\ttotal: 1.43s\tremaining: 804ms\n",
            "192:\tlearn: 0.3932026\ttotal: 1.43s\tremaining: 794ms\n",
            "193:\tlearn: 0.3929360\ttotal: 1.43s\tremaining: 784ms\n",
            "194:\tlearn: 0.3926715\ttotal: 1.44s\tremaining: 774ms\n",
            "195:\tlearn: 0.3924144\ttotal: 1.44s\tremaining: 765ms\n",
            "196:\tlearn: 0.3921570\ttotal: 1.44s\tremaining: 755ms\n",
            "197:\tlearn: 0.3918999\ttotal: 1.45s\tremaining: 746ms\n",
            "198:\tlearn: 0.3916400\ttotal: 1.45s\tremaining: 737ms\n",
            "199:\tlearn: 0.3913906\ttotal: 1.46s\tremaining: 728ms\n",
            "200:\tlearn: 0.3911384\ttotal: 1.46s\tremaining: 719ms\n",
            "201:\tlearn: 0.3908866\ttotal: 1.47s\tremaining: 711ms\n",
            "202:\tlearn: 0.3906373\ttotal: 1.47s\tremaining: 702ms\n",
            "203:\tlearn: 0.3903854\ttotal: 1.47s\tremaining: 693ms\n",
            "204:\tlearn: 0.3901484\ttotal: 1.48s\tremaining: 684ms\n",
            "205:\tlearn: 0.3898984\ttotal: 1.48s\tremaining: 675ms\n",
            "206:\tlearn: 0.3896555\ttotal: 1.48s\tremaining: 666ms\n",
            "207:\tlearn: 0.3894124\ttotal: 1.49s\tremaining: 657ms\n",
            "208:\tlearn: 0.3891724\ttotal: 1.49s\tremaining: 648ms\n",
            "209:\tlearn: 0.3889387\ttotal: 1.49s\tremaining: 640ms\n",
            "210:\tlearn: 0.3887005\ttotal: 1.5s\tremaining: 631ms\n",
            "211:\tlearn: 0.3884566\ttotal: 1.5s\tremaining: 622ms\n",
            "212:\tlearn: 0.3882341\ttotal: 1.5s\tremaining: 614ms\n",
            "213:\tlearn: 0.3879992\ttotal: 1.5s\tremaining: 605ms\n",
            "214:\tlearn: 0.3877650\ttotal: 1.51s\tremaining: 596ms\n",
            "215:\tlearn: 0.3875407\ttotal: 1.51s\tremaining: 588ms\n",
            "216:\tlearn: 0.3873047\ttotal: 1.51s\tremaining: 580ms\n",
            "217:\tlearn: 0.3870725\ttotal: 1.52s\tremaining: 571ms\n",
            "218:\tlearn: 0.3868391\ttotal: 1.52s\tremaining: 563ms\n",
            "219:\tlearn: 0.3866065\ttotal: 1.52s\tremaining: 555ms\n",
            "220:\tlearn: 0.3863848\ttotal: 1.53s\tremaining: 546ms\n",
            "221:\tlearn: 0.3861628\ttotal: 1.53s\tremaining: 538ms\n",
            "222:\tlearn: 0.3859330\ttotal: 1.53s\tremaining: 530ms\n",
            "223:\tlearn: 0.3857059\ttotal: 1.54s\tremaining: 522ms\n",
            "224:\tlearn: 0.3854810\ttotal: 1.54s\tremaining: 514ms\n",
            "225:\tlearn: 0.3852642\ttotal: 1.54s\tremaining: 506ms\n",
            "226:\tlearn: 0.3850508\ttotal: 1.55s\tremaining: 498ms\n",
            "227:\tlearn: 0.3848318\ttotal: 1.55s\tremaining: 490ms\n",
            "228:\tlearn: 0.3846183\ttotal: 1.55s\tremaining: 482ms\n",
            "229:\tlearn: 0.3844120\ttotal: 1.56s\tremaining: 474ms\n",
            "230:\tlearn: 0.3842024\ttotal: 1.56s\tremaining: 466ms\n",
            "231:\tlearn: 0.3839805\ttotal: 1.56s\tremaining: 458ms\n",
            "232:\tlearn: 0.3837738\ttotal: 1.57s\tremaining: 450ms\n",
            "233:\tlearn: 0.3835563\ttotal: 1.57s\tremaining: 443ms\n",
            "234:\tlearn: 0.3833408\ttotal: 1.57s\tremaining: 435ms\n",
            "235:\tlearn: 0.3831309\ttotal: 1.57s\tremaining: 427ms\n",
            "236:\tlearn: 0.3829224\ttotal: 1.58s\tremaining: 420ms\n",
            "237:\tlearn: 0.3827098\ttotal: 1.58s\tremaining: 412ms\n",
            "238:\tlearn: 0.3825105\ttotal: 1.58s\tremaining: 405ms\n",
            "239:\tlearn: 0.3823131\ttotal: 1.59s\tremaining: 397ms\n",
            "240:\tlearn: 0.3821107\ttotal: 1.59s\tremaining: 390ms\n",
            "241:\tlearn: 0.3819036\ttotal: 1.59s\tremaining: 382ms\n",
            "242:\tlearn: 0.3817005\ttotal: 1.6s\tremaining: 376ms\n",
            "243:\tlearn: 0.3814949\ttotal: 1.6s\tremaining: 368ms\n",
            "244:\tlearn: 0.3812946\ttotal: 1.61s\tremaining: 361ms\n",
            "245:\tlearn: 0.3811056\ttotal: 1.61s\tremaining: 354ms\n",
            "246:\tlearn: 0.3809026\ttotal: 1.61s\tremaining: 346ms\n",
            "247:\tlearn: 0.3807040\ttotal: 1.62s\tremaining: 339ms\n",
            "248:\tlearn: 0.3805096\ttotal: 1.62s\tremaining: 332ms\n",
            "249:\tlearn: 0.3803190\ttotal: 1.62s\tremaining: 325ms\n",
            "250:\tlearn: 0.3801212\ttotal: 1.63s\tremaining: 318ms\n",
            "251:\tlearn: 0.3799325\ttotal: 1.63s\tremaining: 311ms\n",
            "252:\tlearn: 0.3797372\ttotal: 1.63s\tremaining: 303ms\n",
            "253:\tlearn: 0.3795426\ttotal: 1.64s\tremaining: 296ms\n",
            "254:\tlearn: 0.3793599\ttotal: 1.64s\tremaining: 289ms\n",
            "255:\tlearn: 0.3791700\ttotal: 1.64s\tremaining: 282ms\n",
            "256:\tlearn: 0.3789765\ttotal: 1.65s\tremaining: 276ms\n",
            "257:\tlearn: 0.3787871\ttotal: 1.65s\tremaining: 269ms\n",
            "258:\tlearn: 0.3786100\ttotal: 1.65s\tremaining: 262ms\n",
            "259:\tlearn: 0.3784321\ttotal: 1.66s\tremaining: 255ms\n",
            "260:\tlearn: 0.3782439\ttotal: 1.66s\tremaining: 248ms\n",
            "261:\tlearn: 0.3780711\ttotal: 1.67s\tremaining: 242ms\n",
            "262:\tlearn: 0.3779003\ttotal: 1.67s\tremaining: 235ms\n",
            "263:\tlearn: 0.3777211\ttotal: 1.67s\tremaining: 228ms\n",
            "264:\tlearn: 0.3775523\ttotal: 1.68s\tremaining: 221ms\n",
            "265:\tlearn: 0.3773800\ttotal: 1.68s\tremaining: 215ms\n",
            "266:\tlearn: 0.3772136\ttotal: 1.68s\tremaining: 208ms\n",
            "267:\tlearn: 0.3770375\ttotal: 1.69s\tremaining: 201ms\n",
            "268:\tlearn: 0.3768689\ttotal: 1.69s\tremaining: 195ms\n",
            "269:\tlearn: 0.3766900\ttotal: 1.69s\tremaining: 188ms\n",
            "270:\tlearn: 0.3765147\ttotal: 1.7s\tremaining: 181ms\n",
            "271:\tlearn: 0.3763518\ttotal: 1.7s\tremaining: 175ms\n",
            "272:\tlearn: 0.3761906\ttotal: 1.7s\tremaining: 168ms\n",
            "273:\tlearn: 0.3760228\ttotal: 1.71s\tremaining: 162ms\n",
            "274:\tlearn: 0.3758505\ttotal: 1.71s\tremaining: 155ms\n",
            "275:\tlearn: 0.3756762\ttotal: 1.71s\tremaining: 149ms\n",
            "276:\tlearn: 0.3755158\ttotal: 1.71s\tremaining: 142ms\n",
            "277:\tlearn: 0.3753485\ttotal: 1.72s\tremaining: 136ms\n",
            "278:\tlearn: 0.3751851\ttotal: 1.72s\tremaining: 130ms\n",
            "279:\tlearn: 0.3750278\ttotal: 1.72s\tremaining: 123ms\n",
            "280:\tlearn: 0.3748629\ttotal: 1.73s\tremaining: 117ms\n",
            "281:\tlearn: 0.3747031\ttotal: 1.73s\tremaining: 110ms\n",
            "282:\tlearn: 0.3745424\ttotal: 1.73s\tremaining: 104ms\n",
            "283:\tlearn: 0.3743822\ttotal: 1.74s\tremaining: 97.9ms\n",
            "284:\tlearn: 0.3742195\ttotal: 1.74s\tremaining: 91.8ms\n",
            "285:\tlearn: 0.3740579\ttotal: 1.75s\tremaining: 85.6ms\n",
            "286:\tlearn: 0.3739014\ttotal: 1.75s\tremaining: 79.5ms\n",
            "287:\tlearn: 0.3737497\ttotal: 1.76s\tremaining: 73.3ms\n",
            "288:\tlearn: 0.3735994\ttotal: 1.76s\tremaining: 67.1ms\n",
            "289:\tlearn: 0.3734442\ttotal: 1.77s\tremaining: 60.9ms\n",
            "290:\tlearn: 0.3732825\ttotal: 1.77s\tremaining: 54.8ms\n",
            "291:\tlearn: 0.3731213\ttotal: 1.77s\tremaining: 48.6ms\n",
            "292:\tlearn: 0.3729645\ttotal: 1.78s\tremaining: 42.5ms\n",
            "293:\tlearn: 0.3728126\ttotal: 1.78s\tremaining: 36.3ms\n",
            "294:\tlearn: 0.3726578\ttotal: 1.78s\tremaining: 30.2ms\n",
            "295:\tlearn: 0.3725093\ttotal: 1.79s\tremaining: 24.1ms\n",
            "296:\tlearn: 0.3723611\ttotal: 1.79s\tremaining: 18.1ms\n",
            "297:\tlearn: 0.3722150\ttotal: 1.79s\tremaining: 12ms\n",
            "298:\tlearn: 0.3720717\ttotal: 1.8s\tremaining: 6.02ms\n",
            "299:\tlearn: 0.3719222\ttotal: 1.8s\tremaining: 0us\n"
          ]
        },
        {
          "output_type": "execute_result",
          "data": {
            "text/plain": [
              "0.8348641032957625"
            ]
          },
          "metadata": {},
          "execution_count": 33
        }
      ]
    },
    {
      "cell_type": "code",
      "source": [
        "#kaggle_submission(cat_boost ,test,\"catboost\")"
      ],
      "metadata": {
        "id": "Kq7k9QnN8rzX"
      },
      "execution_count": 34,
      "outputs": []
    },
    {
      "cell_type": "code",
      "source": [],
      "metadata": {
        "id": "wDajR_Wy8r2b"
      },
      "execution_count": 34,
      "outputs": []
    }
  ]
}